{
  "nbformat": 4,
  "nbformat_minor": 0,
  "metadata": {
    "colab": {
      "name": "data_manipulation.ipynb",
      "version": "0.3.2",
      "provenance": [],
      "collapsed_sections": [],
      "include_colab_link": true
    },
    "kernelspec": {
      "name": "python3",
      "display_name": "Python 3"
    },
    "accelerator": "GPU"
  },
  "cells": [
    {
      "cell_type": "markdown",
      "metadata": {
        "id": "view-in-github",
        "colab_type": "text"
      },
      "source": [
        "<a href=\"https://colab.research.google.com/github/prasanth5reddy/D2L/blob/master/The%20Basics/data_manipulation.ipynb\" target=\"_parent\"><img src=\"https://colab.research.google.com/assets/colab-badge.svg\" alt=\"Open In Colab\"/></a>"
      ]
    },
    {
      "metadata": {
        "id": "t-t8axWtXkzu",
        "colab_type": "text"
      },
      "cell_type": "markdown",
      "source": [
        "Installing Libraries"
      ]
    },
    {
      "metadata": {
        "id": "clAniqbrXJ6P",
        "colab_type": "code",
        "outputId": "58a51da9-4aef-4410-8b91-11de313f1b1d",
        "colab": {
          "base_uri": "https://localhost:8080/",
          "height": 173
        }
      },
      "cell_type": "code",
      "source": [
        "!pip install mxnet"
      ],
      "execution_count": 1,
      "outputs": [
        {
          "output_type": "stream",
          "text": [
            "Requirement already satisfied: mxnet in /usr/local/lib/python3.6/dist-packages (1.3.1)\n",
            "Requirement already satisfied: requests>=2.20.0 in /usr/local/lib/python3.6/dist-packages (from mxnet) (2.21.0)\n",
            "Requirement already satisfied: numpy<1.15.0,>=1.8.2 in /usr/local/lib/python3.6/dist-packages (from mxnet) (1.14.6)\n",
            "Requirement already satisfied: graphviz<0.9.0,>=0.8.1 in /usr/local/lib/python3.6/dist-packages (from mxnet) (0.8.4)\n",
            "Requirement already satisfied: idna<2.9,>=2.5 in /usr/local/lib/python3.6/dist-packages (from requests>=2.20.0->mxnet) (2.6)\n",
            "Requirement already satisfied: urllib3<1.25,>=1.21.1 in /usr/local/lib/python3.6/dist-packages (from requests>=2.20.0->mxnet) (1.22)\n",
            "Requirement already satisfied: certifi>=2017.4.17 in /usr/local/lib/python3.6/dist-packages (from requests>=2.20.0->mxnet) (2018.11.29)\n",
            "Requirement already satisfied: chardet<3.1.0,>=3.0.2 in /usr/local/lib/python3.6/dist-packages (from requests>=2.20.0->mxnet) (3.0.4)\n"
          ],
          "name": "stdout"
        }
      ]
    },
    {
      "metadata": {
        "id": "kjJ4HtTnX3Bb",
        "colab_type": "text"
      },
      "cell_type": "markdown",
      "source": [
        "Importing Libraries"
      ]
    },
    {
      "metadata": {
        "id": "WXhJKYhdOAdE",
        "colab_type": "code",
        "colab": {}
      },
      "cell_type": "code",
      "source": [
        "import mxnet as mx\n",
        "from mxnet import nd\n",
        "import numpy as np"
      ],
      "execution_count": 0,
      "outputs": []
    },
    {
      "metadata": {
        "id": "6ypklOepNoGC",
        "colab_type": "text"
      },
      "cell_type": "markdown",
      "source": [
        "Getting Started"
      ]
    },
    {
      "metadata": {
        "id": "Uuv1a5DVX0eQ",
        "colab_type": "code",
        "outputId": "6386f48f-a538-467b-d9dd-48606f7e2ed8",
        "colab": {
          "base_uri": "https://localhost:8080/",
          "height": 68
        }
      },
      "cell_type": "code",
      "source": [
        "x = nd.arange(12)\n",
        "x"
      ],
      "execution_count": 3,
      "outputs": [
        {
          "output_type": "execute_result",
          "data": {
            "text/plain": [
              "\n",
              "[ 0.  1.  2.  3.  4.  5.  6.  7.  8.  9. 10. 11.]\n",
              "<NDArray 12 @cpu(0)>"
            ]
          },
          "metadata": {
            "tags": []
          },
          "execution_count": 3
        }
      ]
    },
    {
      "metadata": {
        "id": "Nt9KyK2nYVXG",
        "colab_type": "code",
        "outputId": "2892309a-30a0-4abb-ede1-67f1cfae6f41",
        "colab": {
          "base_uri": "https://localhost:8080/",
          "height": 102
        }
      },
      "cell_type": "code",
      "source": [
        "x = x.reshape((3, 4))\n",
        "x.reshape?\n",
        "x"
      ],
      "execution_count": 4,
      "outputs": [
        {
          "output_type": "execute_result",
          "data": {
            "text/plain": [
              "\n",
              "[[ 0.  1.  2.  3.]\n",
              " [ 4.  5.  6.  7.]\n",
              " [ 8.  9. 10. 11.]]\n",
              "<NDArray 3x4 @cpu(0)>"
            ]
          },
          "metadata": {
            "tags": []
          },
          "execution_count": 4
        }
      ]
    },
    {
      "metadata": {
        "id": "8Is_kRoGYkL_",
        "colab_type": "code",
        "outputId": "eb9980ab-35bd-4034-b121-e7d41b5f6e52",
        "colab": {
          "base_uri": "https://localhost:8080/",
          "height": 34
        }
      },
      "cell_type": "code",
      "source": [
        "print(x.shape, x.size)"
      ],
      "execution_count": 5,
      "outputs": [
        {
          "output_type": "stream",
          "text": [
            "(3, 4) 12\n"
          ],
          "name": "stdout"
        }
      ]
    },
    {
      "metadata": {
        "id": "kKqsxEHvYoPN",
        "colab_type": "code",
        "outputId": "72a5f083-cb63-4625-aeb8-063aa5003aa9",
        "colab": {
          "base_uri": "https://localhost:8080/",
          "height": 119
        }
      },
      "cell_type": "code",
      "source": [
        "x = nd.arange(14).reshape((3, -1))\n",
        "print(x.shape, x.size)\n",
        "x"
      ],
      "execution_count": 6,
      "outputs": [
        {
          "output_type": "stream",
          "text": [
            "(3, 4) 12\n"
          ],
          "name": "stdout"
        },
        {
          "output_type": "execute_result",
          "data": {
            "text/plain": [
              "\n",
              "[[ 0.  1.  2.  3.]\n",
              " [ 4.  5.  6.  7.]\n",
              " [ 8.  9. 10. 11.]]\n",
              "<NDArray 3x4 @cpu(0)>"
            ]
          },
          "metadata": {
            "tags": []
          },
          "execution_count": 6
        }
      ]
    },
    {
      "metadata": {
        "id": "FKeKXWkcY3dl",
        "colab_type": "code",
        "outputId": "adc38861-238b-47c6-b024-cea77f23ceaa",
        "colab": {
          "base_uri": "https://localhost:8080/",
          "height": 221
        }
      },
      "cell_type": "code",
      "source": [
        "print(nd.zeros((2, 3, 4)), nd.ones((1, 2, 1)))"
      ],
      "execution_count": 7,
      "outputs": [
        {
          "output_type": "stream",
          "text": [
            "\n",
            "[[[0. 0. 0. 0.]\n",
            "  [0. 0. 0. 0.]\n",
            "  [0. 0. 0. 0.]]\n",
            "\n",
            " [[0. 0. 0. 0.]\n",
            "  [0. 0. 0. 0.]\n",
            "  [0. 0. 0. 0.]]]\n",
            "<NDArray 2x3x4 @cpu(0)> \n",
            "[[[1.]\n",
            "  [1.]]]\n",
            "<NDArray 1x2x1 @cpu(0)>\n"
          ],
          "name": "stdout"
        }
      ]
    },
    {
      "metadata": {
        "id": "iGCTbuEgZTr2",
        "colab_type": "code",
        "outputId": "0760f5fd-433e-4667-9d5c-fbf09b429c92",
        "colab": {
          "base_uri": "https://localhost:8080/",
          "height": 102
        }
      },
      "cell_type": "code",
      "source": [
        "nd.random.normal(0, 1, shape=(3, 4))"
      ],
      "execution_count": 8,
      "outputs": [
        {
          "output_type": "execute_result",
          "data": {
            "text/plain": [
              "\n",
              "[[ 2.2122064   0.7740038   1.0434403   1.1839255 ]\n",
              " [ 1.8917114  -1.2347414  -1.771029   -0.45138445]\n",
              " [ 0.57938355 -1.856082   -1.9768796  -0.20801921]]\n",
              "<NDArray 3x4 @cpu(0)>"
            ]
          },
          "metadata": {
            "tags": []
          },
          "execution_count": 8
        }
      ]
    },
    {
      "metadata": {
        "id": "NDdT8GVfOePp",
        "colab_type": "text"
      },
      "cell_type": "markdown",
      "source": [
        "Operations"
      ]
    },
    {
      "metadata": {
        "id": "RBVb2Mx7OfJt",
        "colab_type": "code",
        "colab": {
          "base_uri": "https://localhost:8080/",
          "height": 323
        },
        "outputId": "a2a1e6e2-b99e-49b2-c286-b440d3c042a2"
      },
      "cell_type": "code",
      "source": [
        "x = nd.array([1, 2, 3, 4])\n",
        "y = nd.ones_like(x) * 3\n",
        "print('x =', x)\n",
        "print('y = ', y)\n",
        "print('x + y', x + y)\n",
        "print('x - y', x - y)\n",
        "print('x * y', x * y)\n",
        "print('x / y', x / y)"
      ],
      "execution_count": 9,
      "outputs": [
        {
          "output_type": "stream",
          "text": [
            "x = \n",
            "[1. 2. 3. 4.]\n",
            "<NDArray 4 @cpu(0)>\n",
            "y =  \n",
            "[3. 3. 3. 3.]\n",
            "<NDArray 4 @cpu(0)>\n",
            "x + y \n",
            "[4. 5. 6. 7.]\n",
            "<NDArray 4 @cpu(0)>\n",
            "x - y \n",
            "[-2. -1.  0.  1.]\n",
            "<NDArray 4 @cpu(0)>\n",
            "x * y \n",
            "[ 3.  6.  9. 12.]\n",
            "<NDArray 4 @cpu(0)>\n",
            "x / y \n",
            "[0.33333334 0.6666667  1.         1.3333334 ]\n",
            "<NDArray 4 @cpu(0)>\n"
          ],
          "name": "stdout"
        }
      ]
    },
    {
      "metadata": {
        "id": "msmeQzPlOuaY",
        "colab_type": "code",
        "colab": {
          "base_uri": "https://localhost:8080/",
          "height": 68
        },
        "outputId": "7e215f64-12b1-48b7-d6fe-8f44eb4c71b3"
      },
      "cell_type": "code",
      "source": [
        "x.exp()"
      ],
      "execution_count": 10,
      "outputs": [
        {
          "output_type": "execute_result",
          "data": {
            "text/plain": [
              "\n",
              "[ 2.7182817  7.389056  20.085537  54.59815  ]\n",
              "<NDArray 4 @cpu(0)>"
            ]
          },
          "metadata": {
            "tags": []
          },
          "execution_count": 10
        }
      ]
    },
    {
      "metadata": {
        "id": "sYG63ZD4O3Ir",
        "colab_type": "code",
        "colab": {
          "base_uri": "https://localhost:8080/",
          "height": 289
        },
        "outputId": "167f0c47-0f02-470c-d7cb-744354a8dd3e"
      },
      "cell_type": "code",
      "source": [
        "x = nd.arange(12).reshape((3,4))\n",
        "print(x)\n",
        "y = nd.array([[2, 1, 4, 3], [1, 2, 3, 4], [4, 3, 2, 1]])\n",
        "print(y.T)\n",
        "# matrix multiplication\n",
        "nd.dot(x, y.T)"
      ],
      "execution_count": 11,
      "outputs": [
        {
          "output_type": "stream",
          "text": [
            "\n",
            "[[ 0.  1.  2.  3.]\n",
            " [ 4.  5.  6.  7.]\n",
            " [ 8.  9. 10. 11.]]\n",
            "<NDArray 3x4 @cpu(0)>\n",
            "\n",
            "[[2. 1. 4.]\n",
            " [1. 2. 3.]\n",
            " [4. 3. 2.]\n",
            " [3. 4. 1.]]\n",
            "<NDArray 4x3 @cpu(0)>\n"
          ],
          "name": "stdout"
        },
        {
          "output_type": "execute_result",
          "data": {
            "text/plain": [
              "\n",
              "[[ 18.  20.  10.]\n",
              " [ 58.  60.  50.]\n",
              " [ 98. 100.  90.]]\n",
              "<NDArray 3x3 @cpu(0)>"
            ]
          },
          "metadata": {
            "tags": []
          },
          "execution_count": 11
        }
      ]
    },
    {
      "metadata": {
        "id": "qN_StfsRPBwl",
        "colab_type": "code",
        "colab": {
          "base_uri": "https://localhost:8080/",
          "height": 238
        },
        "outputId": "321f6417-5a92-4f83-ceba-3c5feec881f6"
      },
      "cell_type": "code",
      "source": [
        "print(nd.concat(x, y, dim=0))\n",
        "print(nd.concat(x, y, dim=1))"
      ],
      "execution_count": 12,
      "outputs": [
        {
          "output_type": "stream",
          "text": [
            "\n",
            "[[ 0.  1.  2.  3.]\n",
            " [ 4.  5.  6.  7.]\n",
            " [ 8.  9. 10. 11.]\n",
            " [ 2.  1.  4.  3.]\n",
            " [ 1.  2.  3.  4.]\n",
            " [ 4.  3.  2.  1.]]\n",
            "<NDArray 6x4 @cpu(0)>\n",
            "\n",
            "[[ 0.  1.  2.  3.  2.  1.  4.  3.]\n",
            " [ 4.  5.  6.  7.  1.  2.  3.  4.]\n",
            " [ 8.  9. 10. 11.  4.  3.  2.  1.]]\n",
            "<NDArray 3x8 @cpu(0)>\n"
          ],
          "name": "stdout"
        }
      ]
    },
    {
      "metadata": {
        "id": "woiZNLZIPaLa",
        "colab_type": "code",
        "colab": {
          "base_uri": "https://localhost:8080/",
          "height": 102
        },
        "outputId": "8be2221a-55be-43f0-f052-e625208a840d"
      },
      "cell_type": "code",
      "source": [
        "x == y"
      ],
      "execution_count": 13,
      "outputs": [
        {
          "output_type": "execute_result",
          "data": {
            "text/plain": [
              "\n",
              "[[0. 1. 0. 1.]\n",
              " [0. 0. 0. 0.]\n",
              " [0. 0. 0. 0.]]\n",
              "<NDArray 3x4 @cpu(0)>"
            ]
          },
          "metadata": {
            "tags": []
          },
          "execution_count": 13
        }
      ]
    },
    {
      "metadata": {
        "id": "583tTT7UPlL-",
        "colab_type": "code",
        "colab": {
          "base_uri": "https://localhost:8080/",
          "height": 85
        },
        "outputId": "4086ae3f-fcda-4d76-e6d8-49c66d202573"
      },
      "cell_type": "code",
      "source": [
        "print(x.sum())\n",
        "print(nd.sum(x).asscalar())"
      ],
      "execution_count": 14,
      "outputs": [
        {
          "output_type": "stream",
          "text": [
            "\n",
            "[66.]\n",
            "<NDArray 1 @cpu(0)>\n",
            "66.0\n"
          ],
          "name": "stdout"
        }
      ]
    },
    {
      "metadata": {
        "id": "RHP74-JJRAdg",
        "colab_type": "text"
      },
      "cell_type": "markdown",
      "source": [
        "Broadcast Mechanism"
      ]
    },
    {
      "metadata": {
        "id": "crpSDBCKRD2z",
        "colab_type": "code",
        "colab": {
          "base_uri": "https://localhost:8080/",
          "height": 136
        },
        "outputId": "15a2eb6a-86c4-4a32-c8d1-1795e8c23dfc"
      },
      "cell_type": "code",
      "source": [
        "a = nd.arange(3).reshape((3, 1))\n",
        "b = nd.arange(3).reshape((1, 3))\n",
        "a, b"
      ],
      "execution_count": 15,
      "outputs": [
        {
          "output_type": "execute_result",
          "data": {
            "text/plain": [
              "(\n",
              " [[0.]\n",
              "  [1.]\n",
              "  [2.]]\n",
              " <NDArray 3x1 @cpu(0)>, \n",
              " [[0. 1. 2.]]\n",
              " <NDArray 1x3 @cpu(0)>)"
            ]
          },
          "metadata": {
            "tags": []
          },
          "execution_count": 15
        }
      ]
    },
    {
      "metadata": {
        "id": "z_oHAReYRKVw",
        "colab_type": "code",
        "colab": {
          "base_uri": "https://localhost:8080/",
          "height": 102
        },
        "outputId": "e482c298-0544-4e85-9aa1-aa7a5372ec9b"
      },
      "cell_type": "code",
      "source": [
        "print(a + b)"
      ],
      "execution_count": 16,
      "outputs": [
        {
          "output_type": "stream",
          "text": [
            "\n",
            "[[0. 1. 2.]\n",
            " [1. 2. 3.]\n",
            " [2. 3. 4.]]\n",
            "<NDArray 3x3 @cpu(0)>\n"
          ],
          "name": "stdout"
        }
      ]
    },
    {
      "metadata": {
        "id": "XC7XYGXyRlyl",
        "colab_type": "text"
      },
      "cell_type": "markdown",
      "source": [
        "Indexing and Slicing"
      ]
    },
    {
      "metadata": {
        "id": "uYocUUWMRngE",
        "colab_type": "code",
        "colab": {
          "base_uri": "https://localhost:8080/",
          "height": 85
        },
        "outputId": "4f16a229-2cbc-46a3-8891-6ea561917bfa"
      },
      "cell_type": "code",
      "source": [
        "x[1:3]"
      ],
      "execution_count": 17,
      "outputs": [
        {
          "output_type": "execute_result",
          "data": {
            "text/plain": [
              "\n",
              "[[ 4.  5.  6.  7.]\n",
              " [ 8.  9. 10. 11.]]\n",
              "<NDArray 2x4 @cpu(0)>"
            ]
          },
          "metadata": {
            "tags": []
          },
          "execution_count": 17
        }
      ]
    },
    {
      "metadata": {
        "id": "kD0cEzo4Rrpk",
        "colab_type": "code",
        "colab": {
          "base_uri": "https://localhost:8080/",
          "height": 102
        },
        "outputId": "6e326c6e-b90d-4726-fbed-c85b6391c44b"
      },
      "cell_type": "code",
      "source": [
        "x[2, 2] = 12\n",
        "x"
      ],
      "execution_count": 18,
      "outputs": [
        {
          "output_type": "execute_result",
          "data": {
            "text/plain": [
              "\n",
              "[[ 0.  1.  2.  3.]\n",
              " [ 4.  5.  6.  7.]\n",
              " [ 8.  9. 12. 11.]]\n",
              "<NDArray 3x4 @cpu(0)>"
            ]
          },
          "metadata": {
            "tags": []
          },
          "execution_count": 18
        }
      ]
    },
    {
      "metadata": {
        "id": "uQG8mhjiR5Hb",
        "colab_type": "code",
        "colab": {
          "base_uri": "https://localhost:8080/",
          "height": 102
        },
        "outputId": "e25d6c99-b56c-4729-97aa-5a9b3109cb66"
      },
      "cell_type": "code",
      "source": [
        "x[0:2,1:3] = 15\n",
        "x"
      ],
      "execution_count": 19,
      "outputs": [
        {
          "output_type": "execute_result",
          "data": {
            "text/plain": [
              "\n",
              "[[ 0. 15. 15.  3.]\n",
              " [ 4. 15. 15.  7.]\n",
              " [ 8.  9. 12. 11.]]\n",
              "<NDArray 3x4 @cpu(0)>"
            ]
          },
          "metadata": {
            "tags": []
          },
          "execution_count": 19
        }
      ]
    },
    {
      "metadata": {
        "id": "dHawVhS1SSAN",
        "colab_type": "text"
      },
      "cell_type": "markdown",
      "source": [
        "Saving Memory"
      ]
    },
    {
      "metadata": {
        "id": "pJROMCEISTnp",
        "colab_type": "code",
        "colab": {
          "base_uri": "https://localhost:8080/",
          "height": 51
        },
        "outputId": "2a79d885-1a81-4e50-e7b6-f5e9f7567943"
      },
      "cell_type": "code",
      "source": [
        "before = id(y)\n",
        "y = y + x\n",
        "print(before, id(y))\n",
        "id(y) == before"
      ],
      "execution_count": 20,
      "outputs": [
        {
          "output_type": "stream",
          "text": [
            "140638559993248 140638559990952\n"
          ],
          "name": "stdout"
        },
        {
          "output_type": "execute_result",
          "data": {
            "text/plain": [
              "False"
            ]
          },
          "metadata": {
            "tags": []
          },
          "execution_count": 20
        }
      ]
    },
    {
      "metadata": {
        "id": "WodAAbVJSbSW",
        "colab_type": "code",
        "colab": {
          "base_uri": "https://localhost:8080/",
          "height": 51
        },
        "outputId": "b33a62d5-57f4-4fde-e8a5-ee213569782f"
      },
      "cell_type": "code",
      "source": [
        "# The above type of assigning cause memory leakage. use below instead \n",
        "z = y.zeros_like()\n",
        "print('id(z):', id(z))\n",
        "z[:] = x + y\n",
        "print('id(z):', id(z))"
      ],
      "execution_count": 21,
      "outputs": [
        {
          "output_type": "stream",
          "text": [
            "id(z): 140638559948584\n",
            "id(z): 140638559948584\n"
          ],
          "name": "stdout"
        }
      ]
    },
    {
      "metadata": {
        "id": "nMsZ2GXiSwyu",
        "colab_type": "code",
        "colab": {
          "base_uri": "https://localhost:8080/",
          "height": 34
        },
        "outputId": "cba08e6b-939e-47fe-9b8f-54cae195ff71"
      },
      "cell_type": "code",
      "source": [
        "# Though the above operation looks good, it will still store x + y in buffer before assigning.\n",
        "# Hence use below method\n",
        "before = id(z)\n",
        "nd.elemwise_sub(x, y, out=z)\n",
        "id(z) == before"
      ],
      "execution_count": 22,
      "outputs": [
        {
          "output_type": "execute_result",
          "data": {
            "text/plain": [
              "True"
            ]
          },
          "metadata": {
            "tags": []
          },
          "execution_count": 22
        }
      ]
    },
    {
      "metadata": {
        "id": "Pyn0pE5FThi1",
        "colab_type": "text"
      },
      "cell_type": "markdown",
      "source": [
        "Mutual Transformation of NDArray and NumPy"
      ]
    },
    {
      "metadata": {
        "id": "g1iF4XgzTjJc",
        "colab_type": "code",
        "colab": {
          "base_uri": "https://localhost:8080/",
          "height": 51
        },
        "outputId": "95824b4b-5ff4-4379-afbd-4e7ecacf2c24"
      },
      "cell_type": "code",
      "source": [
        "a = x.asnumpy()\n",
        "print(type(a))\n",
        "b = nd.array(a)\n",
        "print(type(b))"
      ],
      "execution_count": 23,
      "outputs": [
        {
          "output_type": "stream",
          "text": [
            "<class 'numpy.ndarray'>\n",
            "<class 'mxnet.ndarray.ndarray.NDArray'>\n"
          ],
          "name": "stdout"
        }
      ]
    },
    {
      "metadata": {
        "id": "iH0tJj98UUEn",
        "colab_type": "text"
      },
      "cell_type": "markdown",
      "source": [
        "Exercises"
      ]
    },
    {
      "metadata": {
        "id": "7DisX6k6UWRU",
        "colab_type": "code",
        "colab": {
          "base_uri": "https://localhost:8080/",
          "height": 255
        },
        "outputId": "40aecb27-1be2-4533-90ce-bb40c3922067"
      },
      "cell_type": "code",
      "source": [
        "print(x, y)\n",
        "x < y"
      ],
      "execution_count": 24,
      "outputs": [
        {
          "output_type": "stream",
          "text": [
            "\n",
            "[[ 0. 15. 15.  3.]\n",
            " [ 4. 15. 15.  7.]\n",
            " [ 8.  9. 12. 11.]]\n",
            "<NDArray 3x4 @cpu(0)> \n",
            "[[ 2. 16. 19.  6.]\n",
            " [ 5. 17. 18. 11.]\n",
            " [12. 12. 14. 12.]]\n",
            "<NDArray 3x4 @cpu(0)>\n"
          ],
          "name": "stdout"
        },
        {
          "output_type": "execute_result",
          "data": {
            "text/plain": [
              "\n",
              "[[1. 1. 1. 1.]\n",
              " [1. 1. 1. 1.]\n",
              " [1. 1. 1. 1.]]\n",
              "<NDArray 3x4 @cpu(0)>"
            ]
          },
          "metadata": {
            "tags": []
          },
          "execution_count": 24
        }
      ]
    },
    {
      "metadata": {
        "id": "K-WyAfwMUYdP",
        "colab_type": "code",
        "colab": {
          "base_uri": "https://localhost:8080/",
          "height": 306
        },
        "outputId": "628a8c5a-5c5f-4fb3-f1a8-ceccbc1e1615"
      },
      "cell_type": "code",
      "source": [
        "a = nd.arange(12).reshape((2, 3, 2))\n",
        "b = nd.arange(6).reshape((2, 3, 1))\n",
        "a, b"
      ],
      "execution_count": 25,
      "outputs": [
        {
          "output_type": "execute_result",
          "data": {
            "text/plain": [
              "(\n",
              " [[[ 0.  1.]\n",
              "   [ 2.  3.]\n",
              "   [ 4.  5.]]\n",
              " \n",
              "  [[ 6.  7.]\n",
              "   [ 8.  9.]\n",
              "   [10. 11.]]]\n",
              " <NDArray 2x3x2 @cpu(0)>, \n",
              " [[[0.]\n",
              "   [1.]\n",
              "   [2.]]\n",
              " \n",
              "  [[3.]\n",
              "   [4.]\n",
              "   [5.]]]\n",
              " <NDArray 2x3x1 @cpu(0)>)"
            ]
          },
          "metadata": {
            "tags": []
          },
          "execution_count": 25
        }
      ]
    },
    {
      "metadata": {
        "id": "Je55veTuUlwE",
        "colab_type": "code",
        "colab": {
          "base_uri": "https://localhost:8080/",
          "height": 170
        },
        "outputId": "4c19feb7-d392-4e2a-b4af-93141b83feb1"
      },
      "cell_type": "code",
      "source": [
        "# In case of 3D tensors, first two dimensions should be same in order to do broadcast mechanism\n",
        "nd.broadcast_add(a, b)"
      ],
      "execution_count": 26,
      "outputs": [
        {
          "output_type": "execute_result",
          "data": {
            "text/plain": [
              "\n",
              "[[[ 0.  1.]\n",
              "  [ 3.  4.]\n",
              "  [ 6.  7.]]\n",
              "\n",
              " [[ 9. 10.]\n",
              "  [12. 13.]\n",
              "  [15. 16.]]]\n",
              "<NDArray 2x3x2 @cpu(0)>"
            ]
          },
          "metadata": {
            "tags": []
          },
          "execution_count": 26
        }
      ]
    },
    {
      "metadata": {
        "id": "QWmCFsFlWHr8",
        "colab_type": "code",
        "colab": {
          "base_uri": "https://localhost:8080/",
          "height": 204
        },
        "outputId": "f7129532-694d-4389-ae77-5ad507022fca"
      },
      "cell_type": "code",
      "source": [
        "a = nd.arange(3).reshape((3,1))\n",
        "b = nd.ones(shape=(1,1))\n",
        "c = nd.arange(4).reshape(shape=(3,1))\n",
        "a, b, c"
      ],
      "execution_count": 27,
      "outputs": [
        {
          "output_type": "execute_result",
          "data": {
            "text/plain": [
              "(\n",
              " [[0.]\n",
              "  [1.]\n",
              "  [2.]]\n",
              " <NDArray 3x1 @cpu(0)>, \n",
              " [[1.]]\n",
              " <NDArray 1x1 @cpu(0)>, \n",
              " [[0.]\n",
              "  [1.]\n",
              "  [2.]]\n",
              " <NDArray 3x1 @cpu(0)>)"
            ]
          },
          "metadata": {
            "tags": []
          },
          "execution_count": 27
        }
      ]
    },
    {
      "metadata": {
        "id": "9WS4JKYoX8IH",
        "colab_type": "code",
        "colab": {
          "base_uri": "https://localhost:8080/",
          "height": 102
        },
        "outputId": "08b76b78-0460-4c7a-d1ee-fccbfa32c8dc"
      },
      "cell_type": "code",
      "source": [
        "nd.broadcast_add(nd.dot(a, b.T), c, out=c)\n",
        "c"
      ],
      "execution_count": 28,
      "outputs": [
        {
          "output_type": "execute_result",
          "data": {
            "text/plain": [
              "\n",
              "[[0.]\n",
              " [2.]\n",
              " [4.]]\n",
              "<NDArray 3x1 @cpu(0)>"
            ]
          },
          "metadata": {
            "tags": []
          },
          "execution_count": 28
        }
      ]
    }
  ]
}