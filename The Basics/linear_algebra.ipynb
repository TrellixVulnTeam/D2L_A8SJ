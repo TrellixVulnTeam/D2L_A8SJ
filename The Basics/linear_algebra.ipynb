{
  "nbformat": 4,
  "nbformat_minor": 0,
  "metadata": {
    "colab": {
      "name": "linear_algebra.ipynb",
      "version": "0.3.2",
      "provenance": [],
      "include_colab_link": true
    },
    "kernelspec": {
      "name": "python3",
      "display_name": "Python 3"
    }
  },
  "cells": [
    {
      "cell_type": "markdown",
      "metadata": {
        "id": "view-in-github",
        "colab_type": "text"
      },
      "source": [
        "<a href=\"https://colab.research.google.com/github/prasanth5reddy/D2L/blob/master/The%20Basics/linear_algebra.ipynb\" target=\"_parent\"><img src=\"https://colab.research.google.com/assets/colab-badge.svg\" alt=\"Open In Colab\"/></a>"
      ]
    },
    {
      "metadata": {
        "id": "XS98eZdYci7A",
        "colab_type": "text"
      },
      "cell_type": "markdown",
      "source": [
        "Installing libraries"
      ]
    },
    {
      "metadata": {
        "id": "spOCRTLIcbQ5",
        "colab_type": "code",
        "colab": {
          "base_uri": "https://localhost:8080/",
          "height": 173
        },
        "outputId": "bd2f2ba2-63f7-4bb8-c31f-222025a9ccdd"
      },
      "cell_type": "code",
      "source": [
        "!pip install mxnet"
      ],
      "execution_count": 1,
      "outputs": [
        {
          "output_type": "stream",
          "text": [
            "Requirement already satisfied: mxnet in /usr/local/lib/python3.6/dist-packages (1.3.1)\n",
            "Requirement already satisfied: graphviz<0.9.0,>=0.8.1 in /usr/local/lib/python3.6/dist-packages (from mxnet) (0.8.4)\n",
            "Requirement already satisfied: requests>=2.20.0 in /usr/local/lib/python3.6/dist-packages (from mxnet) (2.21.0)\n",
            "Requirement already satisfied: numpy<1.15.0,>=1.8.2 in /usr/local/lib/python3.6/dist-packages (from mxnet) (1.14.6)\n",
            "Requirement already satisfied: certifi>=2017.4.17 in /usr/local/lib/python3.6/dist-packages (from requests>=2.20.0->mxnet) (2018.11.29)\n",
            "Requirement already satisfied: chardet<3.1.0,>=3.0.2 in /usr/local/lib/python3.6/dist-packages (from requests>=2.20.0->mxnet) (3.0.4)\n",
            "Requirement already satisfied: idna<2.9,>=2.5 in /usr/local/lib/python3.6/dist-packages (from requests>=2.20.0->mxnet) (2.6)\n",
            "Requirement already satisfied: urllib3<1.25,>=1.21.1 in /usr/local/lib/python3.6/dist-packages (from requests>=2.20.0->mxnet) (1.22)\n"
          ],
          "name": "stdout"
        }
      ]
    },
    {
      "metadata": {
        "id": "kzltsF-8crAa",
        "colab_type": "text"
      },
      "cell_type": "markdown",
      "source": [
        "Importing libraries"
      ]
    },
    {
      "metadata": {
        "id": "UI1uNzKvcnrr",
        "colab_type": "code",
        "colab": {}
      },
      "cell_type": "code",
      "source": [
        "from mxnet import nd\n",
        "import math"
      ],
      "execution_count": 0,
      "outputs": []
    },
    {
      "metadata": {
        "id": "jKrOkMMUdCdf",
        "colab_type": "text"
      },
      "cell_type": "markdown",
      "source": [
        "Scalars"
      ]
    },
    {
      "metadata": {
        "id": "ezdBMPbAdBVK",
        "colab_type": "code",
        "colab": {
          "base_uri": "https://localhost:8080/",
          "height": 221
        },
        "outputId": "23eb231e-b585-4f2b-9476-752d3b4a814f"
      },
      "cell_type": "code",
      "source": [
        "x = nd.array([3.0])\n",
        "y = nd.array([2.0])\n",
        "\n",
        "print('x + y = ', x + y)\n",
        "print('x * y = ', x * y)\n",
        "print('x / y = ', x / y)\n",
        "print('x ** y = ', nd.power(x,y))"
      ],
      "execution_count": 3,
      "outputs": [
        {
          "output_type": "stream",
          "text": [
            "x + y =  \n",
            "[5.]\n",
            "<NDArray 1 @cpu(0)>\n",
            "x * y =  \n",
            "[6.]\n",
            "<NDArray 1 @cpu(0)>\n",
            "x / y =  \n",
            "[1.5]\n",
            "<NDArray 1 @cpu(0)>\n",
            "x ** y =  \n",
            "[9.]\n",
            "<NDArray 1 @cpu(0)>\n"
          ],
          "name": "stdout"
        }
      ]
    },
    {
      "metadata": {
        "id": "QfYGPreCdNrG",
        "colab_type": "code",
        "colab": {
          "base_uri": "https://localhost:8080/",
          "height": 34
        },
        "outputId": "ea61df4a-43ac-4cd1-cabb-356ae8d2757c"
      },
      "cell_type": "code",
      "source": [
        "# avoid this as this takes longer time to run\n",
        "x.asscalar()"
      ],
      "execution_count": 4,
      "outputs": [
        {
          "output_type": "execute_result",
          "data": {
            "text/plain": [
              "3.0"
            ]
          },
          "metadata": {
            "tags": []
          },
          "execution_count": 4
        }
      ]
    },
    {
      "metadata": {
        "id": "6_UA6JP2dXCb",
        "colab_type": "text"
      },
      "cell_type": "markdown",
      "source": [
        "Vectors"
      ]
    },
    {
      "metadata": {
        "id": "SPQ4aLq7dQRP",
        "colab_type": "code",
        "colab": {
          "base_uri": "https://localhost:8080/",
          "height": 119
        },
        "outputId": "37248955-2d3d-4e93-a1b2-76c0164a450c"
      },
      "cell_type": "code",
      "source": [
        "x = nd.arange(4)\n",
        "print('x = ', x)\n",
        "x[2]"
      ],
      "execution_count": 5,
      "outputs": [
        {
          "output_type": "stream",
          "text": [
            "x =  \n",
            "[0. 1. 2. 3.]\n",
            "<NDArray 4 @cpu(0)>\n"
          ],
          "name": "stdout"
        },
        {
          "output_type": "execute_result",
          "data": {
            "text/plain": [
              "\n",
              "[2.]\n",
              "<NDArray 1 @cpu(0)>"
            ]
          },
          "metadata": {
            "tags": []
          },
          "execution_count": 5
        }
      ]
    },
    {
      "metadata": {
        "id": "iU9H9dYDd0Cb",
        "colab_type": "text"
      },
      "cell_type": "markdown",
      "source": [
        "Length, dimensionality and shape"
      ]
    },
    {
      "metadata": {
        "id": "yTqLJGH4dqVu",
        "colab_type": "code",
        "colab": {
          "base_uri": "https://localhost:8080/",
          "height": 34
        },
        "outputId": "eace8fe2-63f5-4f25-9af7-d80ca69287a4"
      },
      "cell_type": "code",
      "source": [
        "x = x.reshape(shape=(2, 2))\n",
        "print(len(x), x.shape, x.size)"
      ],
      "execution_count": 6,
      "outputs": [
        {
          "output_type": "stream",
          "text": [
            "2 (2, 2) 4\n"
          ],
          "name": "stdout"
        }
      ]
    },
    {
      "metadata": {
        "id": "th3ptdCIeMwH",
        "colab_type": "code",
        "colab": {
          "base_uri": "https://localhost:8080/",
          "height": 119
        },
        "outputId": "ba7fed95-4997-4804-8962-7e16bdd3ece1"
      },
      "cell_type": "code",
      "source": [
        "a = 2\n",
        "x = nd.array([1,2,3])\n",
        "y = nd.array([10,20,30])\n",
        "print(a * x)\n",
        "print(a * x + y)"
      ],
      "execution_count": 7,
      "outputs": [
        {
          "output_type": "stream",
          "text": [
            "\n",
            "[2. 4. 6.]\n",
            "<NDArray 3 @cpu(0)>\n",
            "\n",
            "[12. 24. 36.]\n",
            "<NDArray 3 @cpu(0)>\n"
          ],
          "name": "stdout"
        }
      ]
    },
    {
      "metadata": {
        "id": "U2RvR4koe20r",
        "colab_type": "text"
      },
      "cell_type": "markdown",
      "source": [
        "Matrices"
      ]
    },
    {
      "metadata": {
        "id": "6CLNgOsKeqHG",
        "colab_type": "code",
        "colab": {
          "base_uri": "https://localhost:8080/",
          "height": 136
        },
        "outputId": "066cff4e-1a3a-4143-c315-33ab50667316"
      },
      "cell_type": "code",
      "source": [
        "A = nd.arange(20).reshape((5, 4))\n",
        "print(A)"
      ],
      "execution_count": 8,
      "outputs": [
        {
          "output_type": "stream",
          "text": [
            "\n",
            "[[ 0.  1.  2.  3.]\n",
            " [ 4.  5.  6.  7.]\n",
            " [ 8.  9. 10. 11.]\n",
            " [12. 13. 14. 15.]\n",
            " [16. 17. 18. 19.]]\n",
            "<NDArray 5x4 @cpu(0)>\n"
          ],
          "name": "stdout"
        }
      ]
    },
    {
      "metadata": {
        "id": "DsRUfkdDfEDs",
        "colab_type": "code",
        "colab": {
          "base_uri": "https://localhost:8080/",
          "height": 187
        },
        "outputId": "9418a52d-7ba9-4562-e9ec-0d37f5b6acd4"
      },
      "cell_type": "code",
      "source": [
        "print(A[:2,2:])\n",
        "print(A.T)"
      ],
      "execution_count": 9,
      "outputs": [
        {
          "output_type": "stream",
          "text": [
            "\n",
            "[[2. 3.]\n",
            " [6. 7.]]\n",
            "<NDArray 2x2 @cpu(0)>\n",
            "\n",
            "[[ 0.  4.  8. 12. 16.]\n",
            " [ 1.  5.  9. 13. 17.]\n",
            " [ 2.  6. 10. 14. 18.]\n",
            " [ 3.  7. 11. 15. 19.]]\n",
            "<NDArray 4x5 @cpu(0)>\n"
          ],
          "name": "stdout"
        }
      ]
    },
    {
      "metadata": {
        "id": "laYmTl_YfW5y",
        "colab_type": "text"
      },
      "cell_type": "markdown",
      "source": [
        "Tensors"
      ]
    },
    {
      "metadata": {
        "id": "LPbz6sVRfNM2",
        "colab_type": "code",
        "colab": {
          "base_uri": "https://localhost:8080/",
          "height": 187
        },
        "outputId": "daec0907-2d0e-421d-e9b0-1fac717ccf37"
      },
      "cell_type": "code",
      "source": [
        "# tensors give us a generic way of discussing arrays with arbitrary number of axes\n",
        "# Vectors are first-order tensors, and matrices are second-order tensors\n",
        "X = nd.arange(24).reshape((2, 3, 4))\n",
        "print('X.shape =', X.shape)\n",
        "print('X =', X)"
      ],
      "execution_count": 10,
      "outputs": [
        {
          "output_type": "stream",
          "text": [
            "X.shape = (2, 3, 4)\n",
            "X = \n",
            "[[[ 0.  1.  2.  3.]\n",
            "  [ 4.  5.  6.  7.]\n",
            "  [ 8.  9. 10. 11.]]\n",
            "\n",
            " [[12. 13. 14. 15.]\n",
            "  [16. 17. 18. 19.]\n",
            "  [20. 21. 22. 23.]]]\n",
            "<NDArray 2x3x4 @cpu(0)>\n"
          ],
          "name": "stdout"
        }
      ]
    },
    {
      "metadata": {
        "id": "P4k8DFjof4nj",
        "colab_type": "text"
      },
      "cell_type": "markdown",
      "source": [
        "Basic properties of tensor arithmetic"
      ]
    },
    {
      "metadata": {
        "id": "cd42i7CWf1br",
        "colab_type": "code",
        "colab": {
          "base_uri": "https://localhost:8080/",
          "height": 85
        },
        "outputId": "80f94c0c-be07-4726-b608-a71fe7634067"
      },
      "cell_type": "code",
      "source": [
        "a = 2\n",
        "x = nd.ones(3)\n",
        "y = nd.zeros(3)\n",
        "print(x.shape)\n",
        "print(y.shape)\n",
        "print((a * x).shape)\n",
        "print((a * x + y).shape)"
      ],
      "execution_count": 11,
      "outputs": [
        {
          "output_type": "stream",
          "text": [
            "(3,)\n",
            "(3,)\n",
            "(3,)\n",
            "(3,)\n"
          ],
          "name": "stdout"
        }
      ]
    },
    {
      "metadata": {
        "id": "ue0xhWmvgIol",
        "colab_type": "text"
      },
      "cell_type": "markdown",
      "source": [
        "Sums and means"
      ]
    },
    {
      "metadata": {
        "id": "6hnjUTHUgDiI",
        "colab_type": "code",
        "colab": {
          "base_uri": "https://localhost:8080/",
          "height": 119
        },
        "outputId": "3a2f8991-5264-4ff1-da17-e59ace7d4cb2"
      },
      "cell_type": "code",
      "source": [
        "print(x)\n",
        "print(nd.sum(x))"
      ],
      "execution_count": 12,
      "outputs": [
        {
          "output_type": "stream",
          "text": [
            "\n",
            "[1. 1. 1.]\n",
            "<NDArray 3 @cpu(0)>\n",
            "\n",
            "[3.]\n",
            "<NDArray 1 @cpu(0)>\n"
          ],
          "name": "stdout"
        }
      ]
    },
    {
      "metadata": {
        "id": "FxRoh78YgQtN",
        "colab_type": "code",
        "colab": {
          "base_uri": "https://localhost:8080/",
          "height": 187
        },
        "outputId": "d331ffe0-7daf-4a7a-8f65-b0a4d33d5778"
      },
      "cell_type": "code",
      "source": [
        "print(A)\n",
        "print(nd.sum(A))"
      ],
      "execution_count": 13,
      "outputs": [
        {
          "output_type": "stream",
          "text": [
            "\n",
            "[[ 0.  1.  2.  3.]\n",
            " [ 4.  5.  6.  7.]\n",
            " [ 8.  9. 10. 11.]\n",
            " [12. 13. 14. 15.]\n",
            " [16. 17. 18. 19.]]\n",
            "<NDArray 5x4 @cpu(0)>\n",
            "\n",
            "[190.]\n",
            "<NDArray 1 @cpu(0)>\n"
          ],
          "name": "stdout"
        }
      ]
    },
    {
      "metadata": {
        "id": "FiSA8uvrgU73",
        "colab_type": "code",
        "colab": {
          "base_uri": "https://localhost:8080/",
          "height": 119
        },
        "outputId": "74faa7d9-5cd0-402f-a0d0-0d1b0ad61e6c"
      },
      "cell_type": "code",
      "source": [
        "print(nd.mean(A))\n",
        "print(nd.sum(A) / A.size)"
      ],
      "execution_count": 14,
      "outputs": [
        {
          "output_type": "stream",
          "text": [
            "\n",
            "[9.5]\n",
            "<NDArray 1 @cpu(0)>\n",
            "\n",
            "[9.5]\n",
            "<NDArray 1 @cpu(0)>\n"
          ],
          "name": "stdout"
        }
      ]
    },
    {
      "metadata": {
        "id": "kSHTIMafgzth",
        "colab_type": "text"
      },
      "cell_type": "markdown",
      "source": [
        "Dot products"
      ]
    },
    {
      "metadata": {
        "id": "IndCzQz3gf-U",
        "colab_type": "code",
        "colab": {
          "base_uri": "https://localhost:8080/",
          "height": 136
        },
        "outputId": "5d8318f5-6d67-47b8-faaf-50205212ba4a"
      },
      "cell_type": "code",
      "source": [
        "\n",
        "x = nd.arange(4)\n",
        "y = nd.ones(4)\n",
        "print(x, y, nd.dot(x, y))"
      ],
      "execution_count": 15,
      "outputs": [
        {
          "output_type": "stream",
          "text": [
            "\n",
            "[0. 1. 2. 3.]\n",
            "<NDArray 4 @cpu(0)> \n",
            "[1. 1. 1. 1.]\n",
            "<NDArray 4 @cpu(0)> \n",
            "[6.]\n",
            "<NDArray 1 @cpu(0)>\n"
          ],
          "name": "stdout"
        }
      ]
    },
    {
      "metadata": {
        "id": "nL8qA9jxg--n",
        "colab_type": "code",
        "colab": {
          "base_uri": "https://localhost:8080/",
          "height": 68
        },
        "outputId": "0eafc2d5-761d-4ee2-e942-e1464950ff62"
      },
      "cell_type": "code",
      "source": [
        "nd.sum(x * y)"
      ],
      "execution_count": 16,
      "outputs": [
        {
          "output_type": "execute_result",
          "data": {
            "text/plain": [
              "\n",
              "[6.]\n",
              "<NDArray 1 @cpu(0)>"
            ]
          },
          "metadata": {
            "tags": []
          },
          "execution_count": 16
        }
      ]
    },
    {
      "metadata": {
        "id": "MJuO-FuVhIeR",
        "colab_type": "code",
        "colab": {
          "base_uri": "https://localhost:8080/",
          "height": 68
        },
        "outputId": "4823b84a-9022-479e-9b97-d7ecf2f063c7"
      },
      "cell_type": "code",
      "source": [
        "# we can also find cosine of angle between them using dot product\n",
        "cosine = nd.dot(x, y) / (math.sqrt((nd.sum(x * x) * nd.sum(y * y)).asscalar()))\n",
        "cosine"
      ],
      "execution_count": 17,
      "outputs": [
        {
          "output_type": "execute_result",
          "data": {
            "text/plain": [
              "\n",
              "[0.8017837]\n",
              "<NDArray 1 @cpu(0)>"
            ]
          },
          "metadata": {
            "tags": []
          },
          "execution_count": 17
        }
      ]
    },
    {
      "metadata": {
        "id": "sLrMCLe0j2C5",
        "colab_type": "text"
      },
      "cell_type": "markdown",
      "source": [
        "Matrix-vector products"
      ]
    },
    {
      "metadata": {
        "id": "YYRZ1f7ijAz9",
        "colab_type": "code",
        "colab": {
          "base_uri": "https://localhost:8080/",
          "height": 221
        },
        "outputId": "15dbaaa2-47c0-43ca-dd50-663b5eba1828"
      },
      "cell_type": "code",
      "source": [
        "print(A, x)\n",
        "nd.dot(A, x)"
      ],
      "execution_count": 18,
      "outputs": [
        {
          "output_type": "stream",
          "text": [
            "\n",
            "[[ 0.  1.  2.  3.]\n",
            " [ 4.  5.  6.  7.]\n",
            " [ 8.  9. 10. 11.]\n",
            " [12. 13. 14. 15.]\n",
            " [16. 17. 18. 19.]]\n",
            "<NDArray 5x4 @cpu(0)> \n",
            "[0. 1. 2. 3.]\n",
            "<NDArray 4 @cpu(0)>\n"
          ],
          "name": "stdout"
        },
        {
          "output_type": "execute_result",
          "data": {
            "text/plain": [
              "\n",
              "[ 14.  38.  62.  86. 110.]\n",
              "<NDArray 5 @cpu(0)>"
            ]
          },
          "metadata": {
            "tags": []
          },
          "execution_count": 18
        }
      ]
    },
    {
      "metadata": {
        "id": "0G2p3DBRkpZH",
        "colab_type": "text"
      },
      "cell_type": "markdown",
      "source": [
        "Matrix-matrix multiplication"
      ]
    },
    {
      "metadata": {
        "id": "7Ni-jNjykP_J",
        "colab_type": "code",
        "colab": {
          "base_uri": "https://localhost:8080/",
          "height": 221
        },
        "outputId": "59fb8306-846d-4cf4-a141-63592df453ec"
      },
      "cell_type": "code",
      "source": [
        "B = nd.ones(shape=(4, 3))\n",
        "print(A, B)"
      ],
      "execution_count": 19,
      "outputs": [
        {
          "output_type": "stream",
          "text": [
            "\n",
            "[[ 0.  1.  2.  3.]\n",
            " [ 4.  5.  6.  7.]\n",
            " [ 8.  9. 10. 11.]\n",
            " [12. 13. 14. 15.]\n",
            " [16. 17. 18. 19.]]\n",
            "<NDArray 5x4 @cpu(0)> \n",
            "[[1. 1. 1.]\n",
            " [1. 1. 1.]\n",
            " [1. 1. 1.]\n",
            " [1. 1. 1.]]\n",
            "<NDArray 4x3 @cpu(0)>\n"
          ],
          "name": "stdout"
        }
      ]
    },
    {
      "metadata": {
        "id": "Mh3I_uh-lIkV",
        "colab_type": "code",
        "colab": {
          "base_uri": "https://localhost:8080/",
          "height": 136
        },
        "outputId": "792bc86b-2553-4345-ae4a-53dd2b4ee2f6"
      },
      "cell_type": "code",
      "source": [
        "nd.dot(A, B)"
      ],
      "execution_count": 20,
      "outputs": [
        {
          "output_type": "execute_result",
          "data": {
            "text/plain": [
              "\n",
              "[[ 6.  6.  6.]\n",
              " [22. 22. 22.]\n",
              " [38. 38. 38.]\n",
              " [54. 54. 54.]\n",
              " [70. 70. 70.]]\n",
              "<NDArray 5x3 @cpu(0)>"
            ]
          },
          "metadata": {
            "tags": []
          },
          "execution_count": 20
        }
      ]
    },
    {
      "metadata": {
        "id": "_ToBycmZlWF3",
        "colab_type": "text"
      },
      "cell_type": "markdown",
      "source": [
        "Norms"
      ]
    },
    {
      "metadata": {
        "id": "8nYYVffNlPCW",
        "colab_type": "code",
        "colab": {}
      },
      "cell_type": "code",
      "source": [
        "# L0 norm is number of non zero elements in a vector\n",
        "# L1 norm is sum of the absolute values in a vector\n",
        "# L2 norm is square root of sum of squares of values in a vector\n",
        "# L-infinity norm is the largest absolute value in a vector"
      ],
      "execution_count": 0,
      "outputs": []
    },
    {
      "metadata": {
        "id": "Eg277lNunJAA",
        "colab_type": "code",
        "colab": {
          "base_uri": "https://localhost:8080/",
          "height": 272
        },
        "outputId": "27ba552b-cec9-4b8d-ef1d-c4b2405e556f"
      },
      "cell_type": "code",
      "source": [
        "x = nd.array([0, 1, 2, -3])\n",
        "print(x)\n",
        "\n",
        "# L0 norm\n",
        "print(nd.sum(x != 0))\n",
        "\n",
        "# L1 norm\n",
        "print(nd.sum(nd.abs(x)))\n",
        "\n",
        "# L2 norm\n",
        "print(nd.norm(x))\n",
        "\n",
        "# L-infinity norm\n",
        "print(nd.max(nd.abs(x)))"
      ],
      "execution_count": 22,
      "outputs": [
        {
          "output_type": "stream",
          "text": [
            "\n",
            "[ 0.  1.  2. -3.]\n",
            "<NDArray 4 @cpu(0)>\n",
            "\n",
            "[3.]\n",
            "<NDArray 1 @cpu(0)>\n",
            "\n",
            "[6.]\n",
            "<NDArray 1 @cpu(0)>\n",
            "\n",
            "[3.7416573]\n",
            "<NDArray 1 @cpu(0)>\n",
            "\n",
            "[3.]\n",
            "<NDArray 1 @cpu(0)>\n"
          ],
          "name": "stdout"
        }
      ]
    }
  ]
}