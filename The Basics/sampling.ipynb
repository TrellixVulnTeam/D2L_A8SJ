{
  "nbformat": 4,
  "nbformat_minor": 0,
  "metadata": {
    "colab": {
      "name": "sampling.ipynb",
      "version": "0.3.2",
      "provenance": [],
      "collapsed_sections": [],
      "include_colab_link": true
    },
    "kernelspec": {
      "name": "python3",
      "display_name": "Python 3"
    },
    "accelerator": "GPU"
  },
  "cells": [
    {
      "cell_type": "markdown",
      "metadata": {
        "id": "view-in-github",
        "colab_type": "text"
      },
      "source": [
        "<a href=\"https://colab.research.google.com/github/prasanth5reddy/D2L/blob/master/The%20Basics/sampling.ipynb\" target=\"_parent\"><img src=\"https://colab.research.google.com/assets/colab-badge.svg\" alt=\"Open In Colab\"/></a>"
      ]
    },
    {
      "metadata": {
        "id": "2Q4-AHwiQHk3",
        "colab_type": "text"
      },
      "cell_type": "markdown",
      "source": [
        "Installing Libraries"
      ]
    },
    {
      "metadata": {
        "id": "auDcGf8XQAQA",
        "colab_type": "code",
        "colab": {
          "base_uri": "https://localhost:8080/",
          "height": 153
        },
        "outputId": "31a8d420-6f9e-4311-b550-007d93633ab5"
      },
      "cell_type": "code",
      "source": [
        "!pip install mxnet"
      ],
      "execution_count": 1,
      "outputs": [
        {
          "output_type": "stream",
          "text": [
            "Requirement already satisfied: mxnet in /usr/local/lib/python3.6/dist-packages (1.4.0.post0)\n",
            "Requirement already satisfied: numpy<1.15.0,>=1.8.2 in /usr/local/lib/python3.6/dist-packages (from mxnet) (1.14.6)\n",
            "Requirement already satisfied: graphviz<0.9.0,>=0.8.1 in /usr/local/lib/python3.6/dist-packages (from mxnet) (0.8.4)\n",
            "Requirement already satisfied: requests>=2.20.0 in /usr/local/lib/python3.6/dist-packages (from mxnet) (2.21.0)\n",
            "Requirement already satisfied: certifi>=2017.4.17 in /usr/local/lib/python3.6/dist-packages (from requests>=2.20.0->mxnet) (2018.11.29)\n",
            "Requirement already satisfied: chardet<3.1.0,>=3.0.2 in /usr/local/lib/python3.6/dist-packages (from requests>=2.20.0->mxnet) (3.0.4)\n",
            "Requirement already satisfied: urllib3<1.25,>=1.21.1 in /usr/local/lib/python3.6/dist-packages (from requests>=2.20.0->mxnet) (1.22)\n",
            "Requirement already satisfied: idna<2.9,>=2.5 in /usr/local/lib/python3.6/dist-packages (from requests>=2.20.0->mxnet) (2.6)\n"
          ],
          "name": "stdout"
        }
      ]
    },
    {
      "metadata": {
        "id": "uRRQYpzRQg1W",
        "colab_type": "text"
      },
      "cell_type": "markdown",
      "source": [
        "Importing Libraries"
      ]
    },
    {
      "metadata": {
        "id": "cMKe9k7SQfk3",
        "colab_type": "code",
        "colab": {}
      },
      "cell_type": "code",
      "source": [
        "import mxnet as mx\n",
        "from mxnet import nd\n",
        "import numpy as np\n",
        "import random\n",
        "from matplotlib import pyplot as plt\n",
        "%matplotlib inline"
      ],
      "execution_count": 0,
      "outputs": []
    },
    {
      "metadata": {
        "id": "azgk_lufQ_yo",
        "colab_type": "code",
        "colab": {
          "base_uri": "https://localhost:8080/",
          "height": 187
        },
        "outputId": "b0a5b5e7-0e19-46f5-c0b1-3266c4c5770c"
      },
      "cell_type": "code",
      "source": [
        "for i in range(10):\n",
        "    print(random.random())"
      ],
      "execution_count": 3,
      "outputs": [
        {
          "output_type": "stream",
          "text": [
            "0.9454954834822086\n",
            "0.5725236271435579\n",
            "0.2711486227394144\n",
            "0.8738847019329881\n",
            "0.15180863233254016\n",
            "0.4079426514091863\n",
            "0.7713477167740251\n",
            "0.7011535473855773\n",
            "0.08772763466066191\n",
            "0.8904878015211749\n"
          ],
          "name": "stdout"
        }
      ]
    },
    {
      "metadata": {
        "id": "6VrvFRkFRV4a",
        "colab_type": "text"
      },
      "cell_type": "markdown",
      "source": [
        "Uniform Distribution"
      ]
    },
    {
      "metadata": {
        "id": "ECmxzjAMRSvB",
        "colab_type": "code",
        "colab": {
          "base_uri": "https://localhost:8080/",
          "height": 187
        },
        "outputId": "571c7e3f-25be-44ed-e631-68e68066d362"
      },
      "cell_type": "code",
      "source": [
        "for i in range(10):\n",
        "    print(random.random())"
      ],
      "execution_count": 4,
      "outputs": [
        {
          "output_type": "stream",
          "text": [
            "0.12515194504617044\n",
            "0.6010543054987432\n",
            "0.7919263517349803\n",
            "0.07568368014863869\n",
            "0.2813844985210415\n",
            "0.5568648560931896\n",
            "0.8393553955643648\n",
            "0.9882124107302401\n",
            "0.09589880154093544\n",
            "0.5551557459374622\n"
          ],
          "name": "stdout"
        }
      ]
    },
    {
      "metadata": {
        "id": "WnqXd5KqSSFX",
        "colab_type": "code",
        "colab": {
          "base_uri": "https://localhost:8080/",
          "height": 483
        },
        "outputId": "3d35c0a7-b12a-4ff1-99b2-a8eb4d35e782"
      },
      "cell_type": "code",
      "source": [
        "import math\n",
        "\n",
        "counts = np.zeros(100)\n",
        "fig, axes = plt.subplots(2, 3, figsize=(15, 8), sharex=True)\n",
        "axes = axes.reshape(6)\n",
        "# Mangle subplots such that we can index them in a linear fashion rather than\n",
        "# a 2d grid\n",
        "\n",
        "for i in range(1, 1000001):\n",
        "    counts[random.randint(0, 99)] += 1\n",
        "    if i in [10, 100, 1000, 10000, 100000, 1000000]:\n",
        "        axes[int(math.log10(i))-1].bar(np.arange(1, 101), counts)\n",
        "\n",
        "plt.show()"
      ],
      "execution_count": 5,
      "outputs": [
        {
          "output_type": "display_data",
          "data": {
            "image/png": "[encoded data removed]",
            "text/plain": [
              "<Figure size 1080x576 with 6 Axes>"
            ]
          },
          "metadata": {
            "tags": []
          }
        }
      ]
    },
    {
      "metadata": {
        "id": "m7fD-GDOU6-F",
        "colab_type": "text"
      },
      "cell_type": "markdown",
      "source": [
        "The Categorial Distribution"
      ]
    },
    {
      "metadata": {
        "id": "R4P1Iy8mU-e7",
        "colab_type": "code",
        "colab": {}
      },
      "cell_type": "code",
      "source": [
        ""
      ],
      "execution_count": 0,
      "outputs": []
    }
  ]
}