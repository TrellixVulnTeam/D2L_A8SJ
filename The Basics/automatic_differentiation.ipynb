{
  "nbformat": 4,
  "nbformat_minor": 0,
  "metadata": {
    "colab": {
      "name": "automatic_differentiation.ipynb",
      "version": "0.3.2",
      "provenance": [],
      "collapsed_sections": [],
      "include_colab_link": true
    },
    "kernelspec": {
      "name": "python3",
      "display_name": "Python 3"
    },
    "accelerator": "GPU"
  },
  "cells": [
    {
      "cell_type": "markdown",
      "metadata": {
        "id": "view-in-github",
        "colab_type": "text"
      },
      "source": [
        "<a href=\"https://colab.research.google.com/github/prasanth5reddy/D2L/blob/master/The%20Basics/automatic_differentiation.ipynb\" target=\"_parent\"><img src=\"https://colab.research.google.com/assets/colab-badge.svg\" alt=\"Open In Colab\"/></a>"
      ]
    },
    {
      "metadata": {
        "id": "93AeZuUi3HWA",
        "colab_type": "text"
      },
      "cell_type": "markdown",
      "source": [
        "Installing Libraries"
      ]
    },
    {
      "metadata": {
        "id": "oFZJDNj52zUv",
        "colab_type": "code",
        "outputId": "2516ec0e-a34e-483d-9328-759ffd0bdfbd",
        "colab": {
          "base_uri": "https://localhost:8080/",
          "height": 153
        }
      },
      "cell_type": "code",
      "source": [
        "!pip install mxnet"
      ],
      "execution_count": 1,
      "outputs": [
        {
          "output_type": "stream",
          "text": [
            "Requirement already satisfied: mxnet in /usr/local/lib/python3.6/dist-packages (1.3.1)\n",
            "Requirement already satisfied: graphviz<0.9.0,>=0.8.1 in /usr/local/lib/python3.6/dist-packages (from mxnet) (0.8.4)\n",
            "Requirement already satisfied: numpy<1.15.0,>=1.8.2 in /usr/local/lib/python3.6/dist-packages (from mxnet) (1.14.6)\n",
            "Requirement already satisfied: requests>=2.20.0 in /usr/local/lib/python3.6/dist-packages (from mxnet) (2.21.0)\n",
            "Requirement already satisfied: certifi>=2017.4.17 in /usr/local/lib/python3.6/dist-packages (from requests>=2.20.0->mxnet) (2018.11.29)\n",
            "Requirement already satisfied: urllib3<1.25,>=1.21.1 in /usr/local/lib/python3.6/dist-packages (from requests>=2.20.0->mxnet) (1.22)\n",
            "Requirement already satisfied: chardet<3.1.0,>=3.0.2 in /usr/local/lib/python3.6/dist-packages (from requests>=2.20.0->mxnet) (3.0.4)\n",
            "Requirement already satisfied: idna<2.9,>=2.5 in /usr/local/lib/python3.6/dist-packages (from requests>=2.20.0->mxnet) (2.6)\n"
          ],
          "name": "stdout"
        }
      ]
    },
    {
      "metadata": {
        "id": "rCQzJvUe3OCX",
        "colab_type": "text"
      },
      "cell_type": "markdown",
      "source": [
        "Importing Libraries"
      ]
    },
    {
      "metadata": {
        "id": "LgaCLqEb3Miv",
        "colab_type": "code",
        "colab": {}
      },
      "cell_type": "code",
      "source": [
        "from mxnet import autograd, nd\n",
        "from math import log, pi\n",
        "import matplotlib.pyplot as plt"
      ],
      "execution_count": 0,
      "outputs": []
    },
    {
      "metadata": {
        "id": "baiPBJyG-cJq",
        "colab_type": "text"
      },
      "cell_type": "markdown",
      "source": [
        "A Simple Example"
      ]
    },
    {
      "metadata": {
        "id": "OyywkmOK4Lwa",
        "colab_type": "code",
        "colab": {
          "base_uri": "https://localhost:8080/",
          "height": 119
        },
        "outputId": "f8094b22-0f8a-4e87-e9bb-7423d9598ea7"
      },
      "cell_type": "code",
      "source": [
        "x = nd.arange(4).reshape((4, 1))\n",
        "print(x)"
      ],
      "execution_count": 3,
      "outputs": [
        {
          "output_type": "stream",
          "text": [
            "\n",
            "[[0.]\n",
            " [1.]\n",
            " [2.]\n",
            " [3.]]\n",
            "<NDArray 4x1 @cpu(0)>\n"
          ],
          "name": "stdout"
        }
      ]
    },
    {
      "metadata": {
        "id": "_knOMgHksk65",
        "colab_type": "code",
        "colab": {
          "base_uri": "https://localhost:8080/",
          "height": 68
        },
        "outputId": "fa616c13-4e38-4e46-cee2-e1106138c741"
      },
      "cell_type": "code",
      "source": [
        "x.attach_grad()\n",
        "with autograd.record():\n",
        "    y = 2 * nd.dot(x.T, x)\n",
        "print(y)"
      ],
      "execution_count": 4,
      "outputs": [
        {
          "output_type": "stream",
          "text": [
            "\n",
            "[[28.]]\n",
            "<NDArray 1x1 @cpu(0)>\n"
          ],
          "name": "stdout"
        }
      ]
    },
    {
      "metadata": {
        "id": "rbZVvXcsspKD",
        "colab_type": "code",
        "colab": {}
      },
      "cell_type": "code",
      "source": [
        "y.backward()"
      ],
      "execution_count": 0,
      "outputs": []
    },
    {
      "metadata": {
        "id": "6VAadzkqsvny",
        "colab_type": "code",
        "colab": {
          "base_uri": "https://localhost:8080/",
          "height": 136
        },
        "outputId": "7b20789d-bf5c-408b-d9b1-30cab4ad0fea"
      },
      "cell_type": "code",
      "source": [
        "print((x.grad - 4 * x).norm().asscalar() == 0)\n",
        "print(x.grad)"
      ],
      "execution_count": 6,
      "outputs": [
        {
          "output_type": "stream",
          "text": [
            "True\n",
            "\n",
            "[[ 0.]\n",
            " [ 4.]\n",
            " [ 8.]\n",
            " [12.]]\n",
            "<NDArray 4x1 @cpu(0)>\n"
          ],
          "name": "stdout"
        }
      ]
    },
    {
      "metadata": {
        "id": "Rej86ecnu5dK",
        "colab_type": "text"
      },
      "cell_type": "markdown",
      "source": [
        "Another Example"
      ]
    },
    {
      "metadata": {
        "id": "3CvZhGPGt-M6",
        "colab_type": "code",
        "colab": {
          "base_uri": "https://localhost:8080/",
          "height": 357
        },
        "outputId": "53a507e0-4e8a-49f6-f202-e0c81aee0a50"
      },
      "cell_type": "code",
      "source": [
        "x = nd.arange(9).reshape((3, -1))\n",
        "print(x)\n",
        "\n",
        "x.attach_grad()\n",
        "with autograd.record():\n",
        "    y = nd.log(x)\n",
        "print(y)\n",
        "\n",
        "y.backward()\n",
        "print(x.grad)\n",
        "print(nd.reciprocal(x))"
      ],
      "execution_count": 7,
      "outputs": [
        {
          "output_type": "stream",
          "text": [
            "\n",
            "[[0. 1. 2.]\n",
            " [3. 4. 5.]\n",
            " [6. 7. 8.]]\n",
            "<NDArray 3x3 @cpu(0)>\n",
            "\n",
            "[[     -inf 0.        0.6931472]\n",
            " [1.0986123 1.3862944 1.609438 ]\n",
            " [1.7917595 1.9459101 2.0794415]]\n",
            "<NDArray 3x3 @cpu(0)>\n",
            "\n",
            "[[       inf 1.         0.5       ]\n",
            " [0.33333334 0.25       0.2       ]\n",
            " [0.16666667 0.14285715 0.125     ]]\n",
            "<NDArray 3x3 @cpu(0)>\n",
            "\n",
            "[[       inf 1.         0.5       ]\n",
            " [0.33333334 0.25       0.2       ]\n",
            " [0.16666667 0.14285715 0.125     ]]\n",
            "<NDArray 3x3 @cpu(0)>\n"
          ],
          "name": "stdout"
        }
      ]
    },
    {
      "metadata": {
        "id": "crloR_n8x9hW",
        "colab_type": "text"
      },
      "cell_type": "markdown",
      "source": [
        "Training Mode and Prediction Mode"
      ]
    },
    {
      "metadata": {
        "id": "deDFJpgAvFf5",
        "colab_type": "code",
        "colab": {
          "base_uri": "https://localhost:8080/",
          "height": 51
        },
        "outputId": "366b7b0a-b501-434f-acc6-b09bbb40030e"
      },
      "cell_type": "code",
      "source": [
        "print(autograd.is_training())\n",
        "with autograd.record():\n",
        "    print(autograd.is_training())"
      ],
      "execution_count": 8,
      "outputs": [
        {
          "output_type": "stream",
          "text": [
            "False\n",
            "True\n"
          ],
          "name": "stdout"
        }
      ]
    },
    {
      "metadata": {
        "id": "cliDp2vqy5ic",
        "colab_type": "text"
      },
      "cell_type": "markdown",
      "source": [
        "Computing the Gradient of Python Control Flow"
      ]
    },
    {
      "metadata": {
        "id": "O9l-W5djyELs",
        "colab_type": "code",
        "colab": {}
      },
      "cell_type": "code",
      "source": [
        "def f(a):\n",
        "    b = a * 2\n",
        "    while b.norm().asscalar() < 1000:\n",
        "        b = b * 2\n",
        "    if b.sum().asscalar() > 0:\n",
        "        c = b\n",
        "    else:\n",
        "        c = 100 * b\n",
        "    return c"
      ],
      "execution_count": 0,
      "outputs": []
    },
    {
      "metadata": {
        "id": "SZRBiEdTy9ju",
        "colab_type": "code",
        "colab": {
          "base_uri": "https://localhost:8080/",
          "height": 170
        },
        "outputId": "f20deb09-d423-450a-9fed-3226e3c67ab6"
      },
      "cell_type": "code",
      "source": [
        "a = -2 * nd.ones(shape=1)\n",
        "print(a)\n",
        "\n",
        "a.attach_grad()\n",
        "with autograd.record():\n",
        "  # Below thing means you can compute the function using normal python control flow\n",
        "  d = f(a)\n",
        "print(d)\n",
        "\n",
        "d.backward()\n",
        "# Since the function which we created is linear, the following holds true\n",
        "print(a.grad == (d / a))"
      ],
      "execution_count": 10,
      "outputs": [
        {
          "output_type": "stream",
          "text": [
            "\n",
            "[-2.]\n",
            "<NDArray 1 @cpu(0)>\n",
            "\n",
            "[-102400.]\n",
            "<NDArray 1 @cpu(0)>\n",
            "\n",
            "[1.]\n",
            "<NDArray 1 @cpu(0)>\n"
          ],
          "name": "stdout"
        }
      ]
    },
    {
      "metadata": {
        "id": "h8uOtY1-6PmC",
        "colab_type": "text"
      },
      "cell_type": "markdown",
      "source": [
        "Head gradients and the chain rule"
      ]
    },
    {
      "metadata": {
        "id": "I4PAwZzfMgpq",
        "colab_type": "code",
        "colab": {
          "base_uri": "https://localhost:8080/",
          "height": 221
        },
        "outputId": "a5f7bf78-aaa0-4ced-a2bf-6246b86ea39a"
      },
      "cell_type": "code",
      "source": [
        "x = nd.arange(4).reshape(shape=(4, -1))\n",
        "print(x)\n",
        "\n",
        "x.attach_grad()\n",
        "with autograd.record():\n",
        "    y = x * 2\n",
        "    z = y * x\n",
        "\n",
        "# here head_gradient is called dz/dy\n",
        "head_gradient = nd.array([10, 1., .1, .01])\n",
        "z.backward(head_gradient)\n",
        "print(x.grad)"
      ],
      "execution_count": 11,
      "outputs": [
        {
          "output_type": "stream",
          "text": [
            "\n",
            "[[0.]\n",
            " [1.]\n",
            " [2.]\n",
            " [3.]]\n",
            "<NDArray 4x1 @cpu(0)>\n",
            "\n",
            "[[0.  ]\n",
            " [4.  ]\n",
            " [0.8 ]\n",
            " [0.12]]\n",
            "<NDArray 4x1 @cpu(0)>\n"
          ],
          "name": "stdout"
        }
      ]
    },
    {
      "metadata": {
        "id": "M2nQDNi0zGyj",
        "colab_type": "code",
        "colab": {
          "base_uri": "https://localhost:8080/",
          "height": 323
        },
        "outputId": "a3e4a0da-5fc8-4551-95d0-bef7165bc207"
      },
      "cell_type": "code",
      "source": [
        "x = nd.arange(4).reshape(shape=(4, -1))\n",
        "print('x : ', x)\n",
        "\n",
        "x.attach_grad()\n",
        "with autograd.record():\n",
        "    y = x * 2\n",
        "print('y : ', y)\n",
        "\n",
        "y.backward()\n",
        "dydx = x.grad\n",
        "print('dydx : ', dydx)"
      ],
      "execution_count": 12,
      "outputs": [
        {
          "output_type": "stream",
          "text": [
            "x :  \n",
            "[[0.]\n",
            " [1.]\n",
            " [2.]\n",
            " [3.]]\n",
            "<NDArray 4x1 @cpu(0)>\n",
            "y :  \n",
            "[[0.]\n",
            " [2.]\n",
            " [4.]\n",
            " [6.]]\n",
            "<NDArray 4x1 @cpu(0)>\n",
            "dydx :  \n",
            "[[2.]\n",
            " [2.]\n",
            " [2.]\n",
            " [2.]]\n",
            "<NDArray 4x1 @cpu(0)>\n"
          ],
          "name": "stdout"
        }
      ]
    },
    {
      "metadata": {
        "id": "FO3JbCp16YVJ",
        "colab_type": "code",
        "colab": {
          "base_uri": "https://localhost:8080/",
          "height": 221
        },
        "outputId": "4d27ad96-3a0a-414b-ce22-5869efb537d9"
      },
      "cell_type": "code",
      "source": [
        "x.attach_grad()\n",
        "with autograd.record():\n",
        "    z = y * x \n",
        "print('z : ', z)\n",
        "\n",
        "z.backward(dydx)\n",
        "dzdx = x.grad\n",
        "print('dzdx : ', dzdx)"
      ],
      "execution_count": 13,
      "outputs": [
        {
          "output_type": "stream",
          "text": [
            "z :  \n",
            "[[ 0.]\n",
            " [ 2.]\n",
            " [ 8.]\n",
            " [18.]]\n",
            "<NDArray 4x1 @cpu(0)>\n",
            "dzdx :  \n",
            "[[ 0.]\n",
            " [ 4.]\n",
            " [ 8.]\n",
            " [12.]]\n",
            "<NDArray 4x1 @cpu(0)>\n"
          ],
          "name": "stdout"
        }
      ]
    },
    {
      "metadata": {
        "id": "-midzfik0w_4",
        "colab_type": "text"
      },
      "cell_type": "markdown",
      "source": [
        "Exercises"
      ]
    },
    {
      "metadata": {
        "id": "ovQCOTQozcov",
        "colab_type": "code",
        "colab": {
          "base_uri": "https://localhost:8080/",
          "height": 204
        },
        "outputId": "01cc9cf6-bfa5-4435-d4d6-f2b2a4e5ebdb"
      },
      "cell_type": "code",
      "source": [
        "a = nd.random.normal(shape=(3,2))\n",
        "print(a)\n",
        "\n",
        "a.attach_grad()\n",
        "with autograd.record():\n",
        "  d = f(a)\n",
        "print(d)\n",
        "\n",
        "d.backward()\n",
        "print(((a.grad == (d / a)) - nd.ones(shape=(3,2))).norm().asscalar() == 0)"
      ],
      "execution_count": 14,
      "outputs": [
        {
          "output_type": "stream",
          "text": [
            "\n",
            "[[ 2.2122064  0.7740038]\n",
            " [ 1.0434403  1.1839255]\n",
            " [ 1.8917114 -1.2347414]]\n",
            "<NDArray 3x2 @cpu(0)>\n",
            "\n",
            "[[1132.6497   396.28995]\n",
            " [ 534.24146  606.16986]\n",
            " [ 968.5562  -632.1876 ]]\n",
            "<NDArray 3x2 @cpu(0)>\n",
            "True\n"
          ],
          "name": "stdout"
        }
      ]
    },
    {
      "metadata": {
        "id": "h-AHZ4Eh1W7G",
        "colab_type": "code",
        "colab": {
          "base_uri": "https://localhost:8080/",
          "height": 221
        },
        "outputId": "94c6b65b-7d30-4ab7-9c9b-69c0c415de91"
      },
      "cell_type": "code",
      "source": [
        "def f1(a):\n",
        "    i = 0\n",
        "    b = a\n",
        "    while i < 4:\n",
        "      b = b * a\n",
        "      i += 1\n",
        "    return b\n",
        "  \n",
        "a = 2 * nd.ones(shape=(1,1))\n",
        "print('a : ', a)\n",
        "a.attach_grad()\n",
        "with autograd.record():\n",
        "  c = f1(a)\n",
        "print('c : ', c)\n",
        "\n",
        "c.backward()\n",
        "print('a.grad : ', a.grad)\n",
        "print('verify gradient : ', a.grad == 5 * nd.power(a, 4))"
      ],
      "execution_count": 15,
      "outputs": [
        {
          "output_type": "stream",
          "text": [
            "a :  \n",
            "[[2.]]\n",
            "<NDArray 1x1 @cpu(0)>\n",
            "c :  \n",
            "[[32.]]\n",
            "<NDArray 1x1 @cpu(0)>\n",
            "a.grad :  \n",
            "[[80.]]\n",
            "<NDArray 1x1 @cpu(0)>\n",
            "verify gradient :  \n",
            "[[1.]]\n",
            "<NDArray 1x1 @cpu(0)>\n"
          ],
          "name": "stdout"
        }
      ]
    },
    {
      "metadata": {
        "id": "VgFO1gBM4XUQ",
        "colab_type": "code",
        "colab": {
          "base_uri": "https://localhost:8080/",
          "height": 813
        },
        "outputId": "28064298-3707-4aed-af50-8f55a6142dc0"
      },
      "cell_type": "code",
      "source": [
        "highest_bid = nd.random.normal(4, 1, shape=(1,1))\n",
        "print('highest_bid : ', highest_bid)\n",
        "\n",
        "highest_bid.attach_grad()\n",
        "with autograd.record():\n",
        "  second_highest_price = nd.abs(nd.random.normal(shape=(1,1)))\n",
        "print('winning_bid/second_highest_price : ', second_highest_price)\n",
        "\n",
        "second_highest_price.backward()\n",
        "print(highest_bid.grad)\n",
        "\n",
        "# we are calculating gradient of winning_bid/second_highest_price with respect to highest_bid.\n",
        "# Since the second_highest_price doesn't depend on highest_bid, we cannot compute the gradient and it throws below error"
      ],
      "execution_count": 16,
      "outputs": [
        {
          "output_type": "stream",
          "text": [
            "highest_bid :  \n",
            "[[2.228971]]\n",
            "<NDArray 1x1 @cpu(0)>\n",
            "winning_bid/second_highest_price :  \n",
            "[[0.45138445]]\n",
            "<NDArray 1x1 @cpu(0)>\n"
          ],
          "name": "stdout"
        },
        {
          "output_type": "error",
          "ename": "MXNetError",
          "evalue": "ignored",
          "traceback": [
            "\u001b[0;31m---------------------------------------------------------------------------\u001b[0m",
            "\u001b[0;31mMXNetError\u001b[0m                                Traceback (most recent call last)",
            "\u001b[0;32m<ipython-input-16-f7a9c1013e38>\u001b[0m in \u001b[0;36m<module>\u001b[0;34m()\u001b[0m\n\u001b[1;32m      7\u001b[0m \u001b[0mprint\u001b[0m\u001b[0;34m(\u001b[0m\u001b[0;34m'winning_bid/second_highest_price : '\u001b[0m\u001b[0;34m,\u001b[0m \u001b[0msecond_highest_price\u001b[0m\u001b[0;34m)\u001b[0m\u001b[0;34m\u001b[0m\u001b[0;34m\u001b[0m\u001b[0m\n\u001b[1;32m      8\u001b[0m \u001b[0;34m\u001b[0m\u001b[0m\n\u001b[0;32m----> 9\u001b[0;31m \u001b[0msecond_highest_price\u001b[0m\u001b[0;34m.\u001b[0m\u001b[0mbackward\u001b[0m\u001b[0;34m(\u001b[0m\u001b[0;34m)\u001b[0m\u001b[0;34m\u001b[0m\u001b[0;34m\u001b[0m\u001b[0m\n\u001b[0m\u001b[1;32m     10\u001b[0m \u001b[0mprint\u001b[0m\u001b[0;34m(\u001b[0m\u001b[0mhighest_bid\u001b[0m\u001b[0;34m.\u001b[0m\u001b[0mgrad\u001b[0m\u001b[0;34m)\u001b[0m\u001b[0;34m\u001b[0m\u001b[0;34m\u001b[0m\u001b[0m\n\u001b[1;32m     11\u001b[0m \u001b[0;34m\u001b[0m\u001b[0m\n",
            "\u001b[0;32m/usr/local/lib/python3.6/dist-packages/mxnet/ndarray/ndarray.py\u001b[0m in \u001b[0;36mbackward\u001b[0;34m(self, out_grad, retain_graph, train_mode)\u001b[0m\n\u001b[1;32m   2190\u001b[0m             \u001b[0mctypes\u001b[0m\u001b[0;34m.\u001b[0m\u001b[0mc_int\u001b[0m\u001b[0;34m(\u001b[0m\u001b[0mtrain_mode\u001b[0m\u001b[0;34m)\u001b[0m\u001b[0;34m,\u001b[0m\u001b[0;34m\u001b[0m\u001b[0;34m\u001b[0m\u001b[0m\n\u001b[1;32m   2191\u001b[0m             \u001b[0mctypes\u001b[0m\u001b[0;34m.\u001b[0m\u001b[0mc_void_p\u001b[0m\u001b[0;34m(\u001b[0m\u001b[0;36m0\u001b[0m\u001b[0;34m)\u001b[0m\u001b[0;34m,\u001b[0m\u001b[0;34m\u001b[0m\u001b[0;34m\u001b[0m\u001b[0m\n\u001b[0;32m-> 2192\u001b[0;31m             ctypes.c_void_p(0)))\n\u001b[0m\u001b[1;32m   2193\u001b[0m \u001b[0;34m\u001b[0m\u001b[0m\n\u001b[1;32m   2194\u001b[0m     \u001b[0;32mdef\u001b[0m \u001b[0mtostype\u001b[0m\u001b[0;34m(\u001b[0m\u001b[0mself\u001b[0m\u001b[0;34m,\u001b[0m \u001b[0mstype\u001b[0m\u001b[0;34m)\u001b[0m\u001b[0;34m:\u001b[0m\u001b[0;34m\u001b[0m\u001b[0;34m\u001b[0m\u001b[0m\n",
            "\u001b[0;32m/usr/local/lib/python3.6/dist-packages/mxnet/base.py\u001b[0m in \u001b[0;36mcheck_call\u001b[0;34m(ret)\u001b[0m\n\u001b[1;32m    249\u001b[0m     \"\"\"\n\u001b[1;32m    250\u001b[0m     \u001b[0;32mif\u001b[0m \u001b[0mret\u001b[0m \u001b[0;34m!=\u001b[0m \u001b[0;36m0\u001b[0m\u001b[0;34m:\u001b[0m\u001b[0;34m\u001b[0m\u001b[0;34m\u001b[0m\u001b[0m\n\u001b[0;32m--> 251\u001b[0;31m         \u001b[0;32mraise\u001b[0m \u001b[0mMXNetError\u001b[0m\u001b[0;34m(\u001b[0m\u001b[0mpy_str\u001b[0m\u001b[0;34m(\u001b[0m\u001b[0m_LIB\u001b[0m\u001b[0;34m.\u001b[0m\u001b[0mMXGetLastError\u001b[0m\u001b[0;34m(\u001b[0m\u001b[0;34m)\u001b[0m\u001b[0;34m)\u001b[0m\u001b[0;34m)\u001b[0m\u001b[0;34m\u001b[0m\u001b[0;34m\u001b[0m\u001b[0m\n\u001b[0m\u001b[1;32m    252\u001b[0m \u001b[0;34m\u001b[0m\u001b[0m\n\u001b[1;32m    253\u001b[0m \u001b[0;34m\u001b[0m\u001b[0m\n",
            "\u001b[0;31mMXNetError\u001b[0m: [06:57:25] src/imperative/imperative.cc:285: Check failed: !AGInfo::IsNone(*i) Cannot differentiate node because it is not in a computational graph. You need to set is_recording to true or use autograd.record() to save computational graphs for backward. If you want to differentiate the same graph twice, you need to pass retain_graph=True to backward.\n\nStack trace returned 10 entries:\n[bt] (0) /usr/local/lib/python3.6/dist-packages/mxnet/libmxnet.so(+0x1e945a) [0x7f946a7e945a]\n[bt] (1) /usr/local/lib/python3.6/dist-packages/mxnet/libmxnet.so(+0x1e9ac1) [0x7f946a7e9ac1]\n[bt] (2) /usr/local/lib/python3.6/dist-packages/mxnet/libmxnet.so(+0x29a2edd) [0x7f946cfa2edd]\n[bt] (3) /usr/local/lib/python3.6/dist-packages/mxnet/libmxnet.so(MXAutogradBackwardEx+0x573) [0x7f946ceb2003]\n[bt] (4) /usr/lib/x86_64-linux-gnu/libffi.so.6(ffi_call_unix64+0x4c) [0x7f9493d38dae]\n[bt] (5) /usr/lib/x86_64-linux-gnu/libffi.so.6(ffi_call+0x22f) [0x7f9493d3871f]\n[bt] (6) /usr/lib/python3.6/lib-dynload/_ctypes.cpython-36m-x86_64-linux-gnu.so(_ctypes_callproc+0x2b4) [0x7f9493f4c524]\n[bt] (7) /usr/lib/python3.6/lib-dynload/_ctypes.cpython-36m-x86_64-linux-gnu.so(+0x11b93) [0x7f9493f4cb93]\n[bt] (8) /usr/bin/python3(_PyObject_FastCallKeywords+0x19c) [0x5a730c]\n[bt] (9) /usr/bin/python3() [0x503073]\n\n"
          ]
        }
      ]
    },
    {
      "metadata": {
        "id": "x9aGKuWL-sl6",
        "colab_type": "code",
        "colab": {}
      },
      "cell_type": "code",
      "source": [
        "# I think mxnet still doesn't support computing higher order derivatives.\n",
        "# Second derivative is much more expensive to compute than the first derivative because I believe autograd needs to retain graph and compute again inorder to find second order derivate "
      ],
      "execution_count": 0,
      "outputs": []
    },
    {
      "metadata": {
        "id": "bYwx_QPIL7MN",
        "colab_type": "code",
        "colab": {
          "base_uri": "https://localhost:8080/",
          "height": 362
        },
        "outputId": "bdbf23c3-1c86-428c-c27a-905abac57d64"
      },
      "cell_type": "code",
      "source": [
        "x = nd.arange(-2 * pi, 2 * pi, 0.001)\n",
        "x.attach_grad()\n",
        "\n",
        "with autograd.record():\n",
        "  y = nd.sin(x)\n",
        "\n",
        "y.backward()\n",
        "\n",
        "plt.plot(x.asnumpy(), y.asnumpy())\n",
        "plt.plot(x.asnumpy(), x.grad.asnumpy())\n",
        "plt.legend(['sin', 'cos'], loc='lower left')\n",
        "plt.title('sin and cos graph')\n",
        "plt.show()"
      ],
      "execution_count": 18,
      "outputs": [
        {
          "output_type": "display_data",
          "data": {
            "image/png": "[encoded data removed]",
            "text/plain": [
              "<Figure size 576x396 with 1 Axes>"
            ]
          },
          "metadata": {
            "tags": []
          }
        }
      ]
    }
  ]
}