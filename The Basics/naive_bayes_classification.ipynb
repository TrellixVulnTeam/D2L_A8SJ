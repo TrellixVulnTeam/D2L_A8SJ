{
  "nbformat": 4,
  "nbformat_minor": 0,
  "metadata": {
    "colab": {
      "name": "naive_bayes_classification.ipynb",
      "version": "0.3.2",
      "provenance": [],
      "collapsed_sections": [],
      "include_colab_link": true
    },
    "kernelspec": {
      "name": "python3",
      "display_name": "Python 3"
    },
    "accelerator": "GPU"
  },
  "cells": [
    {
      "cell_type": "markdown",
      "metadata": {
        "id": "view-in-github",
        "colab_type": "text"
      },
      "source": [
        "<a href=\"https://colab.research.google.com/github/prasanth5reddy/D2L/blob/master/The%20Basics/naive_bayes_classification.ipynb\" target=\"_parent\"><img src=\"https://colab.research.google.com/assets/colab-badge.svg\" alt=\"Open In Colab\"/></a>"
      ]
    },
    {
      "metadata": {
        "id": "FGY40wcFlwwm",
        "colab_type": "text"
      },
      "cell_type": "markdown",
      "source": [
        "Installing Libraries"
      ]
    },
    {
      "metadata": {
        "id": "7RdS4Cjsk38W",
        "colab_type": "code",
        "colab": {
          "base_uri": "https://localhost:8080/",
          "height": 153
        },
        "outputId": "5eb27260-47df-43d2-8ee6-5f180735edb1"
      },
      "cell_type": "code",
      "source": [
        "!pip install mxnet"
      ],
      "execution_count": 4,
      "outputs": [
        {
          "output_type": "stream",
          "text": [
            "Requirement already satisfied: mxnet in /usr/local/lib/python3.6/dist-packages (1.4.0)\n",
            "Requirement already satisfied: requests>=2.20.0 in /usr/local/lib/python3.6/dist-packages (from mxnet) (2.21.0)\n",
            "Requirement already satisfied: graphviz<0.9.0,>=0.8.1 in /usr/local/lib/python3.6/dist-packages (from mxnet) (0.8.4)\n",
            "Requirement already satisfied: numpy<1.15.0,>=1.8.2 in /usr/local/lib/python3.6/dist-packages (from mxnet) (1.14.6)\n",
            "Requirement already satisfied: certifi>=2017.4.17 in /usr/local/lib/python3.6/dist-packages (from requests>=2.20.0->mxnet) (2018.11.29)\n",
            "Requirement already satisfied: chardet<3.1.0,>=3.0.2 in /usr/local/lib/python3.6/dist-packages (from requests>=2.20.0->mxnet) (3.0.4)\n",
            "Requirement already satisfied: idna<2.9,>=2.5 in /usr/local/lib/python3.6/dist-packages (from requests>=2.20.0->mxnet) (2.6)\n",
            "Requirement already satisfied: urllib3<1.25,>=1.21.1 in /usr/local/lib/python3.6/dist-packages (from requests>=2.20.0->mxnet) (1.22)\n"
          ],
          "name": "stdout"
        }
      ]
    },
    {
      "metadata": {
        "id": "tfAEJPh2mBnb",
        "colab_type": "text"
      },
      "cell_type": "markdown",
      "source": [
        "Importing Libraries"
      ]
    },
    {
      "metadata": {
        "id": "coXsfxYumFPA",
        "colab_type": "code",
        "colab": {}
      },
      "cell_type": "code",
      "source": [
        "import mxnet as mx\n",
        "from mxnet import nd\n",
        "import numpy as np\n",
        "\n",
        "from matplotlib import pyplot as plt\n",
        "from IPython import display\n",
        "\n",
        "%matplotlib inline\n",
        "display.set_matplotlib_formats('svg')"
      ],
      "execution_count": 0,
      "outputs": []
    },
    {
      "metadata": {
        "id": "pORMHsIin-Ek",
        "colab_type": "text"
      },
      "cell_type": "markdown",
      "source": [
        "Optical Character Recognition"
      ]
    },
    {
      "metadata": {
        "id": "8jtKTybHnpJH",
        "colab_type": "code",
        "colab": {}
      },
      "cell_type": "code",
      "source": [
        "# We go over one observation at a time (speed doesn't matter here)\n",
        "def transform(data, label):\n",
        "    return (nd.floor(data/128)).astype(np.float32), label.astype(np.float32)\n",
        "\n",
        "mnist_train = mx.gluon.data.vision.MNIST(train=True, transform=transform)\n",
        "mnist_test  = mx.gluon.data.vision.MNIST(train=False, transform=transform)\n",
        "\n",
        "# Initialize the counters\n",
        "xcount = nd.ones((784,10))\n",
        "ycount = nd.ones((10))\n",
        "\n",
        "for data, label in mnist_train:\n",
        "    y = int(label)\n",
        "    ycount[y] += 1\n",
        "    xcount[:,y] += data.reshape((784))\n",
        "\n",
        "# using broadcast again for division\n",
        "py = ycount / ycount.sum()\n",
        "px = (xcount / ycount.reshape(1,10))"
      ],
      "execution_count": 0,
      "outputs": []
    },
    {
      "metadata": {
        "id": "v4xibqvYn67s",
        "colab_type": "code",
        "colab": {
          "base_uri": "https://localhost:8080/",
          "height": 171
        },
        "outputId": "95138add-f5d0-4f5f-aa96-5d2db6c7a0c9"
      },
      "cell_type": "code",
      "source": [
        "import matplotlib.pyplot as plt\n",
        "fig, figarr = plt.subplots(1, 10, figsize=(10, 10))\n",
        "for i in range(10):\n",
        "    figarr[i].imshow(xcount[:, i].reshape((28, 28)).asnumpy(), cmap='hot')\n",
        "    figarr[i].axes.get_xaxis().set_visible(False)\n",
        "    figarr[i].axes.get_yaxis().set_visible(False)\n",
        "\n",
        "plt.show()\n",
        "print('Class probabilities', py)"
      ],
      "execution_count": 46,
      "outputs": [
        {
          "output_type": "display_data",
          "data": {
            "text/plain": [
              "<Figure size 720x720 with 10 Axes>"
            ],
            "image/svg+xml": "<?xml version=\"1.0\" encoding=\"utf-8\" standalone=\"no\"?>\n<!DOCTYPE svg PUBLIC \"-//W3C//DTD SVG 1.1//EN\"\n  \"http://www.w3.org/Graphics/SVG/1.1/DTD/svg11.dtd\">\n<!-- Created with matplotlib (https://matplotlib.org/) -->\n<svg height=\"61.688136pt\" version=\"1.1\" viewBox=\"0 0 572.4 61.688136\" width=\"572.4pt\" xmlns=\"http://www.w3.org/2000/svg\" xmlns:xlink=\"http://www.w3.org/1999/xlink\">\n <defs>\n  <style type=\"text/css\">\n*{stroke-linecap:butt;stroke-linejoin:round;}\n  </style>\n </defs>\n <g id=\"figure_1\">\n  <g id=\"patch_1\">\n   <path d=\"M 0 61.688136 \nL 572.4 61.688136 \nL 572.4 0 \nL 0 0 \nz\n\" style=\"fill:none;\"/>\n  </g>\n  <g id=\"axes_1\">\n   <g id=\"patch_2\">\n    <path d=\"M 7.2 54.488136 \nL 54.488136 54.488136 \nL 54.488136 7.2 \nL 7.2 7.2 \nz\n\" style=\"fill:#eaeaf2;\"/>\n   </g>\n   <g clip-path=\"url(#p55773318d7)\">\n    <image height=\"48\" id=\"image8e260a6392\" transform=\"scale(1 -1)translate(0 -48)\" width=\"48\" x=\"7.2\" xlink:href=\"data:image/png;base64,\niVBORw0KGgoAAAANSUhEUgAAADAAAAAwCAYAAABXAvmHAAAABHNCSVQICAgIfAhkiAAABMhJREFUaIHtmW9o1WUUxz/70zTLaY7WmGnbLjKZLGyLHNtijZQmaOUQltAfVkGZaEZJVC+jXgQRSBTaP19EUU6i1KIyY0jiRo6WbG6YNZ1JrlyFOTRd9eJ8z+/5MW63K70Yd9t58zm/Z8+993eec85zzvMsawb8TQZL9ni/wP+VKQPGWzLegNx0J14mThcLgGull4hFsbnnpP8kDgKnpJ8Wz4h/AaPpvsgYmRwemAmUSb9NfBCYu0oPa8RGMR/4Rvpn4ptw4AdTP9HQPvEY8Jt091y6kvEeyEpVyDzeq4C10ptvkPIKUOOjG8SF4kXghPTd4vOw/aSpLxgOfG1sA/Zr1jHxDOnlRUoD5omtwJOlenhHrFkfe/ErxT6xX0ZAWAaALwxH3zVuNpzdDFs0w8Orl5DkqQzJ+BBKmcTF4lKwrAWoqZCSwOIIuPiS0ZfvCHC19EpxcSHQoI+uND6zE4ArZsFjz9pQjqaPYl6A4IlkMrE9UCBWTwPqfbRa7IAexfImw4A8MEBwwKI5UlYPQet202vmGwtvMrZ2kjUi9UXjMGFr/V68cKkGePWlmFBmo6T8CnaZdlwv/rL+0h/7bPmwccVWqOvS4OPHjS1iaTGsth0q/4gNrfrIIhFCBXeD4jKxQyhyWQ4hu6Ja+Ue0JO5iZ1/ss76K3wEntO+3PB37XrDVX+K6YXE33KiicEh/mnwe8K6RQUJbmXAPlECxxbAXvHjJUk5G/jpHKEiz1BM1bdVAMVCXZ3r9n8ZGaNhmqu/O7uG4TGwPeMwNnIcSryp13q0koFaaDgblan/6CMXHc+F3Qj7sEaukFDYCVVp5d2ctVG4z9RoNxYtcWgZoB6QDKGnXQ2unPlkO1drkm21mg3qb7pgB8UOLL4gb0i0u6yKEaGmhsWyIPC3MbO8Lk8jEDiFPwC6g5VM9fCku6yfa++61NLtFc/r7w8oPimeBvDHf+7P/0KnYoHe2BUN2ksK8928yOTzQCxz8xfTqDzW4pBPydaasVt+60dqBhzbAqLLXHXcy9r35YrTtTie4xz2QTbQD+HskOxekNMBdN0jYOarfk1IP3HXQrTHc90H0to+oKZupgtBBSOKE6I05FcB1Y15phCj+olBLIhM7hNxlpwlb3j6F0s1vA5XqJhdpv7tcB5UndkYJeM9bxtrDYfucKy708/VyIPd6PegHeuHoeVOT9UAuE9sDLiOEPmSvWLEbCjyIn9KdwlXLjfkrYZMO8JWWBIl2SPRrvp9VNZ2m+UT19tdvje2g5nXKA1wAfpTeIc4D7n8j9gCwVn1j7hrgAdOb1Ac0dRPFN7PFW8UioisXbz3brIBCag+kfbnr7bG3cnuAOWqW7tSlRHSOfHgHsE4PLeI6YJp0N8ANeh961GO9bvh4JBxk/LeTScaHUMqbubh4KztDLMKuHAFWiM2enBuBR6XnrZdyB+Gew4/pOww9r8Fzph7SRcerwOdjZierxJPHAy7xf3T43c8CcanYDBTdroe7xXrC1YzvybqWYQvsPWxqm4b2EzrZVFful2yASw6hGfOw8jusBYTw8pvFMqLiHPU2vTF6pfdqPYy14P8lky+EUoknenZMj4+5eJc7OoaQ/PowlUx5YLwl4z0wZcB4S8Yb8A8VoSxPiqjWPwAAAABJRU5ErkJggg==\" y=\"-6.488136\"/>\n   </g>\n   <g id=\"patch_3\">\n    <path d=\"M 7.2 54.488136 \nL 7.2 7.2 \n\" style=\"fill:none;\"/>\n   </g>\n   <g id=\"patch_4\">\n    <path d=\"M 54.488136 54.488136 \nL 54.488136 7.2 \n\" style=\"fill:none;\"/>\n   </g>\n   <g id=\"patch_5\">\n    <path d=\"M 7.2 54.488136 \nL 54.488136 54.488136 \n\" style=\"fill:none;\"/>\n   </g>\n   <g id=\"patch_6\">\n    <path d=\"M 7.2 7.2 \nL 54.488136 7.2 \n\" style=\"fill:none;\"/>\n   </g>\n  </g>\n  <g id=\"axes_2\">\n   <g id=\"patch_7\">\n    <path d=\"M 63.945763 54.488136 \nL 111.233898 54.488136 \nL 111.233898 7.2 \nL 63.945763 7.2 \nz\n\" style=\"fill:#eaeaf2;\"/>\n   </g>\n   <g clip-path=\"url(#p84ed863449)\">\n    <image height=\"48\" id=\"imagef1ad17ada6\" transform=\"scale(1 -1)translate(0 -48)\" width=\"48\" x=\"63.945763\" xlink:href=\"data:image/png;base64,\niVBORw0KGgoAAAANSUhEUgAAADAAAAAwCAYAAABXAvmHAAAABHNCSVQICAgIfAhkiAAAAwNJREFUaIHtmcFqE1EUhr9aU2JraCuIYimVglYRVyrtQuhSRdx0oW/hI7h05wv4AG5cCYKISujGqthiESQqSKUlCLWxGluCIdHF/U/uTUxxkiaUOPPD4T8zc2cy95z/3Ln3pm8QftPD2LfXL7BbJB34F/pl3ULPZ2B/1IYWxbR4EBgJ/PBaFUjJtwgVgC/yi+JyK2+6A+KRgRQwJP+I+CwwHfjhtYHg3pJ4GXgs/7l4XVwGKtHe9y/EIwPge2rRHQHG5Z8XH5gILho2HFXW4K1OHRJbLYTRbzUTkTpQxRecSWIz8GvDpHXgOL6K3znKrPl2jcXbr99oB/GQUIX6yAOsAp/kWzGOWYin8DrZFi/AD7n2rEoDg89SVCnFIwPgNWqFl8cXpfGYpecYcEF+wVE6uNeS0uxD1pUiDh9sXADey38pvmwn0sCZk84vfgDcwGQdaJRQleQ70DpKOBkBvBYvShvnCgBX3cHMQQAGJpYofXanTDomy3ajD/9BBtruQAXYkuVkD2VusjMmu+3siiuNtO4NbTeIbwbAabiKG5EKQFbGA3BVUgJmnd2EozjrJDqSgbJsRXb/J8AzmYRz+pp1pSalTiDeEmqEiSYLsJh1FkhpbhjmhmESZyn8pLVd9HwG2v6QhbAo2ExyHeCODu7NyxmBG867eNdxPmjf7nDakQ40ogLwxI5uia/Xlm6X1IElXdnCz5NaRSIh8NIJpfTtq/NHX7xyzsxQ7SMwq3aPxHn8DLXVvaIkA+ALMMyELTNHn8oZz8Iv5/ZNOZ7W+iGHrwFbE0XNRJIB8JEPuTaqvBHP49OiBf8JHZ7CD6kW+SLRhtaODqOpgG3da/tCHA4alutPTQIf5Ycbv41Lz2ZIJBQi3NOxYkTLSJaDhquOLHoZ/DRblyhSq/kkAzvCImPat4ht4yOZUzFMLvj7rJZXxJs0H4qjoCMSCkcO8AUJXkGZoJ119Lt4g/qJHbggRNnw7XkJ9XXrj+5W/pmM9b5QV9YDsPv9nqjo+QwkHdhr9HwH/gB9jcLx/ogBngAAAABJRU5ErkJggg==\" y=\"-6.488136\"/>\n   </g>\n   <g id=\"patch_8\">\n    <path d=\"M 63.945763 54.488136 \nL 63.945763 7.2 \n\" style=\"fill:none;\"/>\n   </g>\n   <g id=\"patch_9\">\n    <path d=\"M 111.233898 54.488136 \nL 111.233898 7.2 \n\" style=\"fill:none;\"/>\n   </g>\n   <g id=\"patch_10\">\n    <path d=\"M 63.945763 54.488136 \nL 111.233898 54.488136 \n\" style=\"fill:none;\"/>\n   </g>\n   <g id=\"patch_11\">\n    <path d=\"M 63.945763 7.2 \nL 111.233898 7.2 \n\" style=\"fill:none;\"/>\n   </g>\n  </g>\n  <g id=\"axes_3\">\n   <g id=\"patch_12\">\n    <path d=\"M 120.691525 54.488136 \nL 167.979661 54.488136 \nL 167.979661 7.2 \nL 120.691525 7.2 \nz\n\" style=\"fill:#eaeaf2;\"/>\n   </g>\n   <g clip-path=\"url(#p5be454bdf2)\">\n    <image height=\"48\" id=\"imagecc665f3285\" transform=\"scale(1 -1)translate(0 -48)\" width=\"48\" x=\"120.691525\" xlink:href=\"data:image/png;base64,\niVBORw0KGgoAAAANSUhEUgAAADAAAAAwCAYAAABXAvmHAAAABHNCSVQICAgIfAhkiAAABJhJREFUaIHtmdtvVUUUxn/Qnqb0tEWqyAlYrQW0AQyGWk0ELBoIIUSNhBd89M/wyX+DBx/VeElM9IEghARQtDES8NJYvNVUTGmTWos9HltafZjvOzM93W2O8QHPhvXyrZk9+zLzrbVmrdlr2uBvGljW3u4P+K9ydwK3Wxp+As31DmwSesYtrDz7poy+hYy+xYxrqT5fx3flm4FW4UagW/p24TbgXulehZvCSWBK+rSwnDx3ruY988TVvpmg751NxtVKPhkoCh8Q7gdekn7AnceBPdJt9KPCS8CnQb0uKiaJ9u3hBWEZGJc+Ivwu0f1Ys5r6SeYEOoSPCV8EDjyhxmvCo08Cr6hhY/tGeBI+mQFgy/nQs2WEaAse7plUgOGgDn4d8FzyHQvJMIhmBnk1IS+QHXcXwLNq7PeoFwjcAJSEXqPDsPftoBqvzUQbsBe3CCepMtB5LuChj+JK27zGhGUiK/lkwOJZFiGulpel8zzQrsYu4UMJ2j92BnhkCPgi6LeuBfxVQypEg1dsLnZBz9SSruoQE7niBGZrBo4Bfd+qccVPOwOdN9Q4vPRj2UmMYc01CDT/EnBau8NXwJCufRZgYiruA4UaTCWfJuRd80fhRaDvtBo9wg5g4Mugr7MpbUqecp/Q1ypUw+yfesNlXToNnA3qlb8CjgAm3U5sWUvendjBcFT4MVD6I+jPn1TnNNGhBy8FbF+vjm1An/R7hCWqDHkDsxMPwUWt/Ofq+pm48h6WbmCWfDJg+3IUupz0jYuJQ69Dj9KEahA6ckoXT0HLCXUOCtuB34Paophc0I5Wif52VTjG8kzWDLiOAFhTz6lEEeiS3pugcyXndAPmc18yKWP//USzUsLzoZboVXhXXW9pRJo6OY3OSqvzaUK1Mkek0ynuONX0BaUv9IjbHRdg8IL6HH5PTMDLE0HvFJ+mczd0i4G25L0OJquVlvlmoKkGISaSZeLKmB1ni8NEdo6LiYFWYKs6D8r2ne7ugd1vLO0aJjqr35N1MFCXCbUSEymn2m0sr0vSujbdxQEGzhID0lPJQwB6Yd3DmsBPATuJ5pH14ZZ8m5Bn1wZslu7UtovIimtoh7kKkX7j+CKUbGOTwq16Q9diOPoANouB9WSfL630jQ0rqzLgGqaVWDTuEPaynBWvxiQxBJqlUiF5oCPBnPiZJxg9MXMqUt/q5psBS4HlqcRzQMnpv4/r0nMQJy7F5MZ90k2npUyVFftMVvWVJXXVxOnRn0NnqQA8rcZBoUtj21R6Qxew4UE1VOTMabeYpLqJzGhEmaVJ20qSbxNKT8RcXDgC/jYPG8yzvfkZr8dRoF96j7AduCVdCdKMGLgKswqfaa5193g9TQ28B7nk2wgce18Ne3i3rLb/B2CvOh8VVohnJ2LgHTXfhDNSXdCkoXg1qaugKZA4r3A7MaWxDz+ufIZjxLzHZ10Von28F2D2g9isncAN4s6+mjS8CdXFACw/0++gmr5UWXEqvIno19pgmSPW2KPC74XXCSsOq/+NyZI7h4Esqf1zmRZAtX0LxI3JqVDWX8p/K3c2A/8HaXgGGn4C/wCOlB3qFnQYOAAAAABJRU5ErkJggg==\" y=\"-6.488136\"/>\n   </g>\n   <g id=\"patch_13\">\n    <path d=\"M 120.691525 54.488136 \nL 120.691525 7.2 \n\" style=\"fill:none;\"/>\n   </g>\n   <g id=\"patch_14\">\n    <path d=\"M 167.979661 54.488136 \nL 167.979661 7.2 \n\" style=\"fill:none;\"/>\n   </g>\n   <g id=\"patch_15\">\n    <path d=\"M 120.691525 54.488136 \nL 167.979661 54.488136 \n\" style=\"fill:none;\"/>\n   </g>\n   <g id=\"patch_16\">\n    <path d=\"M 120.691525 7.2 \nL 167.979661 7.2 \n\" style=\"fill:none;\"/>\n   </g>\n  </g>\n  <g id=\"axes_4\">\n   <g id=\"patch_17\">\n    <path d=\"M 177.437288 54.488136 \nL 224.725424 54.488136 \nL 224.725424 7.2 \nL 177.437288 7.2 \nz\n\" style=\"fill:#eaeaf2;\"/>\n   </g>\n   <g clip-path=\"url(#pc3ff6dc823)\">\n    <image height=\"48\" id=\"imaged9a67e4773\" transform=\"scale(1 -1)translate(0 -48)\" width=\"48\" x=\"177.437288\" xlink:href=\"data:image/png;base64,\niVBORw0KGgoAAAANSUhEUgAAADAAAAAwCAYAAABXAvmHAAAABHNCSVQICAgIfAhkiAAABI1JREFUaIHtmUtslFUUx3/D0NFOrfYBtOGhlfCohgISI40LCTsFgZiALlw0Ji7AEBNdsCAxISYa98aFMSYSVKKJIVET42thYhrEF0iCFIjxgQ1YaaaWkpZxGBfnf+be+dpMx7rAmeFs/v97vzt3vnvP455zv1QWitSwzLveL/BfpeYXML/agU3CtPDmqC/5LA0UxPPCyYhfFV4T+ti5SH1qIN5lgFagS3y5sA/YIO7YeYtIBoqjRk+paxD4Xvy08DfhGKYh+PfaqHkNpGYKo77z3cLlwCbxR4W3bweeVGPbrSKPCZcAvxstvmZ4EHjF6LffGL6v0YPAWfGc0P1lNqkvDbjtdwhXC/uBx8VXPSTyNPDgYjW2CjcKlwIt4lPC48DzRl/+y/CAwaHRoI3jwhGq00LZAjwcLhHeI9wC7BTP+AI2E2zMV+6emAV6xde7eW0FFoi/Z/DGsOFzcOi80SMa8R2gOFDRsWvehMrCqG+ka8KNoEBwst6PNHYQGDf+q06kkWguD7ft98lcnjgMA+psvttwhzQwBDtfMqoehsP0DaSBQgJ9R88RdkMRkMkxuCQu8y2FwAJBe/ceMxw4Bi2/qHOPjjePFhugWRFj9ZDhMkqBuORasy7AcxN/2QvCPHYaQ1DZVPTCE4k/ukY4S3yuFmDgTTVkQXhAWEjpqO/UAm6L5qgk9WlCV4RuQuNMd3BvQ9iFlqivKfEsBxRlaymfeCoanCkfn6c8u43fL5b60oBL0mmuEHbU7bKDECq7E9gUje8UrgFSa9RYJsxGfyiHuqiu3AzvMZPUpwbc1uIc3fvczrsJGaqnGe3rRJYy3YC7CKnS/UJPds4CJ416/TBC8MVKB1nFkjL+YTrxrDt6j3bPsZ8R9i8GetT4O8LL4n8aHFW2cwQ+lUP7Ai4SSs9KUp8mVElcKxOEg6yknhXesZ+QgLcJTwOfGy3uNfzQ4MInJVoqN3NUl07XtwZ8Y+dRvvMAPwGfifceNuz0uHpgL8z3qT0FXQGcKJ/ka4NThCx0TFhtSVnxVsLVk2H6CTwKfCnu0WrHC4b9HwP7dltj14t6+lQY6aGsx6CLkNfFJ3g1NxQ1b0Iz3kr4Lig9IUvIRlujZzeJ+4Z6hdwHPCK+yH15H7B2rRrKc9/+w/BZOKgj+B2NOEEjFjRJ8d1eSNhdx7boeRPlMond9QBsecsw0woM/GANv8q7Q7gJNr5rVH7NMMHXG08DybvRDkIRtS7CleKpBYkfThAcwy+XegihxnOE6ArQleEazkbTVQqpFZM5xzThPO0TrroLeFgNT9J6hLF9LfJQsJ7wml4cq2C+GkJxPoGzSX2akBf37kSXgJ/FHXvHCGbiTnnnAyLbCWrxMgfgK+F+AxXwfBGu3l034zTyQebi4bGN8kMKrJjxw6rZ6wHHbUBmsxr+1WMIfjxj9HV1vWrwwWXQhR9HhecJFjDnBbikKV8M2Nngpa2Xur64lYSA45EkRzA/pXSl68pzhEssv9DNc8OEZpfkXVGMyRIUQmhMfsEsMPcvlo2tgf+D1LwGbizgekvNL+Affq0EcHzmrmYAAAAASUVORK5CYII=\" y=\"-6.488136\"/>\n   </g>\n   <g id=\"patch_18\">\n    <path d=\"M 177.437288 54.488136 \nL 177.437288 7.2 \n\" style=\"fill:none;\"/>\n   </g>\n   <g id=\"patch_19\">\n    <path d=\"M 224.725424 54.488136 \nL 224.725424 7.2 \n\" style=\"fill:none;\"/>\n   </g>\n   <g id=\"patch_20\">\n    <path d=\"M 177.437288 54.488136 \nL 224.725424 54.488136 \n\" style=\"fill:none;\"/>\n   </g>\n   <g id=\"patch_21\">\n    <path d=\"M 177.437288 7.2 \nL 224.725424 7.2 \n\" style=\"fill:none;\"/>\n   </g>\n  </g>\n  <g id=\"axes_5\">\n   <g id=\"patch_22\">\n    <path d=\"M 234.183051 54.488136 \nL 281.471186 54.488136 \nL 281.471186 7.2 \nL 234.183051 7.2 \nz\n\" style=\"fill:#eaeaf2;\"/>\n   </g>\n   <g clip-path=\"url(#pa4b2330506)\">\n    <image height=\"48\" id=\"image7900accb38\" transform=\"scale(1 -1)translate(0 -48)\" width=\"48\" x=\"234.183051\" xlink:href=\"data:image/png;base64,\niVBORw0KGgoAAAANSUhEUgAAADAAAAAwCAYAAABXAvmHAAAABHNCSVQICAgIfAhkiAAABEJJREFUaIHtmUGIW1UUhr+ZmDEmVuMMbaXatArTysgUUcGCLqdYUNBF60ZXduvGvejetUvRnTstiBuhdnBRxgoWC6UglGrHsXQYlRnClDQxqYv7/+/ePJ8xU4WSxLP5z7vvvpd7zn/Ouee+TFXhNiMs03d7Af9WRt6Ae+70wRJQkX5vMpa/VxZ2gZ70bWFH2Er07g7XMXkM2KM1YFb6w8L9wt1AVfouYYno+d+F1xPckL4p3CayMkgmjwHH+TQxzvcKFxI0O3VhFWhKXxd+L7xM9GRb2CHmzKC8mDwG7I1eToeYH7uBA4kOMFWF9s3+eT8La/RXMAietXcHMbBjA7zYDqD1ZAno5GwDc9KnHpVShxlNnFMMOQTTRead8k8yGSFUIlpaSsZbQifnL8J1oOQ4cW3dR5bZc6qV1VvxXb0c5vW/k/FmwN6uENuFWnLPY3Z2HyMOZjOwSNyltgLMXozP5z05bEsx0AAvbJZYVQ4K68QkrCZjAI9DCBkICwdYSl6sLXZRBqwQd+y0h8ondpGMdwiZgQPAMekvChfLyNXAg0K7rw48Lf014aFjwP1B33sagAeU9UufxlLsgtDmr4ldxMR4MpAmL4S4f1n6Ey9JeQt4VrqDP617M86MV4SngCeD+tgzAd99B4CnrsCG8sEda5EU3RtPBmxVOUFXwywZjh8BTMea8DvhleRtN4S/Ek8Orwc48lHApatZRbqgGevE1sR54chIc6HQgHzybAK/Sa9lT1eSx78K8ImOKGeBphrjw8sB316GhzxfoeSkLsc22nvJNsPtBeMZQrbc3tggUtv4Wsob38Ie7cur8vyHAc4tww+a5v3s+OfAyolwcd8HGr2RgVvr68kdb9yDDvzjyUA+WbaAS9Jf/ULKZ8Cbim+7SnIV8DR7r3kRTr6vi/eUvPwRoJ49mpXKm8TzxqDD/cCd2EncAn6S/o0Gj54GHtGgd+LDAZ5bhjMaciidB05+rIsTF/rmcxDmpfoEV3TYKZLxDKF8F9gi9ioq1xw9Q+yF/DliJsChWXhBRdzRtQmsXgt640sNOjbKsEcszm/F39nITZucJM5Lh+wMkuXCuR48b096y7SLdsGCxrwnbxOSG6BxNs4Dgqt13DQD80QGXM4nl4Eusbx5o7kE7P8x6A0zII/eXssezQoURKJYEbrk3CIrea6o+5Lbgza0gQZ4YofYULk1u0wsdQuivSpsAsrXrJa3iSGxKksarrUVaF+L8yCcvW2AneY1pAaMdwilG5kttTc6xLBycvoIA9Hbxi5ZleW8cGstPmdmzVyTCfkuNDXMv5Ql+g83EGLUVdCen0nm5EtfjxjT7lD9Cb5GTFCfO9aJrJjhohwYyoBU0k+L+c+N6b1ubmyaaLzHfF1JdH9tbBFD1M4oauomI4T+CxnETpEM+2lx5Bm44/+JdypFHt3pf8JFMvIM/G/A3ZaRN+BPGuYS3qiC+qEAAAAASUVORK5CYII=\" y=\"-6.488136\"/>\n   </g>\n   <g id=\"patch_23\">\n    <path d=\"M 234.183051 54.488136 \nL 234.183051 7.2 \n\" style=\"fill:none;\"/>\n   </g>\n   <g id=\"patch_24\">\n    <path d=\"M 281.471186 54.488136 \nL 281.471186 7.2 \n\" style=\"fill:none;\"/>\n   </g>\n   <g id=\"patch_25\">\n    <path d=\"M 234.183051 54.488136 \nL 281.471186 54.488136 \n\" style=\"fill:none;\"/>\n   </g>\n   <g id=\"patch_26\">\n    <path d=\"M 234.183051 7.2 \nL 281.471186 7.2 \n\" style=\"fill:none;\"/>\n   </g>\n  </g>\n  <g id=\"axes_6\">\n   <g id=\"patch_27\">\n    <path d=\"M 290.928814 54.488136 \nL 338.216949 54.488136 \nL 338.216949 7.2 \nL 290.928814 7.2 \nz\n\" style=\"fill:#eaeaf2;\"/>\n   </g>\n   <g clip-path=\"url(#p6cce64b788)\">\n    <image height=\"48\" id=\"image0956b16f5a\" transform=\"scale(1 -1)translate(0 -48)\" width=\"48\" x=\"290.928814\" xlink:href=\"data:image/png;base64,\niVBORw0KGgoAAAANSUhEUgAAADAAAAAwCAYAAABXAvmHAAAABHNCSVQICAgIfAhkiAAABIRJREFUaIHtmE1oXFUcxX/JmBJSpySRftDopDQUa1AT0hQCYzeCiKKuih9LwaVrd266EjeuRBB0WcGFIEpFqYpoU6tF0hoL0lgnqQlJ06ZJU804Y6KLe07uy8z4miCxzKT/zTn33jdv7v1/39fUBn9Tx9J8uzfwX2VTDpDZjJf+i9y10R+0CFuB7eJtiTkIByiJ/yn8HSiKrwhLifHyRjciqXsXWpcFMkQt3ye8HzgiPlCBmd2sqvvaQsCvgW+0flE4LrwG/CFeFq7XInVvgaa0NOpgzBI0DvC48CXgnmc1eLFisWkA+CvwpfMBTwDvBDrxScD39PgwcEl8VlgkWiNNGtsCzirdwNPirwi3vwq8rMEurx4SthPD66bwFFz/KNA3NPVmgONzcFJTI8IZYFE8LR5Sg9gH6AGe8sZfEHk08cCSNlYUlolRf/cOkX3QsSvQo1fiLoHn3g5pFmKqLRNdyGu1pO5dqKYFHLwuWvuBPi/anl8BH4s7L04Jy8C94kM3Ag6ehwOas+X00kwf9J8LPBnMdiFbpZYrNaYFfFIrqhm4LN5zQs+8Dxc0ZwNYY23AAWm0/7QmnwEeE98pbInjbtE9wmzi//1YLQukBrGDaJzgMQBnlVSmiYeaE9rUWaI3tWrx4JnExvsr/iBbu6/yxtOkMV3I4vRVIFrAZq1VJbMJrNLeAtFULrctFZiQMrFrTWvPG9sC9umpxJyDrBt4SNwdarswC+wW79gr0kt0dEej/2Ae5kVtpBLxvpBWiRvbAuUE2h9tgaNA/gENnhR2CotE7bYm0Bawz08Lp0KciQLBEpV3hA0fwMHTTAxQV+R8N/CuBkNPiOwT/gScDXRS2ygQC4bLrQrJjVEY1ZRT8+wtNm5pbBfy6TJECzgmGQCG9mtwXOgw/hB4XXw4wBQwpqkzwi8CfJqYKggXuRPEa8VaWPXLEsBvGhQrnh6FK9L8B5o6DXwb6MSvAX2JGSb2VZVtya0k9QDOPMvEjODEwShwSkbOH9NkXvgZ/CCq+y8nYUSn99KPwhmiuzhp+X8hKq1YMYat4kJlYl+kWyDXx6HDF5retwJ22KXG1nSaxk75hyu3pZ1waYLYks8TNW63mk6MbZ3GtoBPuUJ1DIwBh5UGV6vb85/H13rOptsDORWyXEFz6kpLV6vvFrPElOr6p9LIIlvFApZlqv1xBBj8LvAmV6Fe2enhTsip5OWuBjxSgsmKl0jt2y5Dj3jPz1q7AJP6rupvqu6TLib2s+ED+C5yidUaS/5LEX9/bJ+DXE6DwQBdQJffokMtTQQsALpDr3aLGeiSYrIpTdHWcKEVqi1wjkSnLO0dek0TY8Aj0m6fcCexvbVGnTNnqHIrJuEXPecqbRdygYUGsEDqx92kWHnWeiexMz0odOZ8EDgsvs1f6PYSLzR+SbI6Kj9PK3BHiGnze6FbkAViGl33ASoPktxHtgaa+5K2g/jNx+9w/7NI9CZ71xzxnjybeA7Wttdbx4U2IkkrNdeYS/vOU9W20+AXmk2xwP8pdW+BOwe43VL3B/gH8so33nUz9vEAAAAASUVORK5CYII=\" y=\"-6.488136\"/>\n   </g>\n   <g id=\"patch_28\">\n    <path d=\"M 290.928814 54.488136 \nL 290.928814 7.2 \n\" style=\"fill:none;\"/>\n   </g>\n   <g id=\"patch_29\">\n    <path d=\"M 338.216949 54.488136 \nL 338.216949 7.2 \n\" style=\"fill:none;\"/>\n   </g>\n   <g id=\"patch_30\">\n    <path d=\"M 290.928814 54.488136 \nL 338.216949 54.488136 \n\" style=\"fill:none;\"/>\n   </g>\n   <g id=\"patch_31\">\n    <path d=\"M 290.928814 7.2 \nL 338.216949 7.2 \n\" style=\"fill:none;\"/>\n   </g>\n  </g>\n  <g id=\"axes_7\">\n   <g id=\"patch_32\">\n    <path d=\"M 347.674576 54.488136 \nL 394.962712 54.488136 \nL 394.962712 7.2 \nL 347.674576 7.2 \nz\n\" style=\"fill:#eaeaf2;\"/>\n   </g>\n   <g clip-path=\"url(#p9fcb7b309d)\">\n    <image height=\"48\" id=\"image837fe49f0e\" transform=\"scale(1 -1)translate(0 -48)\" width=\"48\" x=\"347.674576\" xlink:href=\"data:image/png;base64,\niVBORw0KGgoAAAANSUhEUgAAADAAAAAwCAYAAABXAvmHAAAABHNCSVQICAgIfAhkiAAABH9JREFUaIHtmU1oXFUUx3+ZJJM0H9ZUBkNrtMngaGK1IJFoUaoFEaSIi266ki4EXelG1+5cuNFNRQVXVnClIrgRBb+pSqBtaBzbRGrakBqNNWmLmWRmXJz/mfsyeYwvziIMr3fzP/e++z7u+Z+ve19bD1Rp4ZbZ7g9ott1YwHa3GwvY7tbyC+ho5uZ2Yaau3w101o2VgDXJ9Vhu4hvSx4Brth8YlLxfeED4MDAk2bVcBL6UPCn8WXgZ+KduflJW2pJm4m5hTjgBHJP86FMSXhcOPws8oc6C8G346LSJrxp89oPhh8CPmjUvvEZYTKPW8iaUiIF2Nmoe4HngkefUeXNEwsfCfQSjuCq8ApyS/LLB8VnDF+ENqftTzSjqDmjMRDoY6AVcx0eFL4wCn6iTf0/CPcJvgfclTwkHgYMRGWqMvXsaXjLxraVw5axmaSjWsRNFoU6CCXnE4QCQ36XOH8LjBlffgW805FazsAx3/mLyYY3dXjA8Qi0kHXnNcI5gQm6M12MW0vImlIiBDBb3AXb74F6APnU+N1iXTZ0EVuoeMkXw8S+Ez4iR/cADJt4yajg+Dec0bVHoTKSPAQgrrfhAGUKIvGDg/nqOkIofE+YIMfJv4cnIC1ytui8/HVzd2XdnjobV9DDgq/bIwAKwLp10yBf+1LUisCr53giOS3amloXXCD6j8rWLoPnsxktbX0CFEMLmhA+eBZRIKci9etW/APwk2U3jKHBfj8lDepp76Ty2aMIzl7B1QTCTuDyQDhMqExj2apEp4DvJI78b3qp+N5SUyLJeO08Ch6R5j8Wu4iK1xFcWE7MEp/V3p5eBCiGJuA/MLEHey4X7ha7ZfUFbH0jpuRPw0AmTdwzrovvMIvx12cTvNTQZeZczEFeVJjYhZ9uz4hkg7ybk0eWQ8C7YoYxamtZCCGlg6FdDr6QqhG2PMgoz2E4tuoC4lg4TKhNMyB1rFliQdge/0uAeYQ543MQJzZkk7IU9wnYJs9ipBYQkfYX4zFvf0sFANJF5Jp4jaPTJryXcIZzAdpVAQRuIg6dCCPaNij8zQ6ixnInViNzohCIdDECww2hC80pg5qJhLSrdTNjCqRp9+gzMVzY+wyuRFTafB5VJdqzS3gmv/NekKlZIVbEVrwm7MZPqwkLe6BzwG7bPGcBsZADYaZOGijCqDx7WvQOYuZT1zApmFmWgTXKjTXvLm1AiBsC04UysC7OYNjNYgstW4WIVblvGauFF4CaMsn7oW4e+PbD7Eoxhmh/BiFoFejDH7SCYUhuRTVRMa3kGtny46461SigrvGbxBLVrHgru0H4anKNWM+1VtjrsewA2b1ai9Zcz8L/PhaIPcVzGKIdQx/gBcD/Qe95kT86Mseloo6AwNLYWaiBXykpkAY1a+kyoFJE9K8ftVV1742Li7vPQK8qqSsGeB6L/B0oRTPKPoOUZSPyDw1v0v5ifFrgv+P6kn1DrR8923J9d29Gs7n7krF4nJT6wZQbiWpwPeNt0ohfTmvlL2dRv1iQf0MzHJWktb0L/AqVINvA4yzEhAAAAAElFTkSuQmCC\" y=\"-6.488136\"/>\n   </g>\n   <g id=\"patch_33\">\n    <path d=\"M 347.674576 54.488136 \nL 347.674576 7.2 \n\" style=\"fill:none;\"/>\n   </g>\n   <g id=\"patch_34\">\n    <path d=\"M 394.962712 54.488136 \nL 394.962712 7.2 \n\" style=\"fill:none;\"/>\n   </g>\n   <g id=\"patch_35\">\n    <path d=\"M 347.674576 54.488136 \nL 394.962712 54.488136 \n\" style=\"fill:none;\"/>\n   </g>\n   <g id=\"patch_36\">\n    <path d=\"M 347.674576 7.2 \nL 394.962712 7.2 \n\" style=\"fill:none;\"/>\n   </g>\n  </g>\n  <g id=\"axes_8\">\n   <g id=\"patch_37\">\n    <path d=\"M 404.420339 54.488136 \nL 451.708475 54.488136 \nL 451.708475 7.2 \nL 404.420339 7.2 \nz\n\" style=\"fill:#eaeaf2;\"/>\n   </g>\n   <g clip-path=\"url(#pf5a6ff0e60)\">\n    <image height=\"48\" id=\"image997dd88399\" transform=\"scale(1 -1)translate(0 -48)\" width=\"48\" x=\"404.420339\" xlink:href=\"data:image/png;base64,\niVBORw0KGgoAAAANSUhEUgAAADAAAAAwCAYAAABXAvmHAAAABHNCSVQICAgIfAhkiAAABKJJREFUaIHtmc9PXFUUxz/MAIPYaQmoJSBCChYLrZ1QG1EqLixWkyYm1fQ/0JULN+6MvxZuXRm3xo1LozEGq2nV2KiU1KJNY0MgENJGo7SFkca0Drg43zP3Mo7Thy7oTDjJ5Pu9913y3nnn96OuGdbYgKQjnirZc2woc2YVKIjfLMEC/11Stz5ye0t9kkNpoFm8RdgNdIn3CO8WNgF/il8TzgML4r+VYD46v1FrJFKgAbhTvFs4BDwm/rCwbadIM7BkdPGK4RngW13+SegPfUO/WJIqUtsulC6ztxpxd6u2VpGHhJ2YXwBtZw0HLsJlXXZX8mAvd5+kUtsWcD9MASvii8IFwptck5/XeaD0E3Kk5L4FaL9uPKu9ON26FWILJ5HatoDLKiFjeOqbB6bE9wlz7uRNmBWcA8xA14RRt0Djhh/3n5JIgTilyQtYiJ6tQ5j7XuQI8Lh4p3AO+qVAu7Y8CWwFcRIpLSx5YE7cC9S4Avep74BntZlTjl2+QuM3RvsmDb2qNxGsUBL7t5Sqt0C6AV5PdJD12qaxNvYmZp1r4jPA2DSkHgV+AfYNA+3QnYKlqzAI93xufdQUsAP4FbNoGvgLqNMvSZucSAF/+DrM59KY2Zu0rscyVQOwrLODdwDTwLFV4CrwIhw8AcOQmYBML+Rn4F4dywMZKVCvl5KkJlS9C9VVGmjiAcWrZlO0ly3ZaxPuBd4Qb/Ri8eB7FJvr8ZcAKDxty9eAr3TMS0me0KFWCuyqt0DFGKjH/D6Dve0MNhdkgG1YIWrU2mNjDfPdFeA8kMsDp4FjWeB5YDf0TUFfN6n5eVI5uHHOgj9LiIUC9uZTWFz8m1S9BcrGQOlw3gK0RhxMc88S3qmuRn/nk9urwt2TwIEvtFJndfooAIVD8IquqNaxQGhbKo2bFSuxB2dz9OBd0V4+uhlYPvcb+iz8rvDtl4GT72j1psHILgDST87Sc8K2vKrHD1xpvKx6F1pngVLX8W4xC/i83ifsIpj2gvAH4SWC+f3auVOQ+/pDW4x6o/SEwdFZhmSBz3RljmSDfW1ZwLVx3/cJsZ3w7WdYuDc652/ZW/8zhMEnPpP7WIvRj0RGDA7DwbuMDvxuOEuIsUqFbJ0CPiF5hfVB5X7Ctx+fU9KP6AIwrIgdVps8cxku6pxX0yGIfGJG+IzBnu0wtgzA/g9s6yzWC0Jw1XJSOy4Ut8sevP6psI9ggfRhkePAIfEeob5O9F6A3un1e+wEnvO7HRe60x2AXaeAMF93EKzoCaFcUNeOBWLtSofsRkJcFAOjH9gzoMULBp37hQUYUzQWPXgbMCj+gPC8cKWYu/0+WUIC8Ldc2xaAkK7cbb1F+JnQo4x9KpKFYgIdfUubR4Qj2KwFoPzIDoI1vhS+b/DjRHEgmNWVpYQKlG3mvBK7ObsoZkzkJAzpB7DdOzc/1MH6fxaAZQb3Te/+fNg5CeN/GP1EW5NYRYegTE26UOKR0lOrV+cWgoVaS66V+2gLoai5I/mbXSS4rRvnOpULmEttW6Cc+Bstp3mlb5yx/5Z+Lvk//6XcsAK3m1S9C20psNmypcBmy5YCmy1Vr8DfR4wA0XwpYEkAAAAASUVORK5CYII=\" y=\"-6.488136\"/>\n   </g>\n   <g id=\"patch_38\">\n    <path d=\"M 404.420339 54.488136 \nL 404.420339 7.2 \n\" style=\"fill:none;\"/>\n   </g>\n   <g id=\"patch_39\">\n    <path d=\"M 451.708475 54.488136 \nL 451.708475 7.2 \n\" style=\"fill:none;\"/>\n   </g>\n   <g id=\"patch_40\">\n    <path d=\"M 404.420339 54.488136 \nL 451.708475 54.488136 \n\" style=\"fill:none;\"/>\n   </g>\n   <g id=\"patch_41\">\n    <path d=\"M 404.420339 7.2 \nL 451.708475 7.2 \n\" style=\"fill:none;\"/>\n   </g>\n  </g>\n  <g id=\"axes_9\">\n   <g id=\"patch_42\">\n    <path d=\"M 461.166102 54.488136 \nL 508.454237 54.488136 \nL 508.454237 7.2 \nL 461.166102 7.2 \nz\n\" style=\"fill:#eaeaf2;\"/>\n   </g>\n   <g clip-path=\"url(#p9267e8b087)\">\n    <image height=\"48\" id=\"image67e11f913c\" transform=\"scale(1 -1)translate(0 -48)\" width=\"48\" x=\"461.166102\" xlink:href=\"data:image/png;base64,\niVBORw0KGgoAAAANSUhEUgAAADAAAAAwCAYAAABXAvmHAAAABHNCSVQICAgIfAhkiAAABHhJREFUaIHtmV1rXEUYx39JjF0SuwSlUbSlIWtraBqpFrFGi6URgq4vCEIR0doL0SJ44aWfwC8geiNeClXIhS1SEEHFSl+oJrY1QS0JymJNGmKk6Sbb3Xox/+fM7Ml2OWuEcnJ8YPk/M2fmnJl5XufZti64Toqp/WYvYK2U+g3c0uqEDmE7kBOfa/DM+KqwApQDPkQb828oOxLYKNwifBB4QvyoML9TzDb8cV9wMDkDX6jrG+HPwnngb/GtSiX1EmhL4ka7gXvF7xe+AmwvqnFYWOwX81Iw+0MHx0rwvmN/PebwY404AVwUvyBcIpkUUi+BRDawEbCzHRZu3wo8rsZDNtL80SRwTfxdDvaW4JJjC7MOXzjlMDxpk0QNb0bNJNF0A+YKczg1ArjdHt4J3Cr+rHBeFnvxAqzUr59NeEvd5GBA8h+oQcleISzjX9FsA9lQoRXgingTKzWgU7w9NP94FH+kW4V7gR7xy/Xv79IPvLtewAu4wo0pGxKoALK7KPjsm8YfjUW3HcIzcOV3x3bbxFIwftHB1ZrDMk6gIXXiBRxPSxJvwCYsETkQxoXn52DwBzUsJL8o7IHuT8Wb4d6Nl7dU6K9gSDxPim/oRpQNFVrBR8gp4XFgcEwNCw6vycm+vBmGJxxvUprH65+M/g81Z4P3h87CpGGn3EiFsiGBCs4OwHvHM8BnUuJnjqjzOYWh3negoKhc+MrhtU/gI42TwocSMFOx71gQg+b2kA0JgNc/8xazeJXmhPC0sJgD3lTjdX1pBPa/4fj39C652iX8ydt3aiTLRhNtoIP6vAhcxLT8KOqMQuZ5QKuLkqEiFJ507POfA7BLPvl7YEPwrVYoGyrUjs9VlEiyA+89saukJTJ8C7wt3tLqR4Fdjj3sJNAnCTw7FgXnSJXK1BcEmq0t1ZT4PmCJ5GbhEDB0mxoPxyZMTMC4AtmM+h4Yg6LOq7fX4Vt/ArD7MlS+dl3mMqv49CUugdC4m27AxNPJahXqB5+83SO0MHqayOcv/uQwvwE4pOUdcgtnm8YfhD1a7cKUX7Tdk2zBC7F2uMbUUuI4YJ7SXGfXqgZe/peILreKw5SXYfQDx+ctmBwQbiHKaEclgRKr8yMz8FClsiMB23U5xHJskLnRnbjSHTD0ncNJ/KUof1LMgPA+ompBm66g/TP+njQttPkdeDtY3xIwlV7GZ4tW9pgCdquKwm9CnTpPER1f31HhOP7Y+oRWo6mySsEbpRSN+hJdKVeAy+Kt8DQO9Cud3nNcneZWh4CR+x0/MqfOOVhUkmxWaXTWf6CqfH0arzLNyvHrW4WMKngVmhZW8ZeOskqE+961DuDVc2pYoXcQ8jr6vJ7N6U76CyBjt9LSObxmmtquyytlovJ6SFaryQF3iLfi22PCA0DhETWeFg5TX/sFcEkp14+A3Uq/FP6Iz4UsoDWygZY3EFL8kmMBuQdXBiJAy6HA14NmAzQ+TKuT/FuTPRVaC8X9+Fr+nTRKvQRa/p94LfRfnHicUi+B/zdwsyn1G/gHGeQsq/lBYtAAAAAASUVORK5CYII=\" y=\"-6.488136\"/>\n   </g>\n   <g id=\"patch_43\">\n    <path d=\"M 461.166102 54.488136 \nL 461.166102 7.2 \n\" style=\"fill:none;\"/>\n   </g>\n   <g id=\"patch_44\">\n    <path d=\"M 508.454237 54.488136 \nL 508.454237 7.2 \n\" style=\"fill:none;\"/>\n   </g>\n   <g id=\"patch_45\">\n    <path d=\"M 461.166102 54.488136 \nL 508.454237 54.488136 \n\" style=\"fill:none;\"/>\n   </g>\n   <g id=\"patch_46\">\n    <path d=\"M 461.166102 7.2 \nL 508.454237 7.2 \n\" style=\"fill:none;\"/>\n   </g>\n  </g>\n  <g id=\"axes_10\">\n   <g id=\"patch_47\">\n    <path d=\"M 517.911864 54.488136 \nL 565.2 54.488136 \nL 565.2 7.2 \nL 517.911864 7.2 \nz\n\" style=\"fill:#eaeaf2;\"/>\n   </g>\n   <g clip-path=\"url(#pc3a968171f)\">\n    <image height=\"48\" id=\"image159811d8d5\" transform=\"scale(1 -1)translate(0 -48)\" width=\"48\" x=\"517.911864\" xlink:href=\"data:image/png;base64,\niVBORw0KGgoAAAANSUhEUgAAADAAAAAwCAYAAABXAvmHAAAABHNCSVQICAgIfAhkiAAABDRJREFUaIHtmUFoXFUUhr/MmDh2TKkp6qAIbccyQ4OUVkuLWotQUEPVTWMRqpsu2kUFN24Et24KdSW6Ebsr2ECxUldaraJSEK0gsaWtNBQkUpTEmDIhTnVx/z/35jlMJloYZiZn85/77nv3vXP/c86997y+VfA3HSy5dn/A/5XbWr0xn2kXgNulF4WrMm2AurCWXJvPXKsBc5lrdVqTlgzIE6nyx90LlKVXhBuF9yXPTiV4U/p14TXhVeAX6b8LZ4mGNpPecKE60C/dFg8QXeYB4WbhxqTvhnASmJHu2faYteQ+Yzr7zZjoDQYgzoJxlujfvwkdeMU7WaClqCktX4NJBYED1fGUJohcBpeS3mHA4tmbAn6VPpHBrX9C36Aa9wsLUPpZz4pGz16dyN7NBK03k2Ub4EHniOnwonBIWAGG7WvOqYPxK4cuByyoK5+MW8/gUtJ7LmSpEwIZQooEGBd+Cww7V+4SVljIm/doBStq+c0RZ7yVxSuV3mAg3UoMCPuJi5V92QF+CZhUhJecIzcTg+RSgKHv45jZvdYt3QvliDnbyeVuYnyuzfStIa4RJfvZJmC7dEX9BhngFTkrrRjR3S5kWgtE9qvCLcAO6Q8KzcA8gaFFsn4AeD7o+04AUH5Hz80tfwW2dDcD9s1BYIN0Z8WXgdXPqLE1uRFCNDsINnm0KnAwqDsU4bu/AKB0OiYCS55ePg/Y91MG1kl/Urj6BWC/GnZ4p408cUodPFSAh6W/HmBfYGDLaTijHj/mc8F/MsBiQ4rElDlsqx4n+pU2aXwnrBHPmTsbjfxUAE3AY6/A2PTioaaT9zdLp93pQhZb108SZA7UEmHFArggfCvAlenI2B3PSXnzBAw7BRwI0PdiwL3H2fZeUH/UHddZXMlY6hs7Vpoy4D36PPFAvpAeayzeVwCz8uP3iTvVR08FHJ0ATh4OjfV/qVcU7oLtYuBj9VxNxmgWAw0NyBajZomVhAuyqjoO7NVFxWRR7lI5BSfV5VNb8QcYeUONY6/q7VpAhqCs5FBS8i8Sa0S9W5UwE9MESgG+FFY/BLwSP6F8ejQkwZdmYO1n4dI53TKVNkzPI8q7E1DXNNsrc/x7i91IupsB+94MMQa+EVZ/gp1vq/GQlp/yswHPfMrIu2EtHTmeDOLzgKfZxdHxWCBo5O/NFrTuZsBSIx7czwvHgMIHQd/ms+XRjwLe9RocUu36kIsulwnRBOHYD3yuHc9FuKIeZ545WiuxtFzc9ebKrnSWuCTsORZwVN/FkSPwtNzJGzdKwFfSVRg6F0atfxLjW8dl/ljiwy0d70J9y/1H5oDKEWPR1UOX13cDo/59s0e4jkjZ2QDnRcQY8LW6vBudokcONMtmoJGkh38I/85chklLJtkSffqPzNdarQdZbokB7ZSOd6EVA9otKwa0W1YMaLd0vAH/ALIt9y4piRzoAAAAAElFTkSuQmCC\" y=\"-6.488136\"/>\n   </g>\n   <g id=\"patch_48\">\n    <path d=\"M 517.911864 54.488136 \nL 517.911864 7.2 \n\" style=\"fill:none;\"/>\n   </g>\n   <g id=\"patch_49\">\n    <path d=\"M 565.2 54.488136 \nL 565.2 7.2 \n\" style=\"fill:none;\"/>\n   </g>\n   <g id=\"patch_50\">\n    <path d=\"M 517.911864 54.488136 \nL 565.2 54.488136 \n\" style=\"fill:none;\"/>\n   </g>\n   <g id=\"patch_51\">\n    <path d=\"M 517.911864 7.2 \nL 565.2 7.2 \n\" style=\"fill:none;\"/>\n   </g>\n  </g>\n </g>\n <defs>\n  <clipPath id=\"p55773318d7\">\n   <rect height=\"47.288136\" width=\"47.288136\" x=\"7.2\" y=\"7.2\"/>\n  </clipPath>\n  <clipPath id=\"p84ed863449\">\n   <rect height=\"47.288136\" width=\"47.288136\" x=\"63.945763\" y=\"7.2\"/>\n  </clipPath>\n  <clipPath id=\"p5be454bdf2\">\n   <rect height=\"47.288136\" width=\"47.288136\" x=\"120.691525\" y=\"7.2\"/>\n  </clipPath>\n  <clipPath id=\"pc3ff6dc823\">\n   <rect height=\"47.288136\" width=\"47.288136\" x=\"177.437288\" y=\"7.2\"/>\n  </clipPath>\n  <clipPath id=\"pa4b2330506\">\n   <rect height=\"47.288136\" width=\"47.288136\" x=\"234.183051\" y=\"7.2\"/>\n  </clipPath>\n  <clipPath id=\"p6cce64b788\">\n   <rect height=\"47.288136\" width=\"47.288136\" x=\"290.928814\" y=\"7.2\"/>\n  </clipPath>\n  <clipPath id=\"p9fcb7b309d\">\n   <rect height=\"47.288136\" width=\"47.288136\" x=\"347.674576\" y=\"7.2\"/>\n  </clipPath>\n  <clipPath id=\"pf5a6ff0e60\">\n   <rect height=\"47.288136\" width=\"47.288136\" x=\"404.420339\" y=\"7.2\"/>\n  </clipPath>\n  <clipPath id=\"p9267e8b087\">\n   <rect height=\"47.288136\" width=\"47.288136\" x=\"461.166102\" y=\"7.2\"/>\n  </clipPath>\n  <clipPath id=\"pc3a968171f\">\n   <rect height=\"47.288136\" width=\"47.288136\" x=\"517.911864\" y=\"7.2\"/>\n  </clipPath>\n </defs>\n</svg>\n"
          },
          "metadata": {
            "tags": []
          }
        },
        {
          "output_type": "stream",
          "text": [
            "Class probabilities \n",
            "[0.09871688 0.11236461 0.09930012 0.10218297 0.09736711 0.09035161\n",
            " 0.09863356 0.10441593 0.09751708 0.09915014]\n",
            "<NDArray 10 @cpu(0)>\n"
          ],
          "name": "stdout"
        }
      ]
    },
    {
      "metadata": {
        "id": "E0Wt1BRzoMAS",
        "colab_type": "code",
        "colab": {}
      },
      "cell_type": "code",
      "source": [
        ""
      ],
      "execution_count": 0,
      "outputs": []
    },
    {
      "metadata": {
        "id": "P_BGMCZ6pdoA",
        "colab_type": "code",
        "colab": {}
      },
      "cell_type": "code",
      "source": [
        ""
      ],
      "execution_count": 0,
      "outputs": []
    }
  ]
}