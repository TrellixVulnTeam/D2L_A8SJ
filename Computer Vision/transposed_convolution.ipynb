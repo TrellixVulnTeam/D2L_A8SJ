{
  "nbformat": 4,
  "nbformat_minor": 0,
  "metadata": {
    "colab": {
      "name": "transposed_convolution.ipynb",
      "version": "0.3.2",
      "provenance": [],
      "collapsed_sections": [],
      "include_colab_link": true
    },
    "kernelspec": {
      "name": "python3",
      "display_name": "Python 3"
    },
    "accelerator": "GPU"
  },
  "cells": [
    {
      "cell_type": "markdown",
      "metadata": {
        "id": "view-in-github",
        "colab_type": "text"
      },
      "source": [
        "<a href=\"https://colab.research.google.com/github/prasanth5reddy/D2L/blob/master/Computer%20Vision/transposed_convolution.ipynb\" target=\"_parent\"><img src=\"https://colab.research.google.com/assets/colab-badge.svg\" alt=\"Open In Colab\"/></a>"
      ]
    },
    {
      "cell_type": "markdown",
      "metadata": {
        "id": "VqkGzZzwFnMP",
        "colab_type": "text"
      },
      "source": [
        "Mounting Drive"
      ]
    },
    {
      "cell_type": "code",
      "metadata": {
        "id": "BbRJvNH9Evti",
        "colab_type": "code",
        "outputId": "42e61a90-41ac-4b62-87f2-8de01b9b799e",
        "colab": {
          "base_uri": "https://localhost:8080/",
          "height": 74
        }
      },
      "source": [
        "from google.colab import drive\n",
        "drive.mount('/content/drive')\n",
        "\n",
        "import sys\n",
        "w_dir = '/content/drive/My Drive/Colab/D2L.AI/'\n",
        "sys.path.append(w_dir)"
      ],
      "execution_count": 1,
      "outputs": [
        {
          "output_type": "stream",
          "text": [
            "Drive already mounted at /content/drive; to attempt to forcibly remount, call drive.mount(\"/content/drive\", force_remount=True).\n"
          ],
          "name": "stdout"
        }
      ]
    },
    {
      "cell_type": "markdown",
      "metadata": {
        "id": "vZyrYxwFFo-i",
        "colab_type": "text"
      },
      "source": [
        "Installing Libraries"
      ]
    },
    {
      "cell_type": "code",
      "metadata": {
        "id": "MDVS3KerFmyR",
        "colab_type": "code",
        "outputId": "c77977cf-b796-48f0-feb2-b826c265a3bf",
        "colab": {
          "base_uri": "https://localhost:8080/",
          "height": 259
        }
      },
      "source": [
        "!pip uninstall mxnet && pip install mxnet-cu100"
      ],
      "execution_count": 2,
      "outputs": [
        {
          "output_type": "stream",
          "text": [
            "\u001b[33mWARNING: Skipping mxnet as it is not installed.\u001b[0m\n",
            "Requirement already satisfied: mxnet-cu100 in /usr/local/lib/python3.6/dist-packages (1.5.0)\n",
            "Requirement already satisfied: numpy<2.0.0,>1.16.0 in /usr/local/lib/python3.6/dist-packages (from mxnet-cu100) (1.16.5)\n",
            "Requirement already satisfied: graphviz<0.9.0,>=0.8.1 in /usr/local/lib/python3.6/dist-packages (from mxnet-cu100) (0.8.4)\n",
            "Requirement already satisfied: requests<3,>=2.20.0 in /usr/local/lib/python3.6/dist-packages (from mxnet-cu100) (2.21.0)\n",
            "Requirement already satisfied: certifi>=2017.4.17 in /usr/local/lib/python3.6/dist-packages (from requests<3,>=2.20.0->mxnet-cu100) (2019.6.16)\n",
            "Requirement already satisfied: idna<2.9,>=2.5 in /usr/local/lib/python3.6/dist-packages (from requests<3,>=2.20.0->mxnet-cu100) (2.8)\n",
            "Requirement already satisfied: urllib3<1.25,>=1.21.1 in /usr/local/lib/python3.6/dist-packages (from requests<3,>=2.20.0->mxnet-cu100) (1.24.3)\n",
            "Requirement already satisfied: chardet<3.1.0,>=3.0.2 in /usr/local/lib/python3.6/dist-packages (from requests<3,>=2.20.0->mxnet-cu100) (3.0.4)\n"
          ],
          "name": "stdout"
        }
      ]
    },
    {
      "cell_type": "markdown",
      "metadata": {
        "id": "9BvxtXeiFvU9",
        "colab_type": "text"
      },
      "source": [
        "Importing Libraries"
      ]
    },
    {
      "cell_type": "code",
      "metadata": {
        "id": "-4lV0R-knd-7",
        "colab_type": "code",
        "colab": {}
      },
      "source": [
        "from mxnet import nd, init\n",
        "from mxnet.gluon import nn\n",
        "import d2l"
      ],
      "execution_count": 0,
      "outputs": []
    },
    {
      "cell_type": "markdown",
      "metadata": {
        "id": "jajQowuDGqdk",
        "colab_type": "text"
      },
      "source": [
        "Basic 2D transposed convolution"
      ]
    },
    {
      "cell_type": "code",
      "metadata": {
        "id": "ObUlPMTeGqDU",
        "colab_type": "code",
        "colab": {}
      },
      "source": [
        "def trans_conv(X, K):\n",
        "  h, w = K.shape\n",
        "  Y = nd.zeros((X.shape[0] + h - 1, X.shape[1] + w - 1))\n",
        "  for i in range(X.shape[0]):\n",
        "    for j in range(X.shape[1]):\n",
        "      Y[i: i + h, j: j + w] += X[i, j] * K\n",
        "  return Y"
      ],
      "execution_count": 0,
      "outputs": []
    },
    {
      "cell_type": "code",
      "metadata": {
        "id": "ENhpn4gsGomZ",
        "colab_type": "code",
        "colab": {
          "base_uri": "https://localhost:8080/",
          "height": 102
        },
        "outputId": "d3628d96-dd6d-418a-907a-a7a90531fff5"
      },
      "source": [
        "X = nd.array([[0,1], [2,3]])\n",
        "K = nd.array([[0,1], [2,3]])\n",
        "trans_conv(X, K)"
      ],
      "execution_count": 5,
      "outputs": [
        {
          "output_type": "execute_result",
          "data": {
            "text/plain": [
              "\n",
              "[[ 0.  0.  1.]\n",
              " [ 0.  4.  6.]\n",
              " [ 4. 12.  9.]]\n",
              "<NDArray 3x3 @cpu(0)>"
            ]
          },
          "metadata": {
            "tags": []
          },
          "execution_count": 5
        }
      ]
    },
    {
      "cell_type": "code",
      "metadata": {
        "id": "9oPAFq9BHRU2",
        "colab_type": "code",
        "colab": {
          "base_uri": "https://localhost:8080/",
          "height": 102
        },
        "outputId": "511af6a8-7977-40e2-8a09-0cf7a3bb70fc"
      },
      "source": [
        "X, K = X.reshape((1, 1, 2, 2)),  K.reshape((1, 1, 2, 2))\n",
        "tconv = nn.Conv2DTranspose(1, kernel_size=2)\n",
        "tconv.initialize(init.Constant(K))\n",
        "tconv(X)"
      ],
      "execution_count": 6,
      "outputs": [
        {
          "output_type": "execute_result",
          "data": {
            "text/plain": [
              "\n",
              "[[[[ 0.  0.  1.]\n",
              "   [ 0.  4.  6.]\n",
              "   [ 4. 12.  9.]]]]\n",
              "<NDArray 1x1x3x3 @cpu(0)>"
            ]
          },
          "metadata": {
            "tags": []
          },
          "execution_count": 6
        }
      ]
    },
    {
      "cell_type": "markdown",
      "metadata": {
        "id": "lx50o9RDHxrg",
        "colab_type": "text"
      },
      "source": [
        "Padding, Strides and Channels"
      ]
    },
    {
      "cell_type": "code",
      "metadata": {
        "id": "xmud6x3VHlSz",
        "colab_type": "code",
        "colab": {
          "base_uri": "https://localhost:8080/",
          "height": 68
        },
        "outputId": "b362793e-79fc-4c9e-e041-87e7f901e68a"
      },
      "source": [
        "tconv = nn.Conv2DTranspose(1, kernel_size=2, padding=1)\n",
        "tconv.initialize(init.Constant(K))\n",
        "tconv(X)"
      ],
      "execution_count": 7,
      "outputs": [
        {
          "output_type": "execute_result",
          "data": {
            "text/plain": [
              "\n",
              "[[[[4.]]]]\n",
              "<NDArray 1x1x1x1 @cpu(0)>"
            ]
          },
          "metadata": {
            "tags": []
          },
          "execution_count": 7
        }
      ]
    },
    {
      "cell_type": "code",
      "metadata": {
        "id": "DQJHlATGHzt6",
        "colab_type": "code",
        "colab": {
          "base_uri": "https://localhost:8080/",
          "height": 119
        },
        "outputId": "72b94ad1-d3b4-4ea3-b236-d5e036ceaf13"
      },
      "source": [
        "tconv = nn.Conv2DTranspose(1, kernel_size=2, strides=2)\n",
        "tconv.initialize(init.Constant(K))\n",
        "tconv(X)"
      ],
      "execution_count": 8,
      "outputs": [
        {
          "output_type": "execute_result",
          "data": {
            "text/plain": [
              "\n",
              "[[[[0. 0. 0. 1.]\n",
              "   [0. 0. 2. 3.]\n",
              "   [0. 2. 0. 3.]\n",
              "   [4. 6. 6. 9.]]]]\n",
              "<NDArray 1x1x4x4 @cpu(0)>"
            ]
          },
          "metadata": {
            "tags": []
          },
          "execution_count": 8
        }
      ]
    },
    {
      "cell_type": "code",
      "metadata": {
        "id": "KPf8FMh5H8qH",
        "colab_type": "code",
        "colab": {
          "base_uri": "https://localhost:8080/",
          "height": 34
        },
        "outputId": "739327fe-698c-4b82-e38e-a11d04588a18"
      },
      "source": [
        "X = nd.random.uniform(shape=(1, 10, 16, 16))\n",
        "conv = nn.Conv2D(30, kernel_size=5, padding=2, strides=3)\n",
        "tconv = nn.Conv2DTranspose(10, kernel_size=5, padding=2, strides=3)\n",
        "conv.initialize()\n",
        "tconv.initialize()\n",
        "tconv(conv(X)).shape == X.shape"
      ],
      "execution_count": 9,
      "outputs": [
        {
          "output_type": "execute_result",
          "data": {
            "text/plain": [
              "True"
            ]
          },
          "metadata": {
            "tags": []
          },
          "execution_count": 9
        }
      ]
    },
    {
      "cell_type": "markdown",
      "metadata": {
        "id": "OoTRQiolIasY",
        "colab_type": "text"
      },
      "source": [
        "Analogy to matrix transposition"
      ]
    },
    {
      "cell_type": "code",
      "metadata": {
        "id": "DSOI5KA3Idkp",
        "colab_type": "code",
        "colab": {
          "base_uri": "https://localhost:8080/",
          "height": 85
        },
        "outputId": "9d140695-7854-4cd8-ef1a-45c19600438a"
      },
      "source": [
        "X = nd.arange(9).reshape((3,3))\n",
        "K = nd.array([[0,1], [2,3]])\n",
        "Y = d2l.corr2d(X, K)\n",
        "Y"
      ],
      "execution_count": 10,
      "outputs": [
        {
          "output_type": "execute_result",
          "data": {
            "text/plain": [
              "\n",
              "[[19. 25.]\n",
              " [37. 43.]]\n",
              "<NDArray 2x2 @cpu(0)>"
            ]
          },
          "metadata": {
            "tags": []
          },
          "execution_count": 10
        }
      ]
    },
    {
      "cell_type": "code",
      "metadata": {
        "id": "ik4CMLrwJVhc",
        "colab_type": "code",
        "colab": {
          "base_uri": "https://localhost:8080/",
          "height": 119
        },
        "outputId": "bd7c931f-ebfb-4dc3-ae99-0e99e92d9657"
      },
      "source": [
        "def kernel2matrix(K):\n",
        "    k, W = nd.zeros(5), nd.zeros((4, 9))\n",
        "    k[:2], k[3:5] = K[0,:], K[1,:]\n",
        "    W[0, :5], W[1, 1:6], W[2, 3:8], W[3, 4:] = k, k, k, k\n",
        "    return W\n",
        "\n",
        "W = kernel2matrix(K)\n",
        "W"
      ],
      "execution_count": 11,
      "outputs": [
        {
          "output_type": "execute_result",
          "data": {
            "text/plain": [
              "\n",
              "[[0. 1. 0. 2. 3. 0. 0. 0. 0.]\n",
              " [0. 0. 1. 0. 2. 3. 0. 0. 0.]\n",
              " [0. 0. 0. 0. 1. 0. 2. 3. 0.]\n",
              " [0. 0. 0. 0. 0. 1. 0. 2. 3.]]\n",
              "<NDArray 4x9 @cpu(0)>"
            ]
          },
          "metadata": {
            "tags": []
          },
          "execution_count": 11
        }
      ]
    },
    {
      "cell_type": "code",
      "metadata": {
        "id": "DkkT746MJXQa",
        "colab_type": "code",
        "colab": {
          "base_uri": "https://localhost:8080/",
          "height": 85
        },
        "outputId": "10b63262-3f61-4320-893c-505bd075c7ea"
      },
      "source": [
        "Y == nd.dot(W, X.reshape((-1))).reshape((2,2))"
      ],
      "execution_count": 12,
      "outputs": [
        {
          "output_type": "execute_result",
          "data": {
            "text/plain": [
              "\n",
              "[[1. 1.]\n",
              " [1. 1.]]\n",
              "<NDArray 2x2 @cpu(0)>"
            ]
          },
          "metadata": {
            "tags": []
          },
          "execution_count": 12
        }
      ]
    },
    {
      "cell_type": "code",
      "metadata": {
        "id": "z2BHXXozJxDd",
        "colab_type": "code",
        "colab": {
          "base_uri": "https://localhost:8080/",
          "height": 102
        },
        "outputId": "cb26710a-9a16-49a1-a063-602c30047d59"
      },
      "source": [
        "X = nd.array([[0,1], [2,3]])\n",
        "Y = trans_conv(X, K)\n",
        "Y == nd.dot(W.T, X.reshape((-1))).reshape((3,3))"
      ],
      "execution_count": 13,
      "outputs": [
        {
          "output_type": "execute_result",
          "data": {
            "text/plain": [
              "\n",
              "[[1. 1. 1.]\n",
              " [1. 1. 1.]\n",
              " [1. 1. 1.]]\n",
              "<NDArray 3x3 @cpu(0)>"
            ]
          },
          "metadata": {
            "tags": []
          },
          "execution_count": 13
        }
      ]
    }
  ]
}