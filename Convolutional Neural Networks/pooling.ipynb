{
  "nbformat": 4,
  "nbformat_minor": 0,
  "metadata": {
    "colab": {
      "name": "pooling.ipynb",
      "version": "0.3.2",
      "provenance": [],
      "collapsed_sections": [],
      "include_colab_link": true
    },
    "kernelspec": {
      "name": "python3",
      "display_name": "Python 3"
    },
    "accelerator": "GPU"
  },
  "cells": [
    {
      "cell_type": "markdown",
      "metadata": {
        "id": "view-in-github",
        "colab_type": "text"
      },
      "source": [
        "<a href=\"https://colab.research.google.com/github/prasanth5reddy/D2L/blob/master/Convolutional%20Neural%20Networks/pooling.ipynb\" target=\"_parent\"><img src=\"https://colab.research.google.com/assets/colab-badge.svg\" alt=\"Open In Colab\"/></a>"
      ]
    },
    {
      "cell_type": "markdown",
      "metadata": {
        "id": "vZyrYxwFFo-i",
        "colab_type": "text"
      },
      "source": [
        "Installing Libraries"
      ]
    },
    {
      "cell_type": "code",
      "metadata": {
        "id": "MDVS3KerFmyR",
        "colab_type": "code",
        "outputId": "1be174c3-e2c3-4782-9c6d-2e8a5ad0358d",
        "colab": {
          "base_uri": "https://localhost:8080/",
          "height": 175
        }
      },
      "source": [
        "!pip install mxnet"
      ],
      "execution_count": 1,
      "outputs": [
        {
          "output_type": "stream",
          "text": [
            "Requirement already satisfied: mxnet in /usr/local/lib/python3.6/dist-packages (1.4.1)\n",
            "Requirement already satisfied: graphviz<0.9.0,>=0.8.1 in /usr/local/lib/python3.6/dist-packages (from mxnet) (0.8.4)\n",
            "Requirement already satisfied: requests>=2.20.0 in /usr/local/lib/python3.6/dist-packages (from mxnet) (2.21.0)\n",
            "Requirement already satisfied: numpy<1.15.0,>=1.8.2 in /usr/local/lib/python3.6/dist-packages (from mxnet) (1.14.6)\n",
            "Requirement already satisfied: urllib3<1.25,>=1.21.1 in /usr/local/lib/python3.6/dist-packages (from requests>=2.20.0->mxnet) (1.24.3)\n",
            "Requirement already satisfied: idna<2.9,>=2.5 in /usr/local/lib/python3.6/dist-packages (from requests>=2.20.0->mxnet) (2.8)\n",
            "Requirement already satisfied: certifi>=2017.4.17 in /usr/local/lib/python3.6/dist-packages (from requests>=2.20.0->mxnet) (2019.3.9)\n",
            "Requirement already satisfied: chardet<3.1.0,>=3.0.2 in /usr/local/lib/python3.6/dist-packages (from requests>=2.20.0->mxnet) (3.0.4)\n"
          ],
          "name": "stdout"
        }
      ]
    },
    {
      "cell_type": "markdown",
      "metadata": {
        "id": "9BvxtXeiFvU9",
        "colab_type": "text"
      },
      "source": [
        "Importing Libraries"
      ]
    },
    {
      "cell_type": "code",
      "metadata": {
        "id": "KGnldoYLF0hX",
        "colab_type": "code",
        "colab": {}
      },
      "source": [
        "from mxnet import nd\n",
        "from mxnet.gluon import nn"
      ],
      "execution_count": 0,
      "outputs": []
    },
    {
      "cell_type": "markdown",
      "metadata": {
        "id": "E2UMpHpg0AVJ",
        "colab_type": "text"
      },
      "source": [
        "Maximum and Average Pooling"
      ]
    },
    {
      "cell_type": "code",
      "metadata": {
        "id": "clnGOE3wyvZP",
        "colab_type": "code",
        "colab": {}
      },
      "source": [
        "def pool2d(X, pool_size, mode='max'):\n",
        "  p_h, p_w = pool_size\n",
        "  Y = nd.zeros((X.shape[0] - p_h + 1, X.shape[1] - p_w + 1))\n",
        "  for i in range(Y.shape[0]):\n",
        "    for j in range(Y.shape[1]):\n",
        "      if mode == 'max':\n",
        "        Y[i, j] = X[i: i + p_h, j: j + p_w].max()\n",
        "      elif mode == 'avg':\n",
        "        Y[i, j] = X[i: i + p_h, j: j + p_w].mean()\n",
        "        \n",
        "  return Y"
      ],
      "execution_count": 0,
      "outputs": []
    },
    {
      "cell_type": "code",
      "metadata": {
        "id": "ISDr-BqjzYDL",
        "colab_type": "code",
        "colab": {
          "base_uri": "https://localhost:8080/",
          "height": 86
        },
        "outputId": "a62dd70a-0d39-4e5f-975a-9fb08d9c6418"
      },
      "source": [
        "X = nd.array([[0, 1, 2], [3, 4, 5], [6, 7, 8]])\n",
        "pool2d(X, (2, 2))"
      ],
      "execution_count": 4,
      "outputs": [
        {
          "output_type": "execute_result",
          "data": {
            "text/plain": [
              "\n",
              "[[4. 5.]\n",
              " [7. 8.]]\n",
              "<NDArray 2x2 @cpu(0)>"
            ]
          },
          "metadata": {
            "tags": []
          },
          "execution_count": 4
        }
      ]
    },
    {
      "cell_type": "code",
      "metadata": {
        "id": "MpJTw_90zxym",
        "colab_type": "code",
        "colab": {
          "base_uri": "https://localhost:8080/",
          "height": 86
        },
        "outputId": "a50ed955-826e-4740-a534-af69fd5ce6d6"
      },
      "source": [
        "pool2d(X, (2, 2), 'avg')"
      ],
      "execution_count": 5,
      "outputs": [
        {
          "output_type": "execute_result",
          "data": {
            "text/plain": [
              "\n",
              "[[2. 3.]\n",
              " [5. 6.]]\n",
              "<NDArray 2x2 @cpu(0)>"
            ]
          },
          "metadata": {
            "tags": []
          },
          "execution_count": 5
        }
      ]
    },
    {
      "cell_type": "markdown",
      "metadata": {
        "id": "ohjyJjdD0D3E",
        "colab_type": "text"
      },
      "source": [
        "Padding and Stride"
      ]
    },
    {
      "cell_type": "code",
      "metadata": {
        "id": "IYSYHxhvz2dQ",
        "colab_type": "code",
        "colab": {
          "base_uri": "https://localhost:8080/",
          "height": 121
        },
        "outputId": "afd0538b-e8cf-4a28-c03c-bc6b95c55e86"
      },
      "source": [
        "X = nd.arange(16).reshape(1, 1, 4, -1)\n",
        "X"
      ],
      "execution_count": 6,
      "outputs": [
        {
          "output_type": "execute_result",
          "data": {
            "text/plain": [
              "\n",
              "[[[[ 0.  1.  2.  3.]\n",
              "   [ 4.  5.  6.  7.]\n",
              "   [ 8.  9. 10. 11.]\n",
              "   [12. 13. 14. 15.]]]]\n",
              "<NDArray 1x1x4x4 @cpu(0)>"
            ]
          },
          "metadata": {
            "tags": []
          },
          "execution_count": 6
        }
      ]
    },
    {
      "cell_type": "code",
      "metadata": {
        "id": "D-zaW8fy2p4N",
        "colab_type": "code",
        "colab": {
          "base_uri": "https://localhost:8080/",
          "height": 69
        },
        "outputId": "f51810cd-651b-4a2a-dfa4-2369eb775ec8"
      },
      "source": [
        "pool2d = nn.MaxPool2D(3)\n",
        "# By default, the stride in the MaxPool2D has the same shape as the pooling window\n",
        "pool2d(X)"
      ],
      "execution_count": 7,
      "outputs": [
        {
          "output_type": "execute_result",
          "data": {
            "text/plain": [
              "\n",
              "[[[[10.]]]]\n",
              "<NDArray 1x1x1x1 @cpu(0)>"
            ]
          },
          "metadata": {
            "tags": []
          },
          "execution_count": 7
        }
      ]
    },
    {
      "cell_type": "code",
      "metadata": {
        "id": "19mjeh142_m_",
        "colab_type": "code",
        "colab": {
          "base_uri": "https://localhost:8080/",
          "height": 86
        },
        "outputId": "ed2641a5-6451-41ee-a6f7-927c5f9a984a"
      },
      "source": [
        "pool2d = nn.MaxPool2D(3, padding=1, strides=2)\n",
        "pool2d(X)"
      ],
      "execution_count": 8,
      "outputs": [
        {
          "output_type": "execute_result",
          "data": {
            "text/plain": [
              "\n",
              "[[[[ 5.  7.]\n",
              "   [13. 15.]]]]\n",
              "<NDArray 1x1x2x2 @cpu(0)>"
            ]
          },
          "metadata": {
            "tags": []
          },
          "execution_count": 8
        }
      ]
    },
    {
      "cell_type": "code",
      "metadata": {
        "id": "j7Ggungn3dfU",
        "colab_type": "code",
        "colab": {
          "base_uri": "https://localhost:8080/",
          "height": 104
        },
        "outputId": "cbe90cb5-8f9c-4ff5-b5c2-da4af2e73609"
      },
      "source": [
        "pool2d = nn.MaxPool2D((2, 3), padding=(1, 2), strides=(2, 3))\n",
        "pool2d(X)"
      ],
      "execution_count": 9,
      "outputs": [
        {
          "output_type": "execute_result",
          "data": {
            "text/plain": [
              "\n",
              "[[[[ 0.  3.]\n",
              "   [ 8. 11.]\n",
              "   [12. 15.]]]]\n",
              "<NDArray 1x1x3x2 @cpu(0)>"
            ]
          },
          "metadata": {
            "tags": []
          },
          "execution_count": 9
        }
      ]
    },
    {
      "cell_type": "markdown",
      "metadata": {
        "id": "pOS09eC532iJ",
        "colab_type": "text"
      },
      "source": [
        "Multiple Channels"
      ]
    },
    {
      "cell_type": "code",
      "metadata": {
        "id": "5ZtQKwlJ3l09",
        "colab_type": "code",
        "colab": {
          "base_uri": "https://localhost:8080/",
          "height": 207
        },
        "outputId": "86122237-75ed-4e17-9599-c24972045999"
      },
      "source": [
        "X = nd.concat(X, X + 1, dim=1)\n",
        "X"
      ],
      "execution_count": 10,
      "outputs": [
        {
          "output_type": "execute_result",
          "data": {
            "text/plain": [
              "\n",
              "[[[[ 0.  1.  2.  3.]\n",
              "   [ 4.  5.  6.  7.]\n",
              "   [ 8.  9. 10. 11.]\n",
              "   [12. 13. 14. 15.]]\n",
              "\n",
              "  [[ 1.  2.  3.  4.]\n",
              "   [ 5.  6.  7.  8.]\n",
              "   [ 9. 10. 11. 12.]\n",
              "   [13. 14. 15. 16.]]]]\n",
              "<NDArray 1x2x4x4 @cpu(0)>"
            ]
          },
          "metadata": {
            "tags": []
          },
          "execution_count": 10
        }
      ]
    },
    {
      "cell_type": "code",
      "metadata": {
        "id": "_PyETGg-37Qy",
        "colab_type": "code",
        "colab": {
          "base_uri": "https://localhost:8080/",
          "height": 138
        },
        "outputId": "486e469b-63f7-416e-f706-78b2167ce105"
      },
      "source": [
        "pool2d = nn.MaxPool2D(3, padding=1, strides=2)\n",
        "pool2d(X)"
      ],
      "execution_count": 11,
      "outputs": [
        {
          "output_type": "execute_result",
          "data": {
            "text/plain": [
              "\n",
              "[[[[ 5.  7.]\n",
              "   [13. 15.]]\n",
              "\n",
              "  [[ 6.  8.]\n",
              "   [14. 16.]]]]\n",
              "<NDArray 1x2x2x2 @cpu(0)>"
            ]
          },
          "metadata": {
            "tags": []
          },
          "execution_count": 11
        }
      ]
    }
  ]
}