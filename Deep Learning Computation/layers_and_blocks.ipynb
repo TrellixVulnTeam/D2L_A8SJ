{
  "nbformat": 4,
  "nbformat_minor": 0,
  "metadata": {
    "colab": {
      "name": "layers_and_blocks.ipynb",
      "version": "0.3.2",
      "provenance": [],
      "collapsed_sections": [],
      "include_colab_link": true
    },
    "kernelspec": {
      "name": "python3",
      "display_name": "Python 3"
    },
    "accelerator": "GPU"
  },
  "cells": [
    {
      "cell_type": "markdown",
      "metadata": {
        "id": "view-in-github",
        "colab_type": "text"
      },
      "source": [
        "<a href=\"https://colab.research.google.com/github/prasanth5reddy/D2L/blob/master/Deep%20Learning%20Computation/layers_and_blocks.ipynb\" target=\"_parent\"><img src=\"https://colab.research.google.com/assets/colab-badge.svg\" alt=\"Open In Colab\"/></a>"
      ]
    },
    {
      "metadata": {
        "id": "vZyrYxwFFo-i",
        "colab_type": "text"
      },
      "cell_type": "markdown",
      "source": [
        "Installing Libraries"
      ]
    },
    {
      "metadata": {
        "id": "MDVS3KerFmyR",
        "colab_type": "code",
        "outputId": "c28ad4d9-3e09-4bdb-e5c5-dfee6d128eed",
        "colab": {
          "base_uri": "https://localhost:8080/",
          "height": 175
        }
      },
      "cell_type": "code",
      "source": [
        "!pip install mxnet"
      ],
      "execution_count": 1,
      "outputs": [
        {
          "output_type": "stream",
          "text": [
            "Requirement already satisfied: mxnet in /usr/local/lib/python3.6/dist-packages (1.4.0.post0)\n",
            "Requirement already satisfied: numpy<1.15.0,>=1.8.2 in /usr/local/lib/python3.6/dist-packages (from mxnet) (1.14.6)\n",
            "Requirement already satisfied: requests>=2.20.0 in /usr/local/lib/python3.6/dist-packages (from mxnet) (2.21.0)\n",
            "Requirement already satisfied: graphviz<0.9.0,>=0.8.1 in /usr/local/lib/python3.6/dist-packages (from mxnet) (0.8.4)\n",
            "Requirement already satisfied: idna<2.9,>=2.5 in /usr/local/lib/python3.6/dist-packages (from requests>=2.20.0->mxnet) (2.8)\n",
            "Requirement already satisfied: certifi>=2017.4.17 in /usr/local/lib/python3.6/dist-packages (from requests>=2.20.0->mxnet) (2019.3.9)\n",
            "Requirement already satisfied: chardet<3.1.0,>=3.0.2 in /usr/local/lib/python3.6/dist-packages (from requests>=2.20.0->mxnet) (3.0.4)\n",
            "Requirement already satisfied: urllib3<1.25,>=1.21.1 in /usr/local/lib/python3.6/dist-packages (from requests>=2.20.0->mxnet) (1.24.2)\n"
          ],
          "name": "stdout"
        }
      ]
    },
    {
      "metadata": {
        "id": "9BvxtXeiFvU9",
        "colab_type": "text"
      },
      "cell_type": "markdown",
      "source": [
        "Importing Libraries"
      ]
    },
    {
      "metadata": {
        "id": "KGnldoYLF0hX",
        "colab_type": "code",
        "colab": {}
      },
      "cell_type": "code",
      "source": [
        "from mxnet import nd\n",
        "from mxnet.gluon import nn"
      ],
      "execution_count": 0,
      "outputs": []
    },
    {
      "metadata": {
        "id": "UiXeVrv5GzQx",
        "colab_type": "text"
      },
      "cell_type": "markdown",
      "source": [
        "MLP Block"
      ]
    },
    {
      "metadata": {
        "id": "3zMWqjbHGYus",
        "colab_type": "code",
        "colab": {
          "base_uri": "https://localhost:8080/",
          "height": 141
        },
        "outputId": "06b8e248-a65e-45e1-dc1c-4a7f412b76cf"
      },
      "cell_type": "code",
      "source": [
        "x = nd.random.uniform(shape=(2, 20))\n",
        "\n",
        "net = nn.Sequential()\n",
        "net.add(nn.Dense(256, activation='relu'))\n",
        "net.add(nn.Dense(10))\n",
        "net.initialize()\n",
        "net(x)"
      ],
      "execution_count": 3,
      "outputs": [
        {
          "output_type": "execute_result",
          "data": {
            "text/plain": [
              "\n",
              "[[ 0.09543004  0.04614332 -0.00286654 -0.07790349 -0.05130243  0.02942037\n",
              "   0.08696642 -0.0190793  -0.04122177  0.05088576]\n",
              " [ 0.0769287   0.03099705  0.00856576 -0.04467199 -0.06926839  0.09132434\n",
              "   0.06786595 -0.06187842 -0.03436673  0.04234694]]\n",
              "<NDArray 2x10 @cpu(0)>"
            ]
          },
          "metadata": {
            "tags": []
          },
          "execution_count": 3
        }
      ]
    },
    {
      "metadata": {
        "id": "rCwLeEQGHayw",
        "colab_type": "text"
      },
      "cell_type": "markdown",
      "source": [
        "A Custom Block"
      ]
    },
    {
      "metadata": {
        "id": "TX_1CY6aHDuJ",
        "colab_type": "code",
        "colab": {}
      },
      "cell_type": "code",
      "source": [
        "class MLP(nn.Block):\n",
        "  # Declare a layer with model parameters. Here, we declare two fully\n",
        "  # connected layers\n",
        "  def __init__(self, **kwargs):\n",
        "    # Call the constructor of the MLP parent class Block to perform the\n",
        "    # necessary initialization. In this way, other function parameters can\n",
        "    # also be specified when constructing an instance, such as the model\n",
        "    # parameter, params, described in the following sections\n",
        "    super(MLP, self).__init__(**kwargs)\n",
        "    self.hidden = nn.Dense(256, activation='relu') # hidden layer\n",
        "    self.output = nn.Dense(10)\n",
        "    \n",
        "  def forward(self, x):\n",
        "    # Define the forward computation of the model, that is, how to return the\n",
        "    # required model output based on the input x\n",
        "    return self.output(self.hidden(x))"
      ],
      "execution_count": 0,
      "outputs": []
    },
    {
      "metadata": {
        "id": "a-JT53I3IjRn",
        "colab_type": "code",
        "colab": {
          "base_uri": "https://localhost:8080/",
          "height": 141
        },
        "outputId": "a5738cbe-1c25-4d94-ba1e-df98b6ec677f"
      },
      "cell_type": "code",
      "source": [
        "net = MLP()\n",
        "net.initialize()\n",
        "net(x)"
      ],
      "execution_count": 5,
      "outputs": [
        {
          "output_type": "execute_result",
          "data": {
            "text/plain": [
              "\n",
              "[[ 0.00362228  0.00633332  0.03201144 -0.01369375  0.10336449 -0.03508018\n",
              "  -0.00032164 -0.01676023  0.06978628  0.01303309]\n",
              " [ 0.03871715  0.02608213  0.03544959 -0.02521311  0.11005433 -0.0143066\n",
              "  -0.03052466 -0.03852827  0.06321152  0.0038594 ]]\n",
              "<NDArray 2x10 @cpu(0)>"
            ]
          },
          "metadata": {
            "tags": []
          },
          "execution_count": 5
        }
      ]
    },
    {
      "metadata": {
        "id": "odGNKWeKd9yV",
        "colab_type": "text"
      },
      "cell_type": "markdown",
      "source": [
        "A Sequential Block"
      ]
    },
    {
      "metadata": {
        "id": "lh3AyHgBduTD",
        "colab_type": "code",
        "colab": {}
      },
      "cell_type": "code",
      "source": [
        "class MySequential(nn.Block):\n",
        "  def __init__(self, **kwargs):\n",
        "    super(MySequential, self).__init__(**kwargs)\n",
        "    \n",
        "  def add(self, block):\n",
        "    # Here, block is an instance of a Block subclass, and we assume it has\n",
        "    # a unique name. We save it in the member variable _children of the\n",
        "    # Block class, and its type is OrderedDict. When the MySequential\n",
        "    # instance calls the initialize function, the system automatically\n",
        "    # initializes all members of _children\n",
        "    self._children[block.name] = block\n",
        "    \n",
        "  def forward(self, x):\n",
        "    # OrderedDict guarantees that members will be traversed in the order\n",
        "    # they were added\n",
        "    for block in self._children.values():\n",
        "      x = block(x)\n",
        "    return x"
      ],
      "execution_count": 0,
      "outputs": []
    },
    {
      "metadata": {
        "id": "Y0_owliBfFO7",
        "colab_type": "code",
        "colab": {
          "base_uri": "https://localhost:8080/",
          "height": 141
        },
        "outputId": "9c105361-4f9f-45b9-e6c1-b6379fadedc0"
      },
      "cell_type": "code",
      "source": [
        "net = MySequential()\n",
        "net.add(nn.Dense(256, activation='relu'))\n",
        "net.add(nn.Dense(10))\n",
        "net.initialize()\n",
        "net(x)"
      ],
      "execution_count": 7,
      "outputs": [
        {
          "output_type": "execute_result",
          "data": {
            "text/plain": [
              "\n",
              "[[ 0.07787765  0.00216401  0.01682201  0.03059879 -0.00702019  0.01668714\n",
              "   0.04822845  0.00394321 -0.09300036 -0.044943  ]\n",
              " [ 0.08891079 -0.00625484 -0.01619132  0.03807178 -0.01451489  0.02006172\n",
              "   0.0303478   0.02463485 -0.07605445 -0.04389167]]\n",
              "<NDArray 2x10 @cpu(0)>"
            ]
          },
          "metadata": {
            "tags": []
          },
          "execution_count": 7
        }
      ]
    },
    {
      "metadata": {
        "id": "oi9YZFYrf1G7",
        "colab_type": "text"
      },
      "cell_type": "markdown",
      "source": [
        "Blocks with Code"
      ]
    },
    {
      "metadata": {
        "id": "-PHtw14Pft-C",
        "colab_type": "code",
        "colab": {}
      },
      "cell_type": "code",
      "source": [
        "class FancyMLP(nn.Block):\n",
        "  def __init__(self, **kwargs):\n",
        "    super(FancyMLP, self).__init__(**kwargs)\n",
        "    # Random weight parameters created with the get_constant are not\n",
        "    # iterated during training (i.e. constant parameters)\n",
        "    self.rand_weight = self.params.get_constant('rand_weight', nd.random.uniform(shape=(20, 20)))\n",
        "    self.dense = nn.Dense(20, activation='relu')\n",
        "    \n",
        "  def forward(self, x):\n",
        "    x = self.dense(x)\n",
        "    # Use the constant parameters created, as well as the relu and dot\n",
        "    # functions of NDArray\n",
        "    x = nd.relu(nd.dot(x, self.rand_weight.data()) + 1)\n",
        "    # Reuse the fully connected layer. This is equivalent to sharing\n",
        "    # parameters with two fully connected layers\n",
        "    x = self.dense(x)\n",
        "    # Here in Control flow, we need to call asscalar to return the scalar\n",
        "    # for comparison\n",
        "    while x.norm().asscalar() > 1:\n",
        "      x /= 2\n",
        "    if x.norm().asscalar() < 0.8:\n",
        "      x *= 10\n",
        "    return x.sum()"
      ],
      "execution_count": 0,
      "outputs": []
    },
    {
      "metadata": {
        "id": "Dduow_ZZh2VD",
        "colab_type": "code",
        "colab": {
          "base_uri": "https://localhost:8080/",
          "height": 69
        },
        "outputId": "2953b469-ecab-4174-e7c1-07182ff4610c"
      },
      "cell_type": "code",
      "source": [
        "net = FancyMLP()\n",
        "net.initialize()\n",
        "net(x)"
      ],
      "execution_count": 9,
      "outputs": [
        {
          "output_type": "execute_result",
          "data": {
            "text/plain": [
              "\n",
              "[25.522684]\n",
              "<NDArray 1 @cpu(0)>"
            ]
          },
          "metadata": {
            "tags": []
          },
          "execution_count": 9
        }
      ]
    },
    {
      "metadata": {
        "id": "rrnoKpAVi6Ne",
        "colab_type": "text"
      },
      "cell_type": "markdown",
      "source": [
        "Nested Blocks"
      ]
    },
    {
      "metadata": {
        "id": "LsBOpQPJiGLC",
        "colab_type": "code",
        "colab": {}
      },
      "cell_type": "code",
      "source": [
        "class NestMLP(nn.Block):\n",
        "  def __init__(self, **kwargs):\n",
        "    super(NestMLP, self).__init__(**kwargs)\n",
        "    self.net = nn.Sequential()\n",
        "    self.net.add(nn.Dense(64, activation='relu'),\n",
        "                 nn.Dense(32, activation='relu'))\n",
        "    self.dense = nn.Dense(16, activation='relu')\n",
        "    \n",
        "  def forward(self, x):\n",
        "    return self.dense(self.net(x))"
      ],
      "execution_count": 0,
      "outputs": []
    },
    {
      "metadata": {
        "id": "mkJVrbq7i2Xw",
        "colab_type": "code",
        "colab": {
          "base_uri": "https://localhost:8080/",
          "height": 69
        },
        "outputId": "75ae1165-58f9-4c24-b889-a5b08e4248e2"
      },
      "cell_type": "code",
      "source": [
        "chimera = nn.Sequential()\n",
        "chimera.add(NestMLP(), nn.Dense(20), FancyMLP())\n",
        "\n",
        "chimera.initialize()\n",
        "chimera(x)"
      ],
      "execution_count": 11,
      "outputs": [
        {
          "output_type": "execute_result",
          "data": {
            "text/plain": [
              "\n",
              "[30.518448]\n",
              "<NDArray 1 @cpu(0)>"
            ]
          },
          "metadata": {
            "tags": []
          },
          "execution_count": 11
        }
      ]
    }
  ]
}