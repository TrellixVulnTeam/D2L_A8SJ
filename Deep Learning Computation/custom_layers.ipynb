{
  "nbformat": 4,
  "nbformat_minor": 0,
  "metadata": {
    "colab": {
      "name": "custom_layers.ipynb",
      "version": "0.3.2",
      "provenance": [],
      "collapsed_sections": [],
      "include_colab_link": true
    },
    "kernelspec": {
      "name": "python3",
      "display_name": "Python 3"
    },
    "accelerator": "GPU"
  },
  "cells": [
    {
      "cell_type": "markdown",
      "metadata": {
        "id": "view-in-github",
        "colab_type": "text"
      },
      "source": [
        "<a href=\"https://colab.research.google.com/github/prasanth5reddy/D2L/blob/master/Deep%20Learning%20Computation/custom_layers.ipynb\" target=\"_parent\"><img src=\"https://colab.research.google.com/assets/colab-badge.svg\" alt=\"Open In Colab\"/></a>"
      ]
    },
    {
      "cell_type": "markdown",
      "metadata": {
        "id": "vZyrYxwFFo-i",
        "colab_type": "text"
      },
      "source": [
        "Installing Libraries"
      ]
    },
    {
      "cell_type": "code",
      "metadata": {
        "id": "MDVS3KerFmyR",
        "colab_type": "code",
        "outputId": "58610f3e-f79f-4ea3-c59b-dcd63b64b448",
        "colab": {
          "base_uri": "https://localhost:8080/",
          "height": 175
        }
      },
      "source": [
        "!pip install mxnet"
      ],
      "execution_count": 1,
      "outputs": [
        {
          "output_type": "stream",
          "text": [
            "Requirement already satisfied: mxnet in /usr/local/lib/python3.6/dist-packages (1.4.0.post0)\n",
            "Requirement already satisfied: numpy<1.15.0,>=1.8.2 in /usr/local/lib/python3.6/dist-packages (from mxnet) (1.14.6)\n",
            "Requirement already satisfied: graphviz<0.9.0,>=0.8.1 in /usr/local/lib/python3.6/dist-packages (from mxnet) (0.8.4)\n",
            "Requirement already satisfied: requests>=2.20.0 in /usr/local/lib/python3.6/dist-packages (from mxnet) (2.21.0)\n",
            "Requirement already satisfied: certifi>=2017.4.17 in /usr/local/lib/python3.6/dist-packages (from requests>=2.20.0->mxnet) (2019.3.9)\n",
            "Requirement already satisfied: idna<2.9,>=2.5 in /usr/local/lib/python3.6/dist-packages (from requests>=2.20.0->mxnet) (2.8)\n",
            "Requirement already satisfied: urllib3<1.25,>=1.21.1 in /usr/local/lib/python3.6/dist-packages (from requests>=2.20.0->mxnet) (1.24.3)\n",
            "Requirement already satisfied: chardet<3.1.0,>=3.0.2 in /usr/local/lib/python3.6/dist-packages (from requests>=2.20.0->mxnet) (3.0.4)\n"
          ],
          "name": "stdout"
        }
      ]
    },
    {
      "cell_type": "markdown",
      "metadata": {
        "id": "9BvxtXeiFvU9",
        "colab_type": "text"
      },
      "source": [
        "Importing Libraries"
      ]
    },
    {
      "cell_type": "code",
      "metadata": {
        "id": "KGnldoYLF0hX",
        "colab_type": "code",
        "colab": {}
      },
      "source": [
        "from mxnet import gluon, nd\n",
        "from mxnet.gluon import nn"
      ],
      "execution_count": 0,
      "outputs": []
    },
    {
      "cell_type": "markdown",
      "metadata": {
        "id": "djGSXF9F-3Ip",
        "colab_type": "text"
      },
      "source": [
        "Layers without Parameters"
      ]
    },
    {
      "cell_type": "code",
      "metadata": {
        "id": "TGFM8d7A-s1a",
        "colab_type": "code",
        "colab": {}
      },
      "source": [
        "class CenteredLayer(nn.Block):\n",
        "  def __init__(self, **kwargs):\n",
        "    super(CenteredLayer, self).__init__(**kwargs)\n",
        "    \n",
        "  def forward(self, x):\n",
        "    return x - x.mean()"
      ],
      "execution_count": 0,
      "outputs": []
    },
    {
      "cell_type": "code",
      "metadata": {
        "id": "g-Ud0TxY_LWZ",
        "colab_type": "code",
        "colab": {
          "base_uri": "https://localhost:8080/",
          "height": 69
        },
        "outputId": "43cba1dc-c845-4665-ce0b-6b68fd3f2fab"
      },
      "source": [
        "layer = CenteredLayer()\n",
        "layer(nd.array([1, 2, 3, 4, 5]))"
      ],
      "execution_count": 4,
      "outputs": [
        {
          "output_type": "execute_result",
          "data": {
            "text/plain": [
              "\n",
              "[-2. -1.  0.  1.  2.]\n",
              "<NDArray 5 @cpu(0)>"
            ]
          },
          "metadata": {
            "tags": []
          },
          "execution_count": 4
        }
      ]
    },
    {
      "cell_type": "code",
      "metadata": {
        "id": "40J60nQr_Q86",
        "colab_type": "code",
        "colab": {}
      },
      "source": [
        "net = nn.Sequential()\n",
        "net.add(nn.Dense(128), CenteredLayer())\n",
        "net.initialize()"
      ],
      "execution_count": 0,
      "outputs": []
    },
    {
      "cell_type": "code",
      "metadata": {
        "id": "oDeBVaKz_h0V",
        "colab_type": "code",
        "colab": {
          "base_uri": "https://localhost:8080/",
          "height": 35
        },
        "outputId": "0abd584e-2a9a-413c-88b0-d628e1dfa23e"
      },
      "source": [
        "y = net(nd.random.uniform(shape=(4, 8)))\n",
        "y.mean().asscalar()"
      ],
      "execution_count": 6,
      "outputs": [
        {
          "output_type": "execute_result",
          "data": {
            "text/plain": [
              "-7.212293e-10"
            ]
          },
          "metadata": {
            "tags": []
          },
          "execution_count": 6
        }
      ]
    },
    {
      "cell_type": "markdown",
      "metadata": {
        "id": "QiKa0LI3_0El",
        "colab_type": "text"
      },
      "source": [
        "Layers with Parameters"
      ]
    },
    {
      "cell_type": "code",
      "metadata": {
        "id": "Q8Q3icw-_tdO",
        "colab_type": "code",
        "colab": {
          "base_uri": "https://localhost:8080/",
          "height": 69
        },
        "outputId": "0b2412e4-47f6-4831-82ba-90382d59ea97"
      },
      "source": [
        "params = gluon.ParameterDict()\n",
        "params.get('param2', shape=(2, 3))\n",
        "params"
      ],
      "execution_count": 7,
      "outputs": [
        {
          "output_type": "execute_result",
          "data": {
            "text/plain": [
              "(\n",
              "  Parameter param2 (shape=(2, 3), dtype=<class 'numpy.float32'>)\n",
              ")"
            ]
          },
          "metadata": {
            "tags": []
          },
          "execution_count": 7
        }
      ]
    },
    {
      "cell_type": "code",
      "metadata": {
        "id": "dbvv3pI-AOC0",
        "colab_type": "code",
        "colab": {}
      },
      "source": [
        "class MyDense(nn.Block):\n",
        "  # units: the number of outputs in this layer; \n",
        "  # in_units: the number of inputs in this layer\n",
        "  def __init__(self, units, in_units, **kwargs):\n",
        "    super(MyDense, self).__init__(**kwargs)\n",
        "    self.weight = self.params.get('weight', shape=(in_units, units))\n",
        "    self.bias = self.params.get('bias', shape=(units,))\n",
        "    \n",
        "  def forward(self, x):\n",
        "    linear = nd.dot(x, self.weight.data()) + self.bias.data()\n",
        "    return nd.relu(linear)"
      ],
      "execution_count": 0,
      "outputs": []
    },
    {
      "cell_type": "code",
      "metadata": {
        "id": "y0UZ4Jc1A1cc",
        "colab_type": "code",
        "colab": {
          "base_uri": "https://localhost:8080/",
          "height": 106
        },
        "outputId": "27ae267f-70d0-4838-f75e-a0978e9ce128"
      },
      "source": [
        "dense = MyDense(units=3, in_units=5)\n",
        "dense.params"
      ],
      "execution_count": 9,
      "outputs": [
        {
          "output_type": "execute_result",
          "data": {
            "text/plain": [
              "mydense0_ (\n",
              "  Parameter mydense0_weight (shape=(5, 3), dtype=<class 'numpy.float32'>)\n",
              "  Parameter mydense0_bias (shape=(3,), dtype=<class 'numpy.float32'>)\n",
              ")"
            ]
          },
          "metadata": {
            "tags": []
          },
          "execution_count": 9
        }
      ]
    },
    {
      "cell_type": "code",
      "metadata": {
        "id": "YGJ3ILrnBBr8",
        "colab_type": "code",
        "colab": {
          "base_uri": "https://localhost:8080/",
          "height": 86
        },
        "outputId": "c3a62f34-9054-4c32-bc3a-a02a191abf6c"
      },
      "source": [
        "dense.initialize()\n",
        "dense(nd.random.uniform(shape=(2, 5)))"
      ],
      "execution_count": 10,
      "outputs": [
        {
          "output_type": "execute_result",
          "data": {
            "text/plain": [
              "\n",
              "[[0.06917784 0.01627153 0.01029644]\n",
              " [0.02602214 0.0453731  0.        ]]\n",
              "<NDArray 2x3 @cpu(0)>"
            ]
          },
          "metadata": {
            "tags": []
          },
          "execution_count": 10
        }
      ]
    },
    {
      "cell_type": "code",
      "metadata": {
        "id": "torCIsqqBMsr",
        "colab_type": "code",
        "colab": {
          "base_uri": "https://localhost:8080/",
          "height": 86
        },
        "outputId": "2a7ce340-d4d4-497d-8727-daa195f23249"
      },
      "source": [
        "net = nn.Sequential()\n",
        "net.add(MyDense(8, in_units=64),\n",
        "        MyDense(1, in_units=8))\n",
        "net.initialize()\n",
        "net(nd.random.uniform(shape=(2, 64)))"
      ],
      "execution_count": 11,
      "outputs": [
        {
          "output_type": "execute_result",
          "data": {
            "text/plain": [
              "\n",
              "[[0.03820474]\n",
              " [0.04035058]]\n",
              "<NDArray 2x1 @cpu(0)>"
            ]
          },
          "metadata": {
            "tags": []
          },
          "execution_count": 11
        }
      ]
    }
  ]
}