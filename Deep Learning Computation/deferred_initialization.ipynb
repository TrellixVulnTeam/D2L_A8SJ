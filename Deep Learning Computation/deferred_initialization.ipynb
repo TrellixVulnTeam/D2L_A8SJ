{
  "nbformat": 4,
  "nbformat_minor": 0,
  "metadata": {
    "colab": {
      "name": "deferred_initialization.ipynb",
      "version": "0.3.2",
      "provenance": [],
      "collapsed_sections": [],
      "include_colab_link": true
    },
    "kernelspec": {
      "name": "python3",
      "display_name": "Python 3"
    },
    "accelerator": "GPU"
  },
  "cells": [
    {
      "cell_type": "markdown",
      "metadata": {
        "id": "view-in-github",
        "colab_type": "text"
      },
      "source": [
        "<a href=\"https://colab.research.google.com/github/prasanth5reddy/D2L/blob/master/Deep%20Learning%20Computation/deferred_initialization.ipynb\" target=\"_parent\"><img src=\"https://colab.research.google.com/assets/colab-badge.svg\" alt=\"Open In Colab\"/></a>"
      ]
    },
    {
      "metadata": {
        "id": "vZyrYxwFFo-i",
        "colab_type": "text"
      },
      "cell_type": "markdown",
      "source": [
        "Installing Libraries"
      ]
    },
    {
      "metadata": {
        "id": "MDVS3KerFmyR",
        "colab_type": "code",
        "outputId": "b3cc3fe7-386e-4fd2-85f7-ee55688dfe5b",
        "colab": {
          "base_uri": "https://localhost:8080/",
          "height": 155
        }
      },
      "cell_type": "code",
      "source": [
        "!pip install mxnet"
      ],
      "execution_count": 1,
      "outputs": [
        {
          "output_type": "stream",
          "text": [
            "Requirement already satisfied: mxnet in /usr/local/lib/python3.6/dist-packages (1.4.0.post0)\n",
            "Requirement already satisfied: requests>=2.20.0 in /usr/local/lib/python3.6/dist-packages (from mxnet) (2.21.0)\n",
            "Requirement already satisfied: numpy<1.15.0,>=1.8.2 in /usr/local/lib/python3.6/dist-packages (from mxnet) (1.14.6)\n",
            "Requirement already satisfied: graphviz<0.9.0,>=0.8.1 in /usr/local/lib/python3.6/dist-packages (from mxnet) (0.8.4)\n",
            "Requirement already satisfied: chardet<3.1.0,>=3.0.2 in /usr/local/lib/python3.6/dist-packages (from requests>=2.20.0->mxnet) (3.0.4)\n",
            "Requirement already satisfied: idna<2.9,>=2.5 in /usr/local/lib/python3.6/dist-packages (from requests>=2.20.0->mxnet) (2.8)\n",
            "Requirement already satisfied: certifi>=2017.4.17 in /usr/local/lib/python3.6/dist-packages (from requests>=2.20.0->mxnet) (2019.3.9)\n",
            "Requirement already satisfied: urllib3<1.25,>=1.21.1 in /usr/local/lib/python3.6/dist-packages (from requests>=2.20.0->mxnet) (1.24.2)\n"
          ],
          "name": "stdout"
        }
      ]
    },
    {
      "metadata": {
        "id": "9BvxtXeiFvU9",
        "colab_type": "text"
      },
      "cell_type": "markdown",
      "source": [
        "Importing Libraries"
      ]
    },
    {
      "metadata": {
        "id": "KGnldoYLF0hX",
        "colab_type": "code",
        "colab": {}
      },
      "cell_type": "code",
      "source": [
        "from mxnet import init, nd\n",
        "from mxnet.gluon import nn"
      ],
      "execution_count": 0,
      "outputs": []
    },
    {
      "metadata": {
        "id": "MKRhjovm-UPR",
        "colab_type": "text"
      },
      "cell_type": "markdown",
      "source": [
        "Instantiating a Network"
      ]
    },
    {
      "metadata": {
        "id": "BvziB1hyuGbq",
        "colab_type": "code",
        "colab": {}
      },
      "cell_type": "code",
      "source": [
        "def getnet():\n",
        "  net = nn.Sequential()\n",
        "  net.add(nn.Dense(256, activation='relu'))\n",
        "  net.add(nn.Dense(10))\n",
        "  return net\n",
        "\n",
        "net = getnet()"
      ],
      "execution_count": 0,
      "outputs": []
    },
    {
      "metadata": {
        "id": "RYq9ZsV_-t9r",
        "colab_type": "code",
        "colab": {
          "base_uri": "https://localhost:8080/",
          "height": 173
        },
        "outputId": "4f32e0d5-79f9-4efd-d799-96e7802a6bc9"
      },
      "cell_type": "code",
      "source": [
        "print(net.collect_params, net.collect_params())"
      ],
      "execution_count": 4,
      "outputs": [
        {
          "output_type": "stream",
          "text": [
            "<bound method Block.collect_params of Sequential(\n",
            "  (0): Dense(None -> 256, Activation(relu))\n",
            "  (1): Dense(None -> 10, linear)\n",
            ")> sequential0_ (\n",
            "  Parameter dense0_weight (shape=(256, 0), dtype=float32)\n",
            "  Parameter dense0_bias (shape=(256,), dtype=float32)\n",
            "  Parameter dense1_weight (shape=(10, 0), dtype=float32)\n",
            "  Parameter dense1_bias (shape=(10,), dtype=float32)\n",
            ")\n"
          ],
          "name": "stdout"
        }
      ]
    },
    {
      "metadata": {
        "id": "K7GZaVAA--Az",
        "colab_type": "code",
        "colab": {
          "base_uri": "https://localhost:8080/",
          "height": 121
        },
        "outputId": "af6ecae1-6ee2-4f34-823e-bf427f4ad104"
      },
      "cell_type": "code",
      "source": [
        "net.initialize()\n",
        "net.collect_params()"
      ],
      "execution_count": 5,
      "outputs": [
        {
          "output_type": "execute_result",
          "data": {
            "text/plain": [
              "sequential0_ (\n",
              "  Parameter dense0_weight (shape=(256, 0), dtype=float32)\n",
              "  Parameter dense0_bias (shape=(256,), dtype=float32)\n",
              "  Parameter dense1_weight (shape=(10, 0), dtype=float32)\n",
              "  Parameter dense1_bias (shape=(10,), dtype=float32)\n",
              ")"
            ]
          },
          "metadata": {
            "tags": []
          },
          "execution_count": 5
        }
      ]
    },
    {
      "metadata": {
        "id": "DBhjIL_R_Aou",
        "colab_type": "code",
        "colab": {
          "base_uri": "https://localhost:8080/",
          "height": 121
        },
        "outputId": "3a4d9d29-7d5e-48ea-c021-66a691fa12be"
      },
      "cell_type": "code",
      "source": [
        "x = nd.random.uniform(shape=(2, 20))\n",
        "net(x)\n",
        "\n",
        "net.collect_params()"
      ],
      "execution_count": 6,
      "outputs": [
        {
          "output_type": "execute_result",
          "data": {
            "text/plain": [
              "sequential0_ (\n",
              "  Parameter dense0_weight (shape=(256, 20), dtype=float32)\n",
              "  Parameter dense0_bias (shape=(256,), dtype=float32)\n",
              "  Parameter dense1_weight (shape=(10, 256), dtype=float32)\n",
              "  Parameter dense1_bias (shape=(10,), dtype=float32)\n",
              ")"
            ]
          },
          "metadata": {
            "tags": []
          },
          "execution_count": 6
        }
      ]
    },
    {
      "metadata": {
        "id": "X_YKALg0_ged",
        "colab_type": "text"
      },
      "cell_type": "markdown",
      "source": [
        "Deferred Initialization in Practice"
      ]
    },
    {
      "metadata": {
        "id": "7bxQ-m61_SsA",
        "colab_type": "code",
        "colab": {}
      },
      "cell_type": "code",
      "source": [
        "class MyInit(init.Initializer):\n",
        "  def _init_weight(self, name, data):\n",
        "    print('Init', name, data.shape)\n",
        "    \n",
        "net = getnet()\n",
        "net.initialize(init=MyInit())"
      ],
      "execution_count": 0,
      "outputs": []
    },
    {
      "metadata": {
        "id": "0QSwcVcn_xi5",
        "colab_type": "code",
        "colab": {
          "base_uri": "https://localhost:8080/",
          "height": 52
        },
        "outputId": "4a6e5fa3-d138-40bb-a71a-5b0ce0c8bb4c"
      },
      "cell_type": "code",
      "source": [
        "x = nd.random.uniform(shape=(2, 20))\n",
        "y = net(x)"
      ],
      "execution_count": 8,
      "outputs": [
        {
          "output_type": "stream",
          "text": [
            "Init dense2_weight (256, 20)\n",
            "Init dense3_weight (10, 256)\n"
          ],
          "name": "stdout"
        }
      ]
    },
    {
      "metadata": {
        "id": "dfVsz1YE_5Od",
        "colab_type": "code",
        "colab": {}
      },
      "cell_type": "code",
      "source": [
        "y = net(x)"
      ],
      "execution_count": 0,
      "outputs": []
    },
    {
      "metadata": {
        "id": "yBiotvytASXu",
        "colab_type": "text"
      },
      "cell_type": "markdown",
      "source": [
        "Forced Initialization"
      ]
    },
    {
      "metadata": {
        "id": "iBAgqejVABAU",
        "colab_type": "code",
        "colab": {
          "base_uri": "https://localhost:8080/",
          "height": 52
        },
        "outputId": "2fd9cee0-9ad1-4e55-c17e-02a65b25a6b9"
      },
      "cell_type": "code",
      "source": [
        "net.initialize(init=MyInit(), force_reinit=True)"
      ],
      "execution_count": 10,
      "outputs": [
        {
          "output_type": "stream",
          "text": [
            "Init dense2_weight (256, 20)\n",
            "Init dense3_weight (10, 256)\n"
          ],
          "name": "stdout"
        }
      ]
    },
    {
      "metadata": {
        "id": "jeQz_yQtAgfL",
        "colab_type": "code",
        "colab": {
          "base_uri": "https://localhost:8080/",
          "height": 52
        },
        "outputId": "c4adb066-67f6-4050-b2fe-587307a7fbe8"
      },
      "cell_type": "code",
      "source": [
        "net = nn.Sequential()\n",
        "net.add(nn.Dense(256, in_units=20, activation='relu'))\n",
        "net.add(nn.Dense(10, in_units=256))\n",
        "\n",
        "net.initialize(init=MyInit())"
      ],
      "execution_count": 11,
      "outputs": [
        {
          "output_type": "stream",
          "text": [
            "Init dense4_weight (256, 20)\n",
            "Init dense5_weight (10, 256)\n"
          ],
          "name": "stdout"
        }
      ]
    }
  ]
}