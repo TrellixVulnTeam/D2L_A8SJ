{
  "nbformat": 4,
  "nbformat_minor": 0,
  "metadata": {
    "colab": {
      "name": "parameter_management.ipynb",
      "version": "0.3.2",
      "provenance": [],
      "collapsed_sections": [],
      "include_colab_link": true
    },
    "kernelspec": {
      "name": "python3",
      "display_name": "Python 3"
    },
    "accelerator": "GPU"
  },
  "cells": [
    {
      "cell_type": "markdown",
      "metadata": {
        "id": "view-in-github",
        "colab_type": "text"
      },
      "source": [
        "<a href=\"https://colab.research.google.com/github/prasanth5reddy/D2L/blob/master/Deep%20Learning%20Computation/parameter_management.ipynb\" target=\"_parent\"><img src=\"https://colab.research.google.com/assets/colab-badge.svg\" alt=\"Open In Colab\"/></a>"
      ]
    },
    {
      "metadata": {
        "id": "vZyrYxwFFo-i",
        "colab_type": "text"
      },
      "cell_type": "markdown",
      "source": [
        "Installing Libraries"
      ]
    },
    {
      "metadata": {
        "id": "MDVS3KerFmyR",
        "colab_type": "code",
        "outputId": "92e35839-6537-4381-9316-a31d3f9c27e4",
        "colab": {
          "base_uri": "https://localhost:8080/",
          "height": 175
        }
      },
      "cell_type": "code",
      "source": [
        "!pip install mxnet"
      ],
      "execution_count": 1,
      "outputs": [
        {
          "output_type": "stream",
          "text": [
            "Requirement already satisfied: mxnet in /usr/local/lib/python3.6/dist-packages (1.4.0.post0)\n",
            "Requirement already satisfied: requests>=2.20.0 in /usr/local/lib/python3.6/dist-packages (from mxnet) (2.21.0)\n",
            "Requirement already satisfied: graphviz<0.9.0,>=0.8.1 in /usr/local/lib/python3.6/dist-packages (from mxnet) (0.8.4)\n",
            "Requirement already satisfied: numpy<1.15.0,>=1.8.2 in /usr/local/lib/python3.6/dist-packages (from mxnet) (1.14.6)\n",
            "Requirement already satisfied: chardet<3.1.0,>=3.0.2 in /usr/local/lib/python3.6/dist-packages (from requests>=2.20.0->mxnet) (3.0.4)\n",
            "Requirement already satisfied: urllib3<1.25,>=1.21.1 in /usr/local/lib/python3.6/dist-packages (from requests>=2.20.0->mxnet) (1.24.2)\n",
            "Requirement already satisfied: idna<2.9,>=2.5 in /usr/local/lib/python3.6/dist-packages (from requests>=2.20.0->mxnet) (2.8)\n",
            "Requirement already satisfied: certifi>=2017.4.17 in /usr/local/lib/python3.6/dist-packages (from requests>=2.20.0->mxnet) (2019.3.9)\n"
          ],
          "name": "stdout"
        }
      ]
    },
    {
      "metadata": {
        "id": "9BvxtXeiFvU9",
        "colab_type": "text"
      },
      "cell_type": "markdown",
      "source": [
        "Importing Libraries"
      ]
    },
    {
      "metadata": {
        "id": "KGnldoYLF0hX",
        "colab_type": "code",
        "colab": {}
      },
      "cell_type": "code",
      "source": [
        "from mxnet import nd,init\n",
        "from mxnet.gluon import nn"
      ],
      "execution_count": 0,
      "outputs": []
    },
    {
      "metadata": {
        "id": "tKRV3DgtlQK5",
        "colab_type": "text"
      },
      "cell_type": "markdown",
      "source": [
        "Traditional MLP"
      ]
    },
    {
      "metadata": {
        "id": "GVwbYco_lME9",
        "colab_type": "code",
        "colab": {
          "base_uri": "https://localhost:8080/",
          "height": 141
        },
        "outputId": "5c953dc5-228b-4f6e-8693-e3c7ad0dfa7c"
      },
      "cell_type": "code",
      "source": [
        "net = nn.Sequential()\n",
        "net.add(nn.Dense(256, activation='relu'))\n",
        "net.add(nn.Dense(10))\n",
        "net.initialize() # use the default initialization method\n",
        "\n",
        "x = nd.random.uniform(shape=(2, 20))\n",
        "net(x) # forward computation"
      ],
      "execution_count": 3,
      "outputs": [
        {
          "output_type": "execute_result",
          "data": {
            "text/plain": [
              "\n",
              "[[ 0.09543004  0.04614332 -0.00286654 -0.07790349 -0.05130243  0.02942037\n",
              "   0.08696642 -0.0190793  -0.04122177  0.05088576]\n",
              " [ 0.0769287   0.03099705  0.00856576 -0.04467199 -0.06926839  0.09132434\n",
              "   0.06786595 -0.06187842 -0.03436673  0.04234694]]\n",
              "<NDArray 2x10 @cpu(0)>"
            ]
          },
          "metadata": {
            "tags": []
          },
          "execution_count": 3
        }
      ]
    },
    {
      "metadata": {
        "id": "2wRMfjdNllMj",
        "colab_type": "text"
      },
      "cell_type": "markdown",
      "source": [
        "Parameter Access"
      ]
    },
    {
      "metadata": {
        "id": "5GEh5iJHlj8v",
        "colab_type": "code",
        "colab": {
          "base_uri": "https://localhost:8080/",
          "height": 155
        },
        "outputId": "99471e60-1318-436b-95bc-e443bad62013"
      },
      "cell_type": "code",
      "source": [
        "print(len(net))\n",
        "print(net[0].params, net[1].params)"
      ],
      "execution_count": 4,
      "outputs": [
        {
          "output_type": "stream",
          "text": [
            "2\n",
            "dense0_ (\n",
            "  Parameter dense0_weight (shape=(256, 20), dtype=float32)\n",
            "  Parameter dense0_bias (shape=(256,), dtype=float32)\n",
            ") dense1_ (\n",
            "  Parameter dense1_weight (shape=(10, 256), dtype=float32)\n",
            "  Parameter dense1_bias (shape=(10,), dtype=float32)\n",
            ")\n"
          ],
          "name": "stdout"
        }
      ]
    },
    {
      "metadata": {
        "id": "f9C84081mH1q",
        "colab_type": "text"
      },
      "cell_type": "markdown",
      "source": [
        "Targeted Parameters"
      ]
    },
    {
      "metadata": {
        "id": "97yuI4Dblxr_",
        "colab_type": "code",
        "colab": {
          "base_uri": "https://localhost:8080/",
          "height": 69
        },
        "outputId": "ae4b52d1-36e2-42f1-f339-f05823ff9aec"
      },
      "cell_type": "code",
      "source": [
        "print(net[1].bias, net[1].bias.data())"
      ],
      "execution_count": 5,
      "outputs": [
        {
          "output_type": "stream",
          "text": [
            "Parameter dense1_bias (shape=(10,), dtype=float32) \n",
            "[0. 0. 0. 0. 0. 0. 0. 0. 0. 0.]\n",
            "<NDArray 10 @cpu(0)>\n"
          ],
          "name": "stdout"
        }
      ]
    },
    {
      "metadata": {
        "id": "HyTtmHOOmKsa",
        "colab_type": "code",
        "colab": {
          "base_uri": "https://localhost:8080/",
          "height": 276
        },
        "outputId": "8d417339-dc0f-46ab-b24b-75caa69c77ba"
      },
      "cell_type": "code",
      "source": [
        "print(net[0].params['dense0_weight'], net[0].params['dense0_weight'].data())"
      ],
      "execution_count": 6,
      "outputs": [
        {
          "output_type": "stream",
          "text": [
            "Parameter dense0_weight (shape=(256, 20), dtype=float32) \n",
            "[[ 0.06700657 -0.00369488  0.0418822  ... -0.05517294 -0.01194733\n",
            "  -0.00369594]\n",
            " [-0.03296221 -0.04391347  0.03839272 ...  0.05636378  0.02545484\n",
            "  -0.007007  ]\n",
            " [-0.0196689   0.01582889 -0.00881553 ...  0.01509629 -0.01908049\n",
            "  -0.02449339]\n",
            " ...\n",
            " [ 0.00010955  0.0439323  -0.04911506 ...  0.06975312  0.0449558\n",
            "  -0.03283203]\n",
            " [ 0.04106557  0.05671307 -0.00066976 ...  0.06387014 -0.01292654\n",
            "   0.00974177]\n",
            " [ 0.00297424 -0.0281784  -0.06881659 ... -0.04047417  0.00457048\n",
            "   0.05696651]]\n",
            "<NDArray 256x20 @cpu(0)>\n"
          ],
          "name": "stdout"
        }
      ]
    },
    {
      "metadata": {
        "id": "rB2XFsmLmdeS",
        "colab_type": "code",
        "colab": {
          "base_uri": "https://localhost:8080/",
          "height": 173
        },
        "outputId": "f30a59d5-18c2-4bf5-da88-87285fccdddd"
      },
      "cell_type": "code",
      "source": [
        "net[0].weight.grad()\n",
        "# since we didn't computer backpropagation gradient will be zero"
      ],
      "execution_count": 7,
      "outputs": [
        {
          "output_type": "execute_result",
          "data": {
            "text/plain": [
              "\n",
              "[[0. 0. 0. ... 0. 0. 0.]\n",
              " [0. 0. 0. ... 0. 0. 0.]\n",
              " [0. 0. 0. ... 0. 0. 0.]\n",
              " ...\n",
              " [0. 0. 0. ... 0. 0. 0.]\n",
              " [0. 0. 0. ... 0. 0. 0.]\n",
              " [0. 0. 0. ... 0. 0. 0.]]\n",
              "<NDArray 256x20 @cpu(0)>"
            ]
          },
          "metadata": {
            "tags": []
          },
          "execution_count": 7
        }
      ]
    },
    {
      "metadata": {
        "id": "HTMC06yYmzJU",
        "colab_type": "text"
      },
      "cell_type": "markdown",
      "source": [
        "All Parameters at Once"
      ]
    },
    {
      "metadata": {
        "id": "fynvxgdKmrU4",
        "colab_type": "code",
        "colab": {
          "base_uri": "https://localhost:8080/",
          "height": 190
        },
        "outputId": "b3689ef2-89ee-4cf4-901c-e678f6a71974"
      },
      "cell_type": "code",
      "source": [
        "# parameters only for the first layer\n",
        "print(net[0].collect_params())\n",
        "\n",
        "# parameters of the entire network\n",
        "print(net.collect_params())"
      ],
      "execution_count": 8,
      "outputs": [
        {
          "output_type": "stream",
          "text": [
            "dense0_ (\n",
            "  Parameter dense0_weight (shape=(256, 20), dtype=float32)\n",
            "  Parameter dense0_bias (shape=(256,), dtype=float32)\n",
            ")\n",
            "sequential0_ (\n",
            "  Parameter dense0_weight (shape=(256, 20), dtype=float32)\n",
            "  Parameter dense0_bias (shape=(256,), dtype=float32)\n",
            "  Parameter dense1_weight (shape=(10, 256), dtype=float32)\n",
            "  Parameter dense1_bias (shape=(10,), dtype=float32)\n",
            ")\n"
          ],
          "name": "stdout"
        }
      ]
    },
    {
      "metadata": {
        "id": "slKsLu6snFfy",
        "colab_type": "code",
        "colab": {
          "base_uri": "https://localhost:8080/",
          "height": 69
        },
        "outputId": "1e809662-a4e9-4b81-cdd3-762f22e57973"
      },
      "cell_type": "code",
      "source": [
        "net.collect_params()['dense1_bias'].data()"
      ],
      "execution_count": 9,
      "outputs": [
        {
          "output_type": "execute_result",
          "data": {
            "text/plain": [
              "\n",
              "[0. 0. 0. 0. 0. 0. 0. 0. 0. 0.]\n",
              "<NDArray 10 @cpu(0)>"
            ]
          },
          "metadata": {
            "tags": []
          },
          "execution_count": 9
        }
      ]
    },
    {
      "metadata": {
        "id": "qYykNgddnQdH",
        "colab_type": "code",
        "colab": {
          "base_uri": "https://localhost:8080/",
          "height": 138
        },
        "outputId": "dd93746f-76d9-4549-f723-73c26a54a131"
      },
      "cell_type": "code",
      "source": [
        "print(net.collect_params('.*weight'), net.collect_params('dense0.*'))"
      ],
      "execution_count": 10,
      "outputs": [
        {
          "output_type": "stream",
          "text": [
            "sequential0_ (\n",
            "  Parameter dense0_weight (shape=(256, 20), dtype=float32)\n",
            "  Parameter dense1_weight (shape=(10, 256), dtype=float32)\n",
            ") sequential0_ (\n",
            "  Parameter dense0_weight (shape=(256, 20), dtype=float32)\n",
            "  Parameter dense0_bias (shape=(256,), dtype=float32)\n",
            ")\n"
          ],
          "name": "stdout"
        }
      ]
    },
    {
      "metadata": {
        "id": "2hGJj_-nn7cr",
        "colab_type": "text"
      },
      "cell_type": "markdown",
      "source": [
        "Rube Goldberg strikes again"
      ]
    },
    {
      "metadata": {
        "id": "qGlDpSGyngae",
        "colab_type": "code",
        "colab": {
          "base_uri": "https://localhost:8080/",
          "height": 155
        },
        "outputId": "1bbee5f7-4648-4549-f558-966d5bcd5b4c"
      },
      "cell_type": "code",
      "source": [
        "def block1():\n",
        "  net = nn.Sequential()\n",
        "  net.add(nn.Dense(32, activation='relu'))\n",
        "  net.add(nn.Dense(16, activation='relu'))\n",
        "  return net\n",
        "\n",
        "def block2():\n",
        "  net = nn.Sequential()\n",
        "  for i in range(4):\n",
        "    net.add(block1())\n",
        "  return net\n",
        "\n",
        "rgnet = nn.Sequential()\n",
        "rgnet.add(block2())\n",
        "rgnet.add(nn.Dense(10))\n",
        "rgnet.initialize()\n",
        "rgnet(x)"
      ],
      "execution_count": 11,
      "outputs": [
        {
          "output_type": "execute_result",
          "data": {
            "text/plain": [
              "\n",
              "[[ 1.0116727e-08 -9.4839003e-10 -1.1526797e-08  1.4917443e-08\n",
              "  -1.5690811e-09 -3.9257650e-09 -4.1441655e-09  9.3013472e-09\n",
              "   3.2393586e-09 -4.8612452e-09]\n",
              " [ 9.0111598e-09 -1.9115812e-10 -8.9595842e-09  1.0745880e-08\n",
              "   1.4963460e-10 -2.2272872e-09 -3.9153973e-09  7.0595711e-09\n",
              "   3.4854222e-09 -4.5807327e-09]]\n",
              "<NDArray 2x10 @cpu(0)>"
            ]
          },
          "metadata": {
            "tags": []
          },
          "execution_count": 11
        }
      ]
    },
    {
      "metadata": {
        "id": "UiMubC2IobFI",
        "colab_type": "code",
        "colab": {
          "base_uri": "https://localhost:8080/",
          "height": 380
        },
        "outputId": "abad2ad8-2d99-47bf-8aff-aae1d7929a75"
      },
      "cell_type": "code",
      "source": [
        "print(rgnet.collect_params)"
      ],
      "execution_count": 12,
      "outputs": [
        {
          "output_type": "stream",
          "text": [
            "<bound method Block.collect_params of Sequential(\n",
            "  (0): Sequential(\n",
            "    (0): Sequential(\n",
            "      (0): Dense(20 -> 32, Activation(relu))\n",
            "      (1): Dense(32 -> 16, Activation(relu))\n",
            "    )\n",
            "    (1): Sequential(\n",
            "      (0): Dense(16 -> 32, Activation(relu))\n",
            "      (1): Dense(32 -> 16, Activation(relu))\n",
            "    )\n",
            "    (2): Sequential(\n",
            "      (0): Dense(16 -> 32, Activation(relu))\n",
            "      (1): Dense(32 -> 16, Activation(relu))\n",
            "    )\n",
            "    (3): Sequential(\n",
            "      (0): Dense(16 -> 32, Activation(relu))\n",
            "      (1): Dense(32 -> 16, Activation(relu))\n",
            "    )\n",
            "  )\n",
            "  (1): Dense(16 -> 10, linear)\n",
            ")>\n"
          ],
          "name": "stdout"
        }
      ]
    },
    {
      "metadata": {
        "id": "CczDobTeoiMP",
        "colab_type": "code",
        "colab": {
          "base_uri": "https://localhost:8080/",
          "height": 363
        },
        "outputId": "f5da73f5-8ff0-4669-ec7d-b685c53662e5"
      },
      "cell_type": "code",
      "source": [
        "print(rgnet.collect_params())"
      ],
      "execution_count": 13,
      "outputs": [
        {
          "output_type": "stream",
          "text": [
            "sequential1_ (\n",
            "  Parameter dense2_weight (shape=(32, 20), dtype=float32)\n",
            "  Parameter dense2_bias (shape=(32,), dtype=float32)\n",
            "  Parameter dense3_weight (shape=(16, 32), dtype=float32)\n",
            "  Parameter dense3_bias (shape=(16,), dtype=float32)\n",
            "  Parameter dense4_weight (shape=(32, 16), dtype=float32)\n",
            "  Parameter dense4_bias (shape=(32,), dtype=float32)\n",
            "  Parameter dense5_weight (shape=(16, 32), dtype=float32)\n",
            "  Parameter dense5_bias (shape=(16,), dtype=float32)\n",
            "  Parameter dense6_weight (shape=(32, 16), dtype=float32)\n",
            "  Parameter dense6_bias (shape=(32,), dtype=float32)\n",
            "  Parameter dense7_weight (shape=(16, 32), dtype=float32)\n",
            "  Parameter dense7_bias (shape=(16,), dtype=float32)\n",
            "  Parameter dense8_weight (shape=(32, 16), dtype=float32)\n",
            "  Parameter dense8_bias (shape=(32,), dtype=float32)\n",
            "  Parameter dense9_weight (shape=(16, 32), dtype=float32)\n",
            "  Parameter dense9_bias (shape=(16,), dtype=float32)\n",
            "  Parameter dense10_weight (shape=(10, 16), dtype=float32)\n",
            "  Parameter dense10_bias (shape=(10,), dtype=float32)\n",
            ")\n"
          ],
          "name": "stdout"
        }
      ]
    },
    {
      "metadata": {
        "id": "Wa_g2eg_o5xh",
        "colab_type": "code",
        "colab": {
          "base_uri": "https://localhost:8080/",
          "height": 86
        },
        "outputId": "e563c0e6-6fda-4798-9e59-8471e6b2637a"
      },
      "cell_type": "code",
      "source": [
        "rgnet[0][1][0].bias.data()"
      ],
      "execution_count": 14,
      "outputs": [
        {
          "output_type": "execute_result",
          "data": {
            "text/plain": [
              "\n",
              "[0. 0. 0. 0. 0. 0. 0. 0. 0. 0. 0. 0. 0. 0. 0. 0. 0. 0. 0. 0. 0. 0. 0. 0.\n",
              " 0. 0. 0. 0. 0. 0. 0. 0.]\n",
              "<NDArray 32 @cpu(0)>"
            ]
          },
          "metadata": {
            "tags": []
          },
          "execution_count": 14
        }
      ]
    },
    {
      "metadata": {
        "id": "wRaS-yO5p0QC",
        "colab_type": "text"
      },
      "cell_type": "markdown",
      "source": [
        "Parameter Initialization"
      ]
    },
    {
      "metadata": {
        "id": "w2Uadw50p6p1",
        "colab_type": "text"
      },
      "cell_type": "markdown",
      "source": [
        "Built-in Initialization"
      ]
    },
    {
      "metadata": {
        "id": "oFD7T07XpXjQ",
        "colab_type": "code",
        "colab": {
          "base_uri": "https://localhost:8080/",
          "height": 121
        },
        "outputId": "3b36b2f2-bdd7-4bc4-ddde-0353bc71751f"
      },
      "cell_type": "code",
      "source": [
        "# force_reinit ensures that the variables are initialized again, regardless of\n",
        "# whether they were already initialized previously\n",
        "net.initialize(init=init.Normal(sigma=0.01), force_reinit=True)\n",
        "net[0].weight.data()[0]"
      ],
      "execution_count": 15,
      "outputs": [
        {
          "output_type": "execute_result",
          "data": {
            "text/plain": [
              "\n",
              "[-0.008166   -0.00159167 -0.00273115  0.00684697  0.01204039  0.01359703\n",
              "  0.00776908 -0.00640936  0.00256858  0.00545601  0.0018105  -0.00914027\n",
              "  0.00133803  0.01070259 -0.00368285  0.01432678  0.00558631 -0.01479764\n",
              "  0.00879013  0.00460165]\n",
              "<NDArray 20 @cpu(0)>"
            ]
          },
          "metadata": {
            "tags": []
          },
          "execution_count": 15
        }
      ]
    },
    {
      "metadata": {
        "id": "t2s9klcWq2AJ",
        "colab_type": "code",
        "colab": {
          "base_uri": "https://localhost:8080/",
          "height": 69
        },
        "outputId": "f18424d0-fbf5-4f0b-96ef-3add8ab5b0bc"
      },
      "cell_type": "code",
      "source": [
        "net.initialize(init=init.Constant(1), force_reinit=True)\n",
        "net[0].weight.data()[0]"
      ],
      "execution_count": 16,
      "outputs": [
        {
          "output_type": "execute_result",
          "data": {
            "text/plain": [
              "\n",
              "[1. 1. 1. 1. 1. 1. 1. 1. 1. 1. 1. 1. 1. 1. 1. 1. 1. 1. 1. 1.]\n",
              "<NDArray 20 @cpu(0)>"
            ]
          },
          "metadata": {
            "tags": []
          },
          "execution_count": 16
        }
      ]
    },
    {
      "metadata": {
        "id": "XdFdfW42q4tJ",
        "colab_type": "code",
        "colab": {
          "base_uri": "https://localhost:8080/",
          "height": 173
        },
        "outputId": "21974b99-c8f3-4447-bccb-9ac29a6cf3df"
      },
      "cell_type": "code",
      "source": [
        "net[1].initialize(init=init.Constant(55), force_reinit=True)\n",
        "net[0].weight.initialize(init=init.Xavier(), force_reinit=True)\n",
        "print(net[1].weight.data()[0,0])\n",
        "print(net[0].weight.data()[0])"
      ],
      "execution_count": 17,
      "outputs": [
        {
          "output_type": "stream",
          "text": [
            "\n",
            "[55.]\n",
            "<NDArray 1 @cpu(0)>\n",
            "\n",
            "[-0.14511706 -0.01173057 -0.03754489 -0.14020921  0.00900492  0.01712246\n",
            "  0.12447387 -0.04094418 -0.12105145  0.00079902 -0.0277361  -0.10213967\n",
            " -0.14027238 -0.02196661 -0.04641148  0.11977354  0.03604397 -0.14493202\n",
            " -0.06514931  0.13826048]\n",
            "<NDArray 20 @cpu(0)>\n"
          ],
          "name": "stdout"
        }
      ]
    },
    {
      "metadata": {
        "id": "WQGRqfE9rIMS",
        "colab_type": "text"
      },
      "cell_type": "markdown",
      "source": [
        "Custom Initialization"
      ]
    },
    {
      "metadata": {
        "id": "PRVtl5unrCNG",
        "colab_type": "code",
        "colab": {}
      },
      "cell_type": "code",
      "source": [
        "class MyInit(init.Initializer):\n",
        "  def _init_weight(self, name, data):\n",
        "    print('Init', name, data.shape)\n",
        "    data[:] = nd.random.uniform(low=-10, high=10, shape=data.shape)\n",
        "    data *= data.abs() >= 5"
      ],
      "execution_count": 0,
      "outputs": []
    },
    {
      "metadata": {
        "id": "Tv1Gg30Er1nX",
        "colab_type": "code",
        "colab": {
          "base_uri": "https://localhost:8080/",
          "height": 155
        },
        "outputId": "a479b3f3-48d8-4cda-c3be-eab21306b6cc"
      },
      "cell_type": "code",
      "source": [
        "net.initialize(MyInit(), force_reinit=True)\n",
        "net[0].weight.data()[0]"
      ],
      "execution_count": 19,
      "outputs": [
        {
          "output_type": "stream",
          "text": [
            "Init dense0_weight (256, 20)\n",
            "Init dense1_weight (10, 256)\n"
          ],
          "name": "stdout"
        },
        {
          "output_type": "execute_result",
          "data": {
            "text/plain": [
              "\n",
              "[-5.44481    6.536484  -0.         0.         0.         7.7452965\n",
              "  7.739216   7.6021366  0.        -0.        -7.3307705 -0.\n",
              "  9.611603   0.         7.4357147  0.         0.        -0.\n",
              "  8.446959   0.       ]\n",
              "<NDArray 20 @cpu(0)>"
            ]
          },
          "metadata": {
            "tags": []
          },
          "execution_count": 19
        }
      ]
    },
    {
      "metadata": {
        "id": "BPofWmAar8aV",
        "colab_type": "code",
        "colab": {
          "base_uri": "https://localhost:8080/",
          "height": 121
        },
        "outputId": "2bd1c45a-51c9-4b64-ef1e-d3ed4b9e4c1a"
      },
      "cell_type": "code",
      "source": [
        "net[0].weight.data()[:] += 1\n",
        "net[0].weight.data()[0,0] = 42\n",
        "net[0].weight.data()[0]"
      ],
      "execution_count": 20,
      "outputs": [
        {
          "output_type": "execute_result",
          "data": {
            "text/plain": [
              "\n",
              "[42.         7.536484   1.         1.         1.         8.7452965\n",
              "  8.739216   8.602137   1.         1.        -6.3307705  1.\n",
              " 10.611603   1.         8.435715   1.         1.         1.\n",
              "  9.446959   1.       ]\n",
              "<NDArray 20 @cpu(0)>"
            ]
          },
          "metadata": {
            "tags": []
          },
          "execution_count": 20
        }
      ]
    },
    {
      "metadata": {
        "id": "ephdYRVXsMOv",
        "colab_type": "text"
      },
      "cell_type": "markdown",
      "source": [
        "Tied Parameters"
      ]
    },
    {
      "metadata": {
        "id": "BMzPKXJLsJ8M",
        "colab_type": "code",
        "colab": {
          "base_uri": "https://localhost:8080/",
          "height": 155
        },
        "outputId": "48251a60-f7d2-4b9c-988f-7b4e9ae0fbb3"
      },
      "cell_type": "code",
      "source": [
        "net = nn.Sequential()\n",
        "# We need to give the shared layer a name such that we can reference its parameters\n",
        "shared = nn.Dense(8, activation='relu')\n",
        "net.add(nn.Dense(8, activation='relu'),\n",
        "        shared,\n",
        "        nn.Dense(8, activation='relu', params=shared.params),\n",
        "        nn.Dense(10))\n",
        "\n",
        "net.initialize()\n",
        "x = nd.random.uniform(shape=(2, 20))\n",
        "net(x)"
      ],
      "execution_count": 21,
      "outputs": [
        {
          "output_type": "execute_result",
          "data": {
            "text/plain": [
              "\n",
              "[[-3.26720801e-05 -1.50486550e-04 -1.03853330e-04  3.90124587e-05\n",
              "  -6.71521339e-05  1.49683037e-04 -1.34553018e-04  5.02496259e-05\n",
              "   1.36569170e-05  9.94169895e-05]\n",
              " [-6.49217909e-05 -1.80481613e-04 -4.07774714e-05  8.86480120e-05\n",
              "  -3.06234469e-05  1.19763485e-04 -1.26902116e-04  4.91021055e-05\n",
              "  -6.76310265e-06  8.90009178e-05]]\n",
              "<NDArray 2x10 @cpu(0)>"
            ]
          },
          "metadata": {
            "tags": []
          },
          "execution_count": 21
        }
      ]
    },
    {
      "metadata": {
        "id": "0tQi062utBM8",
        "colab_type": "code",
        "colab": {
          "base_uri": "https://localhost:8080/",
          "height": 121
        },
        "outputId": "a40eea77-ae7d-43a5-92d8-0abf28439475"
      },
      "cell_type": "code",
      "source": [
        "# Check whether the parameters are the same\n",
        "print(net[1].weight.data()[0] == net[2].weight.data()[0])\n",
        "net[1].weight.data()[0,0] = 100\n",
        "# Make sure that they're actually the same object rather than just having the\n",
        "# same value\n",
        "print(net[1].weight.data()[0] == net[2].weight.data()[0])"
      ],
      "execution_count": 22,
      "outputs": [
        {
          "output_type": "stream",
          "text": [
            "\n",
            "[1. 1. 1. 1. 1. 1. 1. 1.]\n",
            "<NDArray 8 @cpu(0)>\n",
            "\n",
            "[1. 1. 1. 1. 1. 1. 1. 1.]\n",
            "<NDArray 8 @cpu(0)>\n"
          ],
          "name": "stdout"
        }
      ]
    }
  ]
}