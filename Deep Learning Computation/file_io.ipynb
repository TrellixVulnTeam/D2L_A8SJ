{
  "nbformat": 4,
  "nbformat_minor": 0,
  "metadata": {
    "colab": {
      "name": "file_io.ipynb",
      "version": "0.3.2",
      "provenance": [],
      "collapsed_sections": [],
      "include_colab_link": true
    },
    "kernelspec": {
      "name": "python3",
      "display_name": "Python 3"
    },
    "accelerator": "GPU"
  },
  "cells": [
    {
      "cell_type": "markdown",
      "metadata": {
        "id": "view-in-github",
        "colab_type": "text"
      },
      "source": [
        "<a href=\"https://colab.research.google.com/github/prasanth5reddy/D2L/blob/master/Deep%20Learning%20Computation/file_io.ipynb\" target=\"_parent\"><img src=\"https://colab.research.google.com/assets/colab-badge.svg\" alt=\"Open In Colab\"/></a>"
      ]
    },
    {
      "cell_type": "markdown",
      "metadata": {
        "id": "vZyrYxwFFo-i",
        "colab_type": "text"
      },
      "source": [
        "Installing Libraries"
      ]
    },
    {
      "cell_type": "code",
      "metadata": {
        "id": "MDVS3KerFmyR",
        "colab_type": "code",
        "outputId": "873bb122-9721-4747-e201-c9e0fb6bcecb",
        "colab": {
          "base_uri": "https://localhost:8080/",
          "height": 175
        }
      },
      "source": [
        "!pip install mxnet"
      ],
      "execution_count": 1,
      "outputs": [
        {
          "output_type": "stream",
          "text": [
            "Requirement already satisfied: mxnet in /usr/local/lib/python3.6/dist-packages (1.4.0.post0)\n",
            "Requirement already satisfied: graphviz<0.9.0,>=0.8.1 in /usr/local/lib/python3.6/dist-packages (from mxnet) (0.8.4)\n",
            "Requirement already satisfied: requests>=2.20.0 in /usr/local/lib/python3.6/dist-packages (from mxnet) (2.21.0)\n",
            "Requirement already satisfied: numpy<1.15.0,>=1.8.2 in /usr/local/lib/python3.6/dist-packages (from mxnet) (1.14.6)\n",
            "Requirement already satisfied: idna<2.9,>=2.5 in /usr/local/lib/python3.6/dist-packages (from requests>=2.20.0->mxnet) (2.8)\n",
            "Requirement already satisfied: urllib3<1.25,>=1.21.1 in /usr/local/lib/python3.6/dist-packages (from requests>=2.20.0->mxnet) (1.24.3)\n",
            "Requirement already satisfied: chardet<3.1.0,>=3.0.2 in /usr/local/lib/python3.6/dist-packages (from requests>=2.20.0->mxnet) (3.0.4)\n",
            "Requirement already satisfied: certifi>=2017.4.17 in /usr/local/lib/python3.6/dist-packages (from requests>=2.20.0->mxnet) (2019.3.9)\n"
          ],
          "name": "stdout"
        }
      ]
    },
    {
      "cell_type": "markdown",
      "metadata": {
        "id": "9BvxtXeiFvU9",
        "colab_type": "text"
      },
      "source": [
        "Importing Libraries"
      ]
    },
    {
      "cell_type": "code",
      "metadata": {
        "id": "KGnldoYLF0hX",
        "colab_type": "code",
        "colab": {}
      },
      "source": [
        "from mxnet import nd\n",
        "from mxnet.gluon import nn"
      ],
      "execution_count": 0,
      "outputs": []
    },
    {
      "cell_type": "markdown",
      "metadata": {
        "id": "EAklSRzzCf_x",
        "colab_type": "text"
      },
      "source": [
        "ND Array"
      ]
    },
    {
      "cell_type": "code",
      "metadata": {
        "id": "nIsg0iIeCflj",
        "colab_type": "code",
        "colab": {}
      },
      "source": [
        "x = nd.arange(4)\n",
        "nd.save('x-file', x)"
      ],
      "execution_count": 0,
      "outputs": []
    },
    {
      "cell_type": "code",
      "metadata": {
        "id": "sHsyeizTCxtP",
        "colab_type": "code",
        "colab": {
          "base_uri": "https://localhost:8080/",
          "height": 69
        },
        "outputId": "320aae4d-054b-41a1-f65a-86a8bbe0cd03"
      },
      "source": [
        "x2 = nd.load('x-file')\n",
        "x2"
      ],
      "execution_count": 4,
      "outputs": [
        {
          "output_type": "execute_result",
          "data": {
            "text/plain": [
              "[\n",
              " [0. 1. 2. 3.]\n",
              " <NDArray 4 @cpu(0)>]"
            ]
          },
          "metadata": {
            "tags": []
          },
          "execution_count": 4
        }
      ]
    },
    {
      "cell_type": "code",
      "metadata": {
        "id": "naIBN0cTC7-n",
        "colab_type": "code",
        "colab": {
          "base_uri": "https://localhost:8080/",
          "height": 104
        },
        "outputId": "bc79cecb-c49f-4283-b978-acd45c6f7713"
      },
      "source": [
        "y = nd.zeros(4)\n",
        "nd.save('x-files', [x, y])\n",
        "x2, y2 = nd.load('x-files')\n",
        "(x2, y2)"
      ],
      "execution_count": 5,
      "outputs": [
        {
          "output_type": "execute_result",
          "data": {
            "text/plain": [
              "(\n",
              " [0. 1. 2. 3.]\n",
              " <NDArray 4 @cpu(0)>, \n",
              " [0. 0. 0. 0.]\n",
              " <NDArray 4 @cpu(0)>)"
            ]
          },
          "metadata": {
            "tags": []
          },
          "execution_count": 5
        }
      ]
    },
    {
      "cell_type": "code",
      "metadata": {
        "id": "LJOP-mGDDAc6",
        "colab_type": "code",
        "colab": {
          "base_uri": "https://localhost:8080/",
          "height": 104
        },
        "outputId": "574d47cb-8ae8-4b2b-b9dd-f13cfb72deac"
      },
      "source": [
        "mydict = {'x': x, 'y': y}\n",
        "nd.save('mydict', mydict)\n",
        "mydict2 = nd.load('mydict')\n",
        "mydict2"
      ],
      "execution_count": 6,
      "outputs": [
        {
          "output_type": "execute_result",
          "data": {
            "text/plain": [
              "{'x': \n",
              " [0. 1. 2. 3.]\n",
              " <NDArray 4 @cpu(0)>, 'y': \n",
              " [0. 0. 0. 0.]\n",
              " <NDArray 4 @cpu(0)>}"
            ]
          },
          "metadata": {
            "tags": []
          },
          "execution_count": 6
        }
      ]
    },
    {
      "cell_type": "markdown",
      "metadata": {
        "id": "X0lvRh3IDJ5K",
        "colab_type": "text"
      },
      "source": [
        "Gluon Model Parameters"
      ]
    },
    {
      "cell_type": "code",
      "metadata": {
        "id": "gXIamEcGDE0U",
        "colab_type": "code",
        "colab": {}
      },
      "source": [
        "class MLP(nn.Block):\n",
        "  def __init__(self, **kwargs):\n",
        "    super(MLP, self).__init__(**kwargs)\n",
        "    self.hidden = nn.Dense(256, activation='relu')\n",
        "    self.output = nn.Dense(10)\n",
        "\n",
        "  def forward(self, x):\n",
        "    return self.output(self.hidden(x))\n",
        "\n",
        "net = MLP()\n",
        "net.initialize()\n",
        "x = nd.random.uniform(shape=(2, 20))\n",
        "y = net(x)"
      ],
      "execution_count": 0,
      "outputs": []
    },
    {
      "cell_type": "code",
      "metadata": {
        "id": "chDSXUcHDgw6",
        "colab_type": "code",
        "colab": {}
      },
      "source": [
        "net.save_parameters('mlp.params')"
      ],
      "execution_count": 0,
      "outputs": []
    },
    {
      "cell_type": "code",
      "metadata": {
        "id": "k7XAKfNFDvR3",
        "colab_type": "code",
        "colab": {}
      },
      "source": [
        "clone = MLP()\n",
        "clone.load_parameters('mlp.params')"
      ],
      "execution_count": 0,
      "outputs": []
    },
    {
      "cell_type": "code",
      "metadata": {
        "id": "otYAZ-06D82J",
        "colab_type": "code",
        "colab": {
          "base_uri": "https://localhost:8080/",
          "height": 86
        },
        "outputId": "a26ae738-58d8-428d-c459-0ee010624cc0"
      },
      "source": [
        "yclone = clone(x)\n",
        "yclone == y"
      ],
      "execution_count": 10,
      "outputs": [
        {
          "output_type": "execute_result",
          "data": {
            "text/plain": [
              "\n",
              "[[1. 1. 1. 1. 1. 1. 1. 1. 1. 1.]\n",
              " [1. 1. 1. 1. 1. 1. 1. 1. 1. 1.]]\n",
              "<NDArray 2x10 @cpu(0)>"
            ]
          },
          "metadata": {
            "tags": []
          },
          "execution_count": 10
        }
      ]
    }
  ]
}