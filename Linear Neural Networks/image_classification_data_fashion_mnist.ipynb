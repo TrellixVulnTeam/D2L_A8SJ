{
  "nbformat": 4,
  "nbformat_minor": 0,
  "metadata": {
    "colab": {
      "name": "image_classification_data_fashion_mnist.ipynb",
      "version": "0.3.2",
      "provenance": [],
      "collapsed_sections": [],
      "include_colab_link": true
    },
    "kernelspec": {
      "name": "python3",
      "display_name": "Python 3"
    },
    "accelerator": "GPU"
  },
  "cells": [
    {
      "cell_type": "markdown",
      "metadata": {
        "id": "view-in-github",
        "colab_type": "text"
      },
      "source": [
        "<a href=\"https://colab.research.google.com/github/prasanth5reddy/D2L/blob/master/Linear%20Neural%20Networks/image_classification_data_fashion_mnist.ipynb\" target=\"_parent\"><img src=\"https://colab.research.google.com/assets/colab-badge.svg\" alt=\"Open In Colab\"/></a>"
      ]
    },
    {
      "metadata": {
        "id": "Zq2eo1Of8UPS",
        "colab_type": "text"
      },
      "cell_type": "markdown",
      "source": [
        "Mounting Drive"
      ]
    },
    {
      "metadata": {
        "id": "aV6HNSgx8Y3K",
        "colab_type": "code",
        "colab": {
          "base_uri": "https://localhost:8080/",
          "height": 34
        },
        "outputId": "197cd044-4055-426a-b0d2-1ffb0c8419fa"
      },
      "cell_type": "code",
      "source": [
        "from google.colab import drive\n",
        "drive.mount('/content/drive')\n",
        "\n",
        "import sys\n",
        "sys.path.append('/content/drive/My Drive/Colab/D2L.AI/')"
      ],
      "execution_count": 1,
      "outputs": [
        {
          "output_type": "stream",
          "text": [
            "Drive already mounted at /content/drive; to attempt to forcibly remount, call drive.mount(\"/content/drive\", force_remount=True).\n"
          ],
          "name": "stdout"
        }
      ]
    },
    {
      "metadata": {
        "id": "0oDIoqhStnZo",
        "colab_type": "text"
      },
      "cell_type": "markdown",
      "source": [
        "Installing Libraries"
      ]
    },
    {
      "metadata": {
        "id": "Xpw8EkvhtgU2",
        "colab_type": "code",
        "colab": {
          "base_uri": "https://localhost:8080/",
          "height": 153
        },
        "outputId": "d8b272c2-87c6-42e5-cdf7-ba3eefe3dc51"
      },
      "cell_type": "code",
      "source": [
        "!pip install mxnet"
      ],
      "execution_count": 2,
      "outputs": [
        {
          "output_type": "stream",
          "text": [
            "Requirement already satisfied: mxnet in /usr/local/lib/python3.6/dist-packages (1.4.0.post0)\n",
            "Requirement already satisfied: graphviz<0.9.0,>=0.8.1 in /usr/local/lib/python3.6/dist-packages (from mxnet) (0.8.4)\n",
            "Requirement already satisfied: requests>=2.20.0 in /usr/local/lib/python3.6/dist-packages (from mxnet) (2.21.0)\n",
            "Requirement already satisfied: numpy<1.15.0,>=1.8.2 in /usr/local/lib/python3.6/dist-packages (from mxnet) (1.14.6)\n",
            "Requirement already satisfied: certifi>=2017.4.17 in /usr/local/lib/python3.6/dist-packages (from requests>=2.20.0->mxnet) (2019.3.9)\n",
            "Requirement already satisfied: idna<2.9,>=2.5 in /usr/local/lib/python3.6/dist-packages (from requests>=2.20.0->mxnet) (2.6)\n",
            "Requirement already satisfied: chardet<3.1.0,>=3.0.2 in /usr/local/lib/python3.6/dist-packages (from requests>=2.20.0->mxnet) (3.0.4)\n",
            "Requirement already satisfied: urllib3<1.25,>=1.21.1 in /usr/local/lib/python3.6/dist-packages (from requests>=2.20.0->mxnet) (1.22)\n"
          ],
          "name": "stdout"
        }
      ]
    },
    {
      "metadata": {
        "id": "Ime1aHtGtrDS",
        "colab_type": "text"
      },
      "cell_type": "markdown",
      "source": [
        "Importing Libraries"
      ]
    },
    {
      "metadata": {
        "id": "wbUFbcjutm7Q",
        "colab_type": "code",
        "colab": {}
      },
      "cell_type": "code",
      "source": [
        "%matplotlib inline\n",
        "import d2l\n",
        "from mxnet.gluon import data as gdata\n",
        "import sys\n",
        "import time"
      ],
      "execution_count": 0,
      "outputs": []
    },
    {
      "metadata": {
        "id": "X4d-J3kT-pgp",
        "colab_type": "text"
      },
      "cell_type": "markdown",
      "source": [
        "Getting the Data"
      ]
    },
    {
      "metadata": {
        "id": "6dCvfOIX9AyJ",
        "colab_type": "code",
        "colab": {}
      },
      "cell_type": "code",
      "source": [
        "mnist_train = gdata.vision.FashionMNIST(train=True)\n",
        "mnist_test = gdata.vision.FashionMNIST(train=False)"
      ],
      "execution_count": 0,
      "outputs": []
    },
    {
      "metadata": {
        "id": "muSOhtdq-su9",
        "colab_type": "code",
        "colab": {
          "base_uri": "https://localhost:8080/",
          "height": 68
        },
        "outputId": "cb899298-258e-4543-b32d-0f7398cd74e7"
      },
      "cell_type": "code",
      "source": [
        "print(len(mnist_train), len(mnist_test))\n",
        "\n",
        "feature, label = mnist_train[0]\n",
        "print(feature.shape, feature.dtype)\n",
        "\n",
        "print(label, type(label), label.dtype)"
      ],
      "execution_count": 5,
      "outputs": [
        {
          "output_type": "stream",
          "text": [
            "60000 10000\n",
            "(28, 28, 1) <class 'numpy.uint8'>\n",
            "2 <class 'numpy.int32'> int32\n"
          ],
          "name": "stdout"
        }
      ]
    },
    {
      "metadata": {
        "id": "_z3H81EP_csG",
        "colab_type": "code",
        "colab": {
          "base_uri": "https://localhost:8080/",
          "height": 34
        },
        "outputId": "61ee9c0f-783b-43d5-9225-fdf900472bf6"
      },
      "cell_type": "code",
      "source": [
        "def get_fashion_mnist_labels(labels):\n",
        "    text_labels = ['t-shirt', 'trouser', 'pullover', 'dress', 'coat',\n",
        "                   'sandal', 'shirt', 'sneaker', 'bag', 'ankle boot']\n",
        "    return [text_labels[int(i)] for i in labels]\n",
        "\n",
        "print(get_fashion_mnist_labels(list(range(10))))"
      ],
      "execution_count": 6,
      "outputs": [
        {
          "output_type": "stream",
          "text": [
            "['t-shirt', 'trouser', 'pullover', 'dress', 'coat', 'sandal', 'shirt', 'sneaker', 'bag', 'ankle boot']\n"
          ],
          "name": "stdout"
        }
      ]
    },
    {
      "metadata": {
        "id": "xDkdwMt4_maN",
        "colab_type": "code",
        "colab": {
          "base_uri": "https://localhost:8080/",
          "height": 144
        },
        "outputId": "2fa0ada8-d3d6-42bc-b2b8-40bde84a6739"
      },
      "cell_type": "code",
      "source": [
        "def show_fashion_mnist(images, labels):\n",
        "    d2l.use_svg_display()\n",
        "    # Here _ means that we ignore (not use) variables\n",
        "    _, figs = d2l.plt.subplots(1, len(images), figsize=(12, 12))\n",
        "    for f, img, lbl in zip(figs, images, labels):\n",
        "        f.imshow(img.reshape((28, 28)).asnumpy())\n",
        "        f.set_title(lbl)\n",
        "        f.axes.get_xaxis().set_visible(False)\n",
        "        f.axes.get_yaxis().set_visible(False)\n",
        "\n",
        "X, y = mnist_train[0:9]\n",
        "show_fashion_mnist(X, get_fashion_mnist_labels(y))"
      ],
      "execution_count": 7,
      "outputs": [
        {
          "output_type": "display_data",
          "data": {
            "text/plain": [
              "<Figure size 864x864 with 9 Axes>"
            ],
            "image/svg+xml": "<?xml version=\"1.0\" encoding=\"utf-8\" standalone=\"no\"?>\n<!DOCTYPE svg PUBLIC \"-//W3C//DTD SVG 1.1//EN\"\n  \"http://www.w3.org/Graphics/SVG/1.1/DTD/svg11.dtd\">\n<!-- Created with matplotlib (https://matplotlib.org/) -->\n<svg height=\"92.266061pt\" version=\"1.1\" viewBox=\"0 0 684 92.266061\" width=\"684pt\" xmlns=\"http://www.w3.org/2000/svg\" xmlns:xlink=\"http://www.w3.org/1999/xlink\">\n <defs>\n  <style type=\"text/css\">\n*{stroke-linecap:butt;stroke-linejoin:round;}\n  </style>\n </defs>\n <g id=\"figure_1\">\n  <g id=\"patch_1\">\n   <path d=\"M 0 92.266061 \nL 684 92.266061 \nL 684 0 \nL 0 0 \nz\n\" style=\"fill:none;\"/>\n  </g>\n  <g id=\"axes_1\">\n   <g id=\"patch_2\">\n    <path d=\"M 7.2 85.066061 \nL 70.369811 85.066061 \nL 70.369811 21.89625 \nL 7.2 21.89625 \nz\n\" style=\"fill:#eaeaf2;\"/>\n   </g>\n   <g clip-path=\"url(#pe2c8359b36)\">\n    <image height=\"64\" id=\"imagefecd82d8af\" transform=\"scale(1 -1)translate(0 -64)\" width=\"64\" x=\"7.2\" xlink:href=\"data:image/png;base64,\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\" y=\"-21.066061\"/>\n   </g>\n   <g id=\"patch_3\">\n    <path d=\"M 7.2 85.066061 \nL 7.2 21.89625 \n\" style=\"fill:none;\"/>\n   </g>\n   <g id=\"patch_4\">\n    <path d=\"M 70.369811 85.066061 \nL 70.369811 21.89625 \n\" style=\"fill:none;\"/>\n   </g>\n   <g id=\"patch_5\">\n    <path d=\"M 7.2 85.066061 \nL 70.369811 85.066061 \n\" style=\"fill:none;\"/>\n   </g>\n   <g id=\"patch_6\">\n    <path d=\"M 7.2 21.89625 \nL 70.369811 21.89625 \n\" style=\"fill:none;\"/>\n   </g>\n   <g id=\"text_1\">\n    <!-- pullover -->\n    <defs>\n     <path d=\"M 51.421875 26.65625 \nQ 51.421875 20.65625 50.4375 15.578125 \nQ 49.46875 10.5 47.1875 6.828125 \nQ 44.921875 3.171875 41.1875 1.09375 \nQ 37.453125 -0.984375 31.984375 -0.984375 \nQ 26.3125 -0.984375 22.0625 1.171875 \nQ 17.828125 3.328125 15.578125 8.203125 \nL 15.328125 8.203125 \nQ 15.375 8.109375 15.40625 7.328125 \nQ 15.4375 6.546875 15.453125 5.375 \nQ 15.484375 4.203125 15.5 2.75 \nQ 15.53125 1.3125 15.53125 -0.09375 \nL 15.53125 -20.75 \nL 6.734375 -20.75 \nL 6.734375 42.046875 \nQ 6.734375 43.953125 6.703125 45.703125 \nQ 6.6875 47.46875 6.640625 48.90625 \nQ 6.59375 50.34375 6.546875 51.359375 \nQ 6.5 52.390625 6.453125 52.828125 \nL 14.9375 52.828125 \nQ 14.984375 52.6875 15.0625 51.796875 \nQ 15.140625 50.921875 15.203125 49.671875 \nQ 15.28125 48.4375 15.359375 47.015625 \nQ 15.4375 45.609375 15.4375 44.34375 \nL 15.625 44.34375 \nQ 16.84375 46.875 18.40625 48.65625 \nQ 19.96875 50.4375 21.96875 51.578125 \nQ 23.96875 52.734375 26.4375 53.25 \nQ 28.90625 53.765625 31.984375 53.765625 \nQ 37.453125 53.765625 41.1875 51.8125 \nQ 44.921875 49.859375 47.1875 46.3125 \nQ 49.46875 42.78125 50.4375 37.765625 \nQ 51.421875 32.765625 51.421875 26.65625 \nz\nM 42.1875 26.46875 \nQ 42.1875 31.34375 41.59375 35.15625 \nQ 41.015625 38.96875 39.578125 41.59375 \nQ 38.140625 44.234375 35.734375 45.59375 \nQ 33.34375 46.96875 29.734375 46.96875 \nQ 26.8125 46.96875 24.21875 46.140625 \nQ 21.625 45.3125 19.703125 42.96875 \nQ 17.78125 40.625 16.65625 36.5 \nQ 15.53125 32.375 15.53125 25.78125 \nQ 15.53125 20.171875 16.453125 16.28125 \nQ 17.390625 12.40625 19.171875 10.015625 \nQ 20.953125 7.625 23.578125 6.5625 \nQ 26.21875 5.515625 29.640625 5.515625 \nQ 33.296875 5.515625 35.71875 6.921875 \nQ 38.140625 8.34375 39.578125 11.03125 \nQ 41.015625 13.71875 41.59375 17.59375 \nQ 42.1875 21.484375 42.1875 26.46875 \nz\n\" id=\"LiberationSans-112\"/>\n     <path d=\"M 15.328125 52.828125 \nL 15.328125 19.34375 \nQ 15.328125 15.484375 15.890625 12.890625 \nQ 16.453125 10.296875 17.71875 8.703125 \nQ 19 7.125 21.0625 6.46875 \nQ 23.140625 5.8125 26.21875 5.8125 \nQ 29.34375 5.8125 31.859375 6.90625 \nQ 34.375 8.015625 36.15625 10.078125 \nQ 37.9375 12.15625 38.90625 15.203125 \nQ 39.890625 18.265625 39.890625 22.21875 \nL 39.890625 52.828125 \nL 48.6875 52.828125 \nL 48.6875 11.28125 \nQ 48.6875 9.625 48.703125 7.78125 \nQ 48.734375 5.953125 48.78125 4.3125 \nQ 48.828125 2.6875 48.875 1.515625 \nQ 48.921875 0.34375 48.96875 0 \nL 40.671875 0 \nQ 40.625 0.25 40.578125 1.3125 \nQ 40.53125 2.390625 40.453125 3.78125 \nQ 40.375 5.171875 40.328125 6.609375 \nQ 40.28125 8.0625 40.28125 9.03125 \nL 40.140625 9.03125 \nQ 38.875 6.734375 37.359375 4.875 \nQ 35.84375 3.03125 33.84375 1.734375 \nQ 31.84375 0.4375 29.25 -0.265625 \nQ 26.65625 -0.984375 23.25 -0.984375 \nQ 18.84375 -0.984375 15.671875 0.09375 \nQ 12.5 1.171875 10.453125 3.421875 \nQ 8.40625 5.671875 7.453125 9.1875 \nQ 6.5 12.703125 6.5 17.625 \nL 6.5 52.828125 \nz\n\" id=\"LiberationSans-117\"/>\n     <path d=\"M 6.734375 0 \nL 6.734375 72.46875 \nL 15.53125 72.46875 \nL 15.53125 0 \nz\n\" id=\"LiberationSans-108\"/>\n     <path d=\"M 51.421875 26.46875 \nQ 51.421875 12.59375 45.3125 5.796875 \nQ 39.203125 -0.984375 27.59375 -0.984375 \nQ 22.078125 -0.984375 17.71875 0.671875 \nQ 13.375 2.34375 10.375 5.765625 \nQ 7.375 9.1875 5.78125 14.328125 \nQ 4.203125 19.484375 4.203125 26.46875 \nQ 4.203125 53.8125 27.875 53.8125 \nQ 34.03125 53.8125 38.5 52.09375 \nQ 42.96875 50.390625 45.828125 46.96875 \nQ 48.6875 43.5625 50.046875 38.421875 \nQ 51.421875 33.296875 51.421875 26.46875 \nz\nM 42.1875 26.46875 \nQ 42.1875 32.625 41.234375 36.625 \nQ 40.28125 40.625 38.453125 43.015625 \nQ 36.625 45.40625 33.984375 46.359375 \nQ 31.34375 47.3125 28.03125 47.3125 \nQ 24.65625 47.3125 21.9375 46.3125 \nQ 19.234375 45.3125 17.328125 42.890625 \nQ 15.4375 40.484375 14.421875 36.46875 \nQ 13.421875 32.46875 13.421875 26.46875 \nQ 13.421875 20.3125 14.5 16.28125 \nQ 15.578125 12.25 17.453125 9.859375 \nQ 19.34375 7.46875 21.90625 6.484375 \nQ 24.46875 5.515625 27.484375 5.515625 \nQ 30.859375 5.515625 33.59375 6.46875 \nQ 36.328125 7.421875 38.234375 9.8125 \nQ 40.140625 12.203125 41.15625 16.25 \nQ 42.1875 20.3125 42.1875 26.46875 \nz\n\" id=\"LiberationSans-111\"/>\n     <path d=\"M 29.9375 0 \nL 19.53125 0 \nL 0.34375 52.828125 \nL 9.71875 52.828125 \nL 21.34375 18.453125 \nQ 21.6875 17.390625 22.140625 15.84375 \nQ 22.609375 14.3125 23.09375 12.640625 \nQ 23.578125 10.984375 24 9.4375 \nQ 24.421875 7.90625 24.703125 6.890625 \nQ 25 7.90625 25.453125 9.4375 \nQ 25.921875 10.984375 26.40625 12.59375 \nQ 26.90625 14.203125 27.421875 15.734375 \nQ 27.9375 17.28125 28.328125 18.359375 \nL 40.328125 52.828125 \nL 49.65625 52.828125 \nz\n\" id=\"LiberationSans-118\"/>\n     <path d=\"M 13.484375 24.5625 \nQ 13.484375 20.40625 14.328125 16.90625 \nQ 15.1875 13.421875 16.96875 10.90625 \nQ 18.75 8.40625 21.53125 7 \nQ 24.3125 5.609375 28.21875 5.609375 \nQ 33.9375 5.609375 37.375 7.90625 \nQ 40.828125 10.203125 42.046875 13.71875 \nL 49.75 11.53125 \nQ 48.921875 9.328125 47.4375 7.109375 \nQ 45.953125 4.890625 43.453125 3.09375 \nQ 40.96875 1.3125 37.234375 0.15625 \nQ 33.5 -0.984375 28.21875 -0.984375 \nQ 16.5 -0.984375 10.375 6 \nQ 4.25 12.984375 4.25 26.765625 \nQ 4.25 34.1875 6.09375 39.328125 \nQ 7.953125 44.484375 11.171875 47.703125 \nQ 14.40625 50.921875 18.703125 52.359375 \nQ 23 53.8125 27.875 53.8125 \nQ 34.515625 53.8125 38.984375 51.65625 \nQ 43.453125 49.515625 46.15625 45.71875 \nQ 48.875 41.9375 50.015625 36.8125 \nQ 51.171875 31.6875 51.171875 25.734375 \nL 51.171875 24.5625 \nz\nM 42.09375 31.296875 \nQ 41.359375 39.65625 37.84375 43.484375 \nQ 34.328125 47.3125 27.734375 47.3125 \nQ 25.53125 47.3125 23.109375 46.609375 \nQ 20.703125 45.90625 18.65625 44.09375 \nQ 16.609375 42.28125 15.1875 39.171875 \nQ 13.765625 36.078125 13.578125 31.296875 \nz\n\" id=\"LiberationSans-101\"/>\n     <path d=\"M 6.9375 0 \nL 6.9375 40.53125 \nQ 6.9375 42.1875 6.90625 43.921875 \nQ 6.890625 45.65625 6.828125 47.265625 \nQ 6.78125 48.875 6.734375 50.28125 \nQ 6.6875 51.703125 6.640625 52.828125 \nL 14.9375 52.828125 \nQ 14.984375 51.703125 15.0625 50.265625 \nQ 15.140625 48.828125 15.203125 47.3125 \nQ 15.28125 45.796875 15.296875 44.40625 \nQ 15.328125 43.015625 15.328125 42.046875 \nL 15.53125 42.046875 \nQ 16.453125 45.0625 17.5 47.28125 \nQ 18.5625 49.515625 19.96875 50.953125 \nQ 21.390625 52.390625 23.34375 53.09375 \nQ 25.296875 53.8125 28.078125 53.8125 \nQ 29.15625 53.8125 30.125 53.640625 \nQ 31.109375 53.46875 31.640625 53.328125 \nL 31.640625 45.265625 \nQ 30.765625 45.515625 29.59375 45.625 \nQ 28.421875 45.75 26.953125 45.75 \nQ 23.921875 45.75 21.796875 44.375 \nQ 19.671875 43.015625 18.328125 40.59375 \nQ 17 38.1875 16.359375 34.84375 \nQ 15.71875 31.5 15.71875 27.546875 \nL 15.71875 0 \nz\n\" id=\"LiberationSans-114\"/>\n    </defs>\n    <g style=\"fill:#262626;\" transform=\"translate(17.774593 15.89625)scale(0.12 -0.12)\">\n     <use xlink:href=\"#LiberationSans-112\"/>\n     <use x=\"55.615234\" xlink:href=\"#LiberationSans-117\"/>\n     <use x=\"111.230469\" xlink:href=\"#LiberationSans-108\"/>\n     <use x=\"133.447266\" xlink:href=\"#LiberationSans-108\"/>\n     <use x=\"155.664062\" xlink:href=\"#LiberationSans-111\"/>\n     <use x=\"211.279297\" xlink:href=\"#LiberationSans-118\"/>\n     <use x=\"261.279297\" xlink:href=\"#LiberationSans-101\"/>\n     <use x=\"316.894531\" xlink:href=\"#LiberationSans-114\"/>\n    </g>\n   </g>\n  </g>\n  <g id=\"axes_2\">\n   <g id=\"patch_7\">\n    <path d=\"M 83.003774 85.066061 \nL 146.173585 85.066061 \nL 146.173585 21.89625 \nL 83.003774 21.89625 \nz\n\" style=\"fill:#eaeaf2;\"/>\n   </g>\n   <g clip-path=\"url(#pfe9057947d)\">\n    <image height=\"64\" id=\"image243eb5c1bf\" transform=\"scale(1 -1)translate(0 -64)\" width=\"64\" x=\"83.003774\" xlink:href=\"data:image/png;base64,\niVBORw0KGgoAAAANSUhEUgAAAEAAAABACAYAAACqaXHeAAAABHNCSVQICAgIfAhkiAAABWBJREFUeJztm0tIVV0Yhp9TWmlaVt61i2WDvIAiJDURwVmUkIOIkqK5kyaNG0sTR44icKKCSCIiKChiQWaIBF4ikhKhssJE1G7nNOh/11r7eDoY/5/7h73fiZu1vrPW57fe9d32OZFYLBYjwNjltwJ+IzSA3wr4jdAAfivgN0ID+K2A3wi8AVL0EI1GzeCuXTtvlx8/fvx2bvfu3X9t38AzIJIsFRYrlpaWAJiamjJzPT09nrH379+bubS0NAAKCwsBSE9PB+DChQtG5tKlSwCcPHly28pubm6a5xs3bnjG9u/fb+b0L2nfr1+/AnD27Fkj09LSAoQMCA1grsDTp0/N4N27dwH4/v07AB8/fgQgJcX4TIqKigA4cOAAAHv37jVzGxsbAHz79g2A9fV1AFZWVrYoIIdbX19vxq5evQpASUmJR2Z2dtbIXLlyBYCKigqPrmCpn5mZCcCePXsAWFxcNDIdHR2/1t6iUcAQuXPnTgygs7PTDJaVlQFQXFwMwOnTpwE4dOiQkdGpyOHotMGGtC9fvgD2dOSMAD5//gzAhw8fAC87xsbGPPJNTU2ePd21xUp37X379gFw4sQJj47T09NGpre399eaBBwpusuVlZVmsLq6GoDDhw8D1vLLy8tGRicny7v+QXcwEokA9gTcE5T8wYMHAXtaAOXl5QCsra0BNtS69/zMmTOetbWXK6fQfOTIEcDLUqMTAUfgDZAiusspgHVQnz59AqxTU4YHlrqCQh1YB6XQKHq6FFRoys3NBby1iPYVdZU1uo5ydXUVsHR3P6/rpRCtPVxHqc+FDFAuPjIyYgazs7MBe3KpqakAzM/PGxlZ8NixY4ANlWDDkBIis5njKMUgOTi3zogPm9rDzeXlNMUq93Slrxgk2e7ubiMjxoYMUMWmewv2PqkO119X5sWLFwC0t7cDMDAwYOaOHz8O2NCqE3VDlfZ48uQJYH0C2JNTqNLdVwUKNgU+d+6cZz2At2/fAtaXaG2XgaEP+AdJ+wF/AvUMAO7duwfA0NAQAOfPnwdsfwCgtLQUgP7+fsDrg8QcJUKKPq6q7969A2x63tzcbObUI3j9+jVg2SFmAHR1dQEhA0IDRKLRaAy89HKdlTvnjifK7+Oh+v3atWuAN1TW1NQAtuZ3q9HJyUkATp06BXidryDqyxlXVVWZuVu3bgHw6tUrAN68eQPYGgdsPyHwDEjRqcafuotEc/FjbhgSVLE9fvwY8HZ94pnT2NhonlVNjo+PA5Cfnw/YBAtsNapE7tmzZ2ZOiY/Y9fLlS8CyzkXIgGSTuueJ7nsivyBITmmqTm54eNjIiB3qObhpc0NDA2AToocPHwJw9OhRI6NCJyMjA7A9SrB3Xim91qmrq9uq65aRgCHwBkh6BZI5yPixRNdDVZngvr1RG762thawjU+AhYUFwDZn5WAHBweNTE5ODmBb3aI92LCp61FQUADYvoBH7y0jAUNSBvwJEiVSyRxlXl4eAKOjo4B1fAAXL14ELIOU5Dx//tzIzMzMAPYd3+3bt82ckiN1jdra2gBvU1WVYeAZ8J9Vg8mQiAm61/Idbkfo8uXLAFy/fh2wr7jctnxra+u295+bmwO8YVT+KGTATjLAs3ESP/HgwQPA9hPUE3z06JGR6evrAyArKwtI/A2T7XyzJPAMCLwB/koY/B0S9RMShcibN28C9m2uWltuze82USFxXyK+QnX30nPgGeBbGNwOlNIqMbp//76Z03cX/i1CBuzkL0aShcNkmJiYAOzLELBdo2T9yu2sHXgGBN4AO3oF/o8IPANCA/itgN8IDeC3An4jNIDfCviN0AB+K+A3Am+An2+uPRVktZvPAAAAAElFTkSuQmCC\" y=\"-21.066061\"/>\n   </g>\n   <g id=\"patch_8\">\n    <path d=\"M 83.003774 85.066061 \nL 83.003774 21.89625 \n\" style=\"fill:none;\"/>\n   </g>\n   <g id=\"patch_9\">\n    <path d=\"M 146.173585 85.066061 \nL 146.173585 21.89625 \n\" style=\"fill:none;\"/>\n   </g>\n   <g id=\"patch_10\">\n    <path d=\"M 83.003774 85.066061 \nL 146.173585 85.066061 \n\" style=\"fill:none;\"/>\n   </g>\n   <g id=\"patch_11\">\n    <path d=\"M 83.003774 21.89625 \nL 146.173585 21.89625 \n\" style=\"fill:none;\"/>\n   </g>\n   <g id=\"text_2\">\n    <!-- ankle boot -->\n    <defs>\n     <path d=\"M 20.21875 -0.984375 \nQ 12.25 -0.984375 8.25 3.21875 \nQ 4.25 7.421875 4.25 14.75 \nQ 4.25 19.96875 6.21875 23.3125 \nQ 8.203125 26.65625 11.390625 28.5625 \nQ 14.59375 30.46875 18.6875 31.203125 \nQ 22.796875 31.9375 27.046875 32.03125 \nL 38.921875 32.234375 \nL 38.921875 35.109375 \nQ 38.921875 38.375 38.234375 40.671875 \nQ 37.546875 42.96875 36.125 44.375 \nQ 34.71875 45.796875 32.59375 46.453125 \nQ 30.46875 47.125 27.59375 47.125 \nQ 25.046875 47.125 23 46.75 \nQ 20.953125 46.390625 19.4375 45.4375 \nQ 17.921875 44.484375 16.984375 42.84375 \nQ 16.0625 41.21875 15.765625 38.71875 \nL 6.59375 39.546875 \nQ 7.078125 42.671875 8.4375 45.28125 \nQ 9.8125 47.90625 12.328125 49.796875 \nQ 14.84375 51.703125 18.625 52.75 \nQ 22.40625 53.8125 27.78125 53.8125 \nQ 37.75 53.8125 42.765625 49.234375 \nQ 47.796875 44.671875 47.796875 36.03125 \nL 47.796875 13.28125 \nQ 47.796875 9.375 48.828125 7.390625 \nQ 49.859375 5.421875 52.734375 5.421875 \nQ 53.46875 5.421875 54.203125 5.515625 \nQ 54.9375 5.609375 55.609375 5.765625 \nL 55.609375 0.296875 \nQ 53.953125 -0.09375 52.3125 -0.28125 \nQ 50.6875 -0.484375 48.828125 -0.484375 \nQ 46.34375 -0.484375 44.5625 0.171875 \nQ 42.78125 0.828125 41.65625 2.171875 \nQ 40.53125 3.515625 39.9375 5.484375 \nQ 39.359375 7.46875 39.203125 10.109375 \nL 38.921875 10.109375 \nQ 37.5 7.5625 35.8125 5.515625 \nQ 34.125 3.46875 31.875 2.03125 \nQ 29.640625 0.59375 26.78125 -0.1875 \nQ 23.921875 -0.984375 20.21875 -0.984375 \nz\nM 22.21875 5.609375 \nQ 26.421875 5.609375 29.5625 7.140625 \nQ 32.71875 8.6875 34.78125 11.078125 \nQ 36.859375 13.484375 37.890625 16.3125 \nQ 38.921875 19.140625 38.921875 21.734375 \nL 38.921875 26.078125 \nL 29.296875 25.875 \nQ 26.078125 25.828125 23.171875 25.40625 \nQ 20.265625 25 18.0625 23.78125 \nQ 15.875 22.5625 14.578125 20.359375 \nQ 13.28125 18.171875 13.28125 14.59375 \nQ 13.28125 10.296875 15.59375 7.953125 \nQ 17.921875 5.609375 22.21875 5.609375 \nz\n\" id=\"LiberationSans-97\"/>\n     <path d=\"M 40.28125 0 \nL 40.28125 33.5 \nQ 40.28125 37.359375 39.71875 39.9375 \nQ 39.15625 42.53125 37.890625 44.109375 \nQ 36.625 45.703125 34.546875 46.359375 \nQ 32.46875 47.015625 29.390625 47.015625 \nQ 26.265625 47.015625 23.75 45.921875 \nQ 21.234375 44.828125 19.453125 42.75 \nQ 17.671875 40.671875 16.6875 37.625 \nQ 15.71875 34.578125 15.71875 30.609375 \nL 15.71875 0 \nL 6.9375 0 \nL 6.9375 41.546875 \nQ 6.9375 43.21875 6.90625 45.046875 \nQ 6.890625 46.875 6.828125 48.5 \nQ 6.78125 50.140625 6.734375 51.3125 \nQ 6.6875 52.484375 6.640625 52.828125 \nL 14.9375 52.828125 \nQ 14.984375 52.59375 15.03125 51.515625 \nQ 15.09375 50.4375 15.15625 49.046875 \nQ 15.234375 47.65625 15.28125 46.21875 \nQ 15.328125 44.78125 15.328125 43.796875 \nL 15.484375 43.796875 \nQ 16.75 46.09375 18.265625 47.953125 \nQ 19.78125 49.8125 21.78125 51.09375 \nQ 23.78125 52.390625 26.359375 53.09375 \nQ 28.953125 53.8125 32.375 53.8125 \nQ 36.765625 53.8125 39.9375 52.734375 \nQ 43.109375 51.65625 45.15625 49.40625 \nQ 47.21875 47.171875 48.171875 43.625 \nQ 49.125 40.09375 49.125 35.203125 \nL 49.125 0 \nz\n\" id=\"LiberationSans-110\"/>\n     <path d=\"M 39.84375 0 \nL 21.96875 24.125 \nL 15.53125 18.796875 \nL 15.53125 0 \nL 6.734375 0 \nL 6.734375 72.46875 \nL 15.53125 72.46875 \nL 15.53125 27.203125 \nL 38.71875 52.828125 \nL 49.03125 52.828125 \nL 27.59375 30.125 \nL 50.140625 0 \nz\n\" id=\"LiberationSans-107\"/>\n     <path id=\"LiberationSans-32\"/>\n     <path d=\"M 51.421875 26.65625 \nQ 51.421875 -0.984375 31.984375 -0.984375 \nQ 25.984375 -0.984375 22 1.1875 \nQ 18.015625 3.375 15.53125 8.203125 \nL 15.4375 8.203125 \nQ 15.4375 6.9375 15.359375 5.5625 \nQ 15.28125 4.203125 15.203125 3.03125 \nQ 15.140625 1.859375 15.0625 1.03125 \nQ 14.984375 0.203125 14.9375 0 \nL 6.453125 0 \nQ 6.5 0.4375 6.546875 1.484375 \nQ 6.59375 2.546875 6.640625 4 \nQ 6.6875 5.46875 6.703125 7.21875 \nQ 6.734375 8.984375 6.734375 10.890625 \nL 6.734375 72.46875 \nL 15.53125 72.46875 \nL 15.53125 51.8125 \nQ 15.53125 50.34375 15.5 49 \nQ 15.484375 47.65625 15.4375 46.625 \nQ 15.375 45.40625 15.328125 44.34375 \nL 15.53125 44.34375 \nQ 17.96875 49.421875 22 51.609375 \nQ 26.03125 53.8125 31.984375 53.8125 \nQ 42 53.8125 46.703125 47.0625 \nQ 51.421875 40.328125 51.421875 26.65625 \nz\nM 42.1875 26.375 \nQ 42.1875 31.84375 41.5 35.75 \nQ 40.828125 39.65625 39.3125 42.15625 \nQ 37.796875 44.671875 35.453125 45.84375 \nQ 33.109375 47.015625 29.734375 47.015625 \nQ 26.265625 47.015625 23.609375 45.890625 \nQ 20.953125 44.78125 19.171875 42.28125 \nQ 17.390625 39.796875 16.453125 35.734375 \nQ 15.53125 31.6875 15.53125 25.828125 \nQ 15.53125 20.171875 16.453125 16.3125 \nQ 17.390625 12.453125 19.171875 10.03125 \nQ 20.953125 7.625 23.578125 6.5625 \nQ 26.21875 5.515625 29.640625 5.515625 \nQ 32.859375 5.515625 35.203125 6.640625 \nQ 37.546875 7.765625 39.109375 10.25 \nQ 40.671875 12.75 41.421875 16.71875 \nQ 42.1875 20.703125 42.1875 26.375 \nz\n\" id=\"LiberationSans-98\"/>\n     <path d=\"M 27.046875 0.390625 \nQ 25.046875 -0.140625 22.96875 -0.453125 \nQ 20.90625 -0.78125 18.171875 -0.78125 \nQ 7.625 -0.78125 7.625 11.1875 \nL 7.625 46.4375 \nL 1.515625 46.4375 \nL 1.515625 52.828125 \nL 7.953125 52.828125 \nL 10.546875 64.65625 \nL 16.40625 64.65625 \nL 16.40625 52.828125 \nL 26.171875 52.828125 \nL 26.171875 46.4375 \nL 16.40625 46.4375 \nL 16.40625 13.09375 \nQ 16.40625 9.28125 17.640625 7.734375 \nQ 18.890625 6.203125 21.96875 6.203125 \nQ 23.25 6.203125 24.4375 6.390625 \nQ 25.640625 6.59375 27.046875 6.890625 \nz\n\" id=\"LiberationSans-116\"/>\n    </defs>\n    <g style=\"fill:#262626;\" transform=\"translate(86.902429 15.89625)scale(0.12 -0.12)\">\n     <use xlink:href=\"#LiberationSans-97\"/>\n     <use x=\"55.615234\" xlink:href=\"#LiberationSans-110\"/>\n     <use x=\"111.230469\" xlink:href=\"#LiberationSans-107\"/>\n     <use x=\"161.230469\" xlink:href=\"#LiberationSans-108\"/>\n     <use x=\"183.447266\" xlink:href=\"#LiberationSans-101\"/>\n     <use x=\"239.0625\" xlink:href=\"#LiberationSans-32\"/>\n     <use x=\"266.845703\" xlink:href=\"#LiberationSans-98\"/>\n     <use x=\"322.460938\" xlink:href=\"#LiberationSans-111\"/>\n     <use x=\"378.076172\" xlink:href=\"#LiberationSans-111\"/>\n     <use x=\"433.691406\" xlink:href=\"#LiberationSans-116\"/>\n    </g>\n   </g>\n  </g>\n  <g id=\"axes_3\">\n   <g id=\"patch_12\">\n    <path d=\"M 158.807547 85.066061 \nL 221.977358 85.066061 \nL 221.977358 21.89625 \nL 158.807547 21.89625 \nz\n\" style=\"fill:#eaeaf2;\"/>\n   </g>\n   <g clip-path=\"url(#pd326d22ce2)\">\n    <image height=\"64\" id=\"image384bcc4acb\" transform=\"scale(1 -1)translate(0 -64)\" width=\"64\" x=\"158.807547\" xlink:href=\"data:image/png;base64,\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\" y=\"-21.066061\"/>\n   </g>\n   <g id=\"patch_13\">\n    <path d=\"M 158.807547 85.066061 \nL 158.807547 21.89625 \n\" style=\"fill:none;\"/>\n   </g>\n   <g id=\"patch_14\">\n    <path d=\"M 221.977358 85.066061 \nL 221.977358 21.89625 \n\" style=\"fill:none;\"/>\n   </g>\n   <g id=\"patch_15\">\n    <path d=\"M 158.807547 85.066061 \nL 221.977358 85.066061 \n\" style=\"fill:none;\"/>\n   </g>\n   <g id=\"patch_16\">\n    <path d=\"M 158.807547 21.89625 \nL 221.977358 21.89625 \n\" style=\"fill:none;\"/>\n   </g>\n   <g id=\"text_3\">\n    <!-- shirt -->\n    <defs>\n     <path d=\"M 46.390625 14.59375 \nQ 46.390625 10.890625 44.9375 7.984375 \nQ 43.5 5.078125 40.765625 3.09375 \nQ 38.03125 1.125 34.046875 0.0625 \nQ 30.078125 -0.984375 24.953125 -0.984375 \nQ 20.359375 -0.984375 16.671875 -0.265625 \nQ 12.984375 0.4375 10.203125 2 \nQ 7.421875 3.5625 5.53125 6.125 \nQ 3.65625 8.6875 2.78125 12.40625 \nL 10.546875 13.921875 \nQ 11.671875 9.671875 15.1875 7.6875 \nQ 18.703125 5.71875 24.953125 5.71875 \nQ 27.78125 5.71875 30.140625 6.109375 \nQ 32.515625 6.5 34.21875 7.453125 \nQ 35.9375 8.40625 36.890625 9.984375 \nQ 37.84375 11.578125 37.84375 13.921875 \nQ 37.84375 16.3125 36.71875 17.84375 \nQ 35.59375 19.390625 33.59375 20.40625 \nQ 31.59375 21.4375 28.734375 22.1875 \nQ 25.875 22.953125 22.46875 23.875 \nQ 19.28125 24.703125 16.15625 25.734375 \nQ 13.03125 26.765625 10.515625 28.4375 \nQ 8.015625 30.125 6.453125 32.609375 \nQ 4.890625 35.109375 4.890625 38.875 \nQ 4.890625 46.09375 10.03125 49.875 \nQ 15.1875 53.65625 25.046875 53.65625 \nQ 33.796875 53.65625 38.9375 50.578125 \nQ 44.09375 47.515625 45.453125 40.71875 \nL 37.546875 39.75 \nQ 37.109375 41.796875 35.9375 43.1875 \nQ 34.765625 44.578125 33.109375 45.4375 \nQ 31.453125 46.296875 29.375 46.65625 \nQ 27.296875 47.015625 25.046875 47.015625 \nQ 19.09375 47.015625 16.25 45.203125 \nQ 13.421875 43.40625 13.421875 39.75 \nQ 13.421875 37.59375 14.46875 36.203125 \nQ 15.53125 34.8125 17.40625 33.859375 \nQ 19.28125 32.90625 21.921875 32.203125 \nQ 24.5625 31.5 27.734375 30.71875 \nQ 29.828125 30.171875 32.03125 29.5625 \nQ 34.234375 28.953125 36.296875 28.09375 \nQ 38.375 27.25 40.203125 26.09375 \nQ 42.046875 24.953125 43.40625 23.34375 \nQ 44.78125 21.734375 45.578125 19.578125 \nQ 46.390625 17.4375 46.390625 14.59375 \nz\n\" id=\"LiberationSans-115\"/>\n     <path d=\"M 15.484375 43.796875 \nQ 16.9375 46.484375 18.640625 48.359375 \nQ 20.359375 50.25 22.40625 51.46875 \nQ 24.46875 52.6875 26.90625 53.25 \nQ 29.34375 53.8125 32.375 53.8125 \nQ 37.453125 53.8125 40.703125 52.4375 \nQ 43.953125 51.078125 45.828125 48.609375 \nQ 47.703125 46.140625 48.40625 42.71875 \nQ 49.125 39.3125 49.125 35.203125 \nL 49.125 0 \nL 40.28125 0 \nL 40.28125 33.5 \nQ 40.28125 36.859375 39.859375 39.390625 \nQ 39.453125 41.9375 38.28125 43.625 \nQ 37.109375 45.3125 34.953125 46.15625 \nQ 32.8125 47.015625 29.390625 47.015625 \nQ 26.265625 47.015625 23.75 45.890625 \nQ 21.234375 44.78125 19.453125 42.71875 \nQ 17.671875 40.671875 16.6875 37.734375 \nQ 15.71875 34.8125 15.71875 31.15625 \nL 15.71875 0 \nL 6.9375 0 \nL 6.9375 72.46875 \nL 15.71875 72.46875 \nL 15.71875 53.609375 \nQ 15.71875 52 15.671875 50.390625 \nQ 15.625 48.78125 15.546875 47.40625 \nQ 15.484375 46.046875 15.421875 45.09375 \nQ 15.375 44.140625 15.328125 43.796875 \nz\n\" id=\"LiberationSans-104\"/>\n     <path d=\"M 6.6875 64.0625 \nL 6.6875 72.46875 \nL 15.484375 72.46875 \nL 15.484375 64.0625 \nz\nM 6.6875 0 \nL 6.6875 52.828125 \nL 15.484375 52.828125 \nL 15.484375 0 \nz\n\" id=\"LiberationSans-105\"/>\n    </defs>\n    <g style=\"fill:#262626;\" transform=\"translate(179.058078 15.89625)scale(0.12 -0.12)\">\n     <use xlink:href=\"#LiberationSans-115\"/>\n     <use x=\"50\" xlink:href=\"#LiberationSans-104\"/>\n     <use x=\"105.615234\" xlink:href=\"#LiberationSans-105\"/>\n     <use x=\"127.832031\" xlink:href=\"#LiberationSans-114\"/>\n     <use x=\"161.132812\" xlink:href=\"#LiberationSans-116\"/>\n    </g>\n   </g>\n  </g>\n  <g id=\"axes_4\">\n   <g id=\"patch_17\">\n    <path d=\"M 234.611321 85.066061 \nL 297.781132 85.066061 \nL 297.781132 21.89625 \nL 234.611321 21.89625 \nz\n\" style=\"fill:#eaeaf2;\"/>\n   </g>\n   <g clip-path=\"url(#p8efe5d2696)\">\n    <image height=\"64\" id=\"image621a805b8d\" transform=\"scale(1 -1)translate(0 -64)\" width=\"64\" x=\"234.611321\" xlink:href=\"data:image/png;base64,\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\" y=\"-21.066061\"/>\n   </g>\n   <g id=\"patch_18\">\n    <path d=\"M 234.611321 85.066061 \nL 234.611321 21.89625 \n\" style=\"fill:none;\"/>\n   </g>\n   <g id=\"patch_19\">\n    <path d=\"M 297.781132 85.066061 \nL 297.781132 21.89625 \n\" style=\"fill:none;\"/>\n   </g>\n   <g id=\"patch_20\">\n    <path d=\"M 234.611321 85.066061 \nL 297.781132 85.066061 \n\" style=\"fill:none;\"/>\n   </g>\n   <g id=\"patch_21\">\n    <path d=\"M 234.611321 21.89625 \nL 297.781132 21.89625 \n\" style=\"fill:none;\"/>\n   </g>\n   <g id=\"text_4\">\n    <!-- t-shirt -->\n    <defs>\n     <path d=\"M 4.4375 22.65625 \nL 4.4375 30.46875 \nL 28.859375 30.46875 \nL 28.859375 22.65625 \nz\n\" id=\"LiberationSans-45\"/>\n    </defs>\n    <g style=\"fill:#262626;\" transform=\"translate(251.197164 15.89625)scale(0.12 -0.12)\">\n     <use xlink:href=\"#LiberationSans-116\"/>\n     <use x=\"27.783203\" xlink:href=\"#LiberationSans-45\"/>\n     <use x=\"61.083984\" xlink:href=\"#LiberationSans-115\"/>\n     <use x=\"111.083984\" xlink:href=\"#LiberationSans-104\"/>\n     <use x=\"166.699219\" xlink:href=\"#LiberationSans-105\"/>\n     <use x=\"188.916016\" xlink:href=\"#LiberationSans-114\"/>\n     <use x=\"222.216797\" xlink:href=\"#LiberationSans-116\"/>\n    </g>\n   </g>\n  </g>\n  <g id=\"axes_5\">\n   <g id=\"patch_22\">\n    <path d=\"M 310.415094 85.066061 \nL 373.584906 85.066061 \nL 373.584906 21.89625 \nL 310.415094 21.89625 \nz\n\" style=\"fill:#eaeaf2;\"/>\n   </g>\n   <g clip-path=\"url(#peb633644f3)\">\n    <image height=\"64\" id=\"imaged0bb15041c\" transform=\"scale(1 -1)translate(0 -64)\" width=\"64\" x=\"310.415094\" xlink:href=\"data:image/png;base64,\niVBORw0KGgoAAAANSUhEUgAAAEAAAABACAYAAACqaXHeAAAABHNCSVQICAgIfAhkiAAABQBJREFUeJztm7kvbk8Yxz+ufV9u7LsgQYOCQiFB4Y+gIRGNhkYi0UkkWq1CQyHR+AsICZGQXGIpiD1IbCH25Ve4z8y8i+We876/RM75Nu9xZuY5c2a+z3pGyNvb2xsBxtraGgDLy8sAhIWFAXBwcKD63NzcABAaGgpAVlaWasvIyACguLgYgNLS0kBPUeFX0CT/EIRYZcDr6ysAv375rmF1dTUAJycngGbA8fGx6hMeHg7Ay8sLAE9PT6pN2HB3dwdATEwMALu7uz7PkumHhIRYeQ2XAY5fgLBACRKVMJGTkwNomqempqo2uSdGUH5Bq8P9/b2HnGDAZUAwhD4/PwOaFfIruw7aeD48PPiMFzZI/+vr62BM830eQZP8Q2CZAd5ux3SHkZGRgKdr+64c8GVAVFSU1Wl+CZcBwRAqei2skF/TBnwGsRnChPX19UBPUcHxDHD8AgRFBYTy3u7PX97gDxLfiwq4bjCIsMwA7yxsf39ftV1dXQGQlJQEaHdohrsfyTMhssvKyqxO80u4DAiUoLm5OXXtveP+EqXPyhDe/aUuYAZWUk+wC8czwPELEDAV8JfVeUd034WME5rf3t4CupAKkJycDLglMduw7QYFeXl56voj4/fd+qsETNJf5JgBkTcDrMJlgNWB3npdUlKiriUoSkxMBHx38it42wAph5sfTz6ax7/CZYDVgRKUyC6lpKSoNrHI383/zTGgGSNWPzs7+32yYYHP3RzPAMcvgGVONTU1ATAzMwNAf3+/aqupqQFgZ2cH0OphGkGhvL8AJjY2FoDNzU0A2traAP21GOD8/ByAuro6AKampiy9h8sAqwOrqqoAmJ2dBSAzM1O1dXV1AdDa2groIOny8lL1+Y77khC4u7sb0OcNAE5PTwGora219gJ/4TLA6sD8/HxA6/DR0ZFq6+zsBKClpQWAx8fH94d94sbM/F5kic7Ls8yag9iV+vp6q68AuAxwF8CyChQVFXn8vbi46Cv8L+XPzs4AiIuLU23e7s9UATFwfX19Hn1MNxoREQH4zw/+BS4DrA6Uo2yyc9PT0z590tLSAF0tio+PV22fZYaSC8gzBNHR0T7XLgNswjIDRJ8TEhIArbcmpGpzeHj4oRx/p0fEPiwtLQH6oKRZ/RE2maywApcBVgfKzoulN3fi4uIC0KGsv7BXdt5ftci7EjQ/Pw94flw1T5zZgeMZ4PgFCJgblINRABMTE4D+SiwGUw4+go7l5UidqAtogyhFVQmkTFUKVHnMZYDVgbLz8j8AchYAYHBwENCG0t+xOWGQMGBra0u1SW1hdXUVgI2NDUCfGgeoqKiwOnUPuAywK0CCFKnRgdZ1CVOlxicJDGi7IEFPQUGBahN3t729Dfj/yNrQ0GB36u/PCoiUHwzHL4BtFWhsbARgbGxM3cvNzQU0dcXlmfWAvb09QNNdxoDOHsUYiqE0D2JVVlbanfr78wMi5QfDNgPkA8n4+Li69/v3b0Dv3MrKCuCZzYlhlHtmUVWKqFJ1kj4SGIFnGd4OXAbYFdDc3AxAenq6uidZnDBhZGQEgMLCQtVHytni2np6elRbeXk5AENDQwD8+fMHgN7eXrvT9YHLALsCJMxdWFhQ99rb2wHtBWS3R0dHVR+xHZOTk4Dn+QLpPzw8DMDAwAAAHR0ddqfrA8czwPELYPl/h63AdHWSJ0gdQM4SgDaC/wccz4D/AEyp2MdulCNfAAAAAElFTkSuQmCC\" y=\"-21.066061\"/>\n   </g>\n   <g id=\"patch_23\">\n    <path d=\"M 310.415094 85.066061 \nL 310.415094 21.89625 \n\" style=\"fill:none;\"/>\n   </g>\n   <g id=\"patch_24\">\n    <path d=\"M 373.584906 85.066061 \nL 373.584906 21.89625 \n\" style=\"fill:none;\"/>\n   </g>\n   <g id=\"patch_25\">\n    <path d=\"M 310.415094 85.066061 \nL 373.584906 85.066061 \n\" style=\"fill:none;\"/>\n   </g>\n   <g id=\"patch_26\">\n    <path d=\"M 310.415094 21.89625 \nL 373.584906 21.89625 \n\" style=\"fill:none;\"/>\n   </g>\n   <g id=\"text_5\">\n    <!-- dress -->\n    <defs>\n     <path d=\"M 40.09375 8.5 \nQ 37.640625 3.421875 33.609375 1.21875 \nQ 29.59375 -0.984375 23.640625 -0.984375 \nQ 13.625 -0.984375 8.90625 5.75 \nQ 4.203125 12.5 4.203125 26.171875 \nQ 4.203125 53.8125 23.640625 53.8125 \nQ 29.640625 53.8125 33.640625 51.609375 \nQ 37.640625 49.421875 40.09375 44.625 \nL 40.1875 44.625 \nQ 40.1875 45.125 40.15625 46.171875 \nQ 40.140625 47.21875 40.109375 48.359375 \nQ 40.09375 49.515625 40.09375 50.53125 \nQ 40.09375 51.5625 40.09375 52 \nL 40.09375 72.46875 \nL 48.875 72.46875 \nL 48.875 10.890625 \nQ 48.875 8.984375 48.890625 7.21875 \nQ 48.921875 5.46875 48.96875 4 \nQ 49.03125 2.546875 49.078125 1.484375 \nQ 49.125 0.4375 49.171875 0 \nL 40.765625 0 \nQ 40.671875 0.484375 40.59375 1.390625 \nQ 40.53125 2.296875 40.453125 3.46875 \nQ 40.375 4.640625 40.328125 5.9375 \nQ 40.28125 7.234375 40.28125 8.5 \nz\nM 13.421875 26.46875 \nQ 13.421875 21 14.109375 17.09375 \nQ 14.796875 13.1875 16.3125 10.671875 \nQ 17.828125 8.15625 20.171875 6.984375 \nQ 22.515625 5.8125 25.875 5.8125 \nQ 29.34375 5.8125 32 6.9375 \nQ 34.671875 8.0625 36.453125 10.578125 \nQ 38.234375 13.09375 39.15625 17.140625 \nQ 40.09375 21.1875 40.09375 27.046875 \nQ 40.09375 32.671875 39.15625 36.546875 \nQ 38.234375 40.4375 36.421875 42.828125 \nQ 34.625 45.21875 32 46.265625 \nQ 29.390625 47.3125 25.984375 47.3125 \nQ 22.75 47.3125 20.40625 46.1875 \nQ 18.0625 45.0625 16.5 42.578125 \nQ 14.9375 40.09375 14.171875 36.109375 \nQ 13.421875 32.125 13.421875 26.46875 \nz\n\" id=\"LiberationSans-100\"/>\n    </defs>\n    <g style=\"fill:#262626;\" transform=\"translate(327.329063 15.89625)scale(0.12 -0.12)\">\n     <use xlink:href=\"#LiberationSans-100\"/>\n     <use x=\"55.615234\" xlink:href=\"#LiberationSans-114\"/>\n     <use x=\"88.916016\" xlink:href=\"#LiberationSans-101\"/>\n     <use x=\"144.53125\" xlink:href=\"#LiberationSans-115\"/>\n     <use x=\"194.53125\" xlink:href=\"#LiberationSans-115\"/>\n    </g>\n   </g>\n  </g>\n  <g id=\"axes_6\">\n   <g id=\"patch_27\">\n    <path d=\"M 386.218868 85.066061 \nL 449.388679 85.066061 \nL 449.388679 21.89625 \nL 386.218868 21.89625 \nz\n\" style=\"fill:#eaeaf2;\"/>\n   </g>\n   <g clip-path=\"url(#pb8f7a94e0c)\">\n    <image height=\"64\" id=\"image4b3ead0cfd\" transform=\"scale(1 -1)translate(0 -64)\" width=\"64\" x=\"386.218868\" xlink:href=\"data:image/png;base64,\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\" y=\"-21.066061\"/>\n   </g>\n   <g id=\"patch_28\">\n    <path d=\"M 386.218868 85.066061 \nL 386.218868 21.89625 \n\" style=\"fill:none;\"/>\n   </g>\n   <g id=\"patch_29\">\n    <path d=\"M 449.388679 85.066061 \nL 449.388679 21.89625 \n\" style=\"fill:none;\"/>\n   </g>\n   <g id=\"patch_30\">\n    <path d=\"M 386.218868 85.066061 \nL 449.388679 85.066061 \n\" style=\"fill:none;\"/>\n   </g>\n   <g id=\"patch_31\">\n    <path d=\"M 386.218868 21.89625 \nL 449.388679 21.89625 \n\" style=\"fill:none;\"/>\n   </g>\n   <g id=\"text_6\">\n    <!-- coat -->\n    <defs>\n     <path d=\"M 13.421875 26.65625 \nQ 13.421875 22.125 14.078125 18.3125 \nQ 14.75 14.5 16.3125 11.734375 \nQ 17.875 8.984375 20.4375 7.46875 \nQ 23 5.953125 26.765625 5.953125 \nQ 31.453125 5.953125 34.59375 8.484375 \nQ 37.75 11.03125 38.484375 16.3125 \nL 47.359375 15.71875 \nQ 46.921875 12.453125 45.453125 9.421875 \nQ 44 6.390625 41.484375 4.09375 \nQ 38.96875 1.8125 35.34375 0.40625 \nQ 31.734375 -0.984375 27 -0.984375 \nQ 20.796875 -0.984375 16.453125 1.109375 \nQ 12.109375 3.21875 9.390625 6.90625 \nQ 6.6875 10.59375 5.46875 15.59375 \nQ 4.25 20.609375 4.25 26.46875 \nQ 4.25 31.78125 5.125 35.859375 \nQ 6 39.9375 7.59375 42.984375 \nQ 9.1875 46.046875 11.328125 48.125 \nQ 13.484375 50.203125 15.984375 51.4375 \nQ 18.5 52.6875 21.28125 53.25 \nQ 24.078125 53.8125 26.90625 53.8125 \nQ 31.34375 53.8125 34.8125 52.59375 \nQ 38.28125 51.375 40.796875 49.25 \nQ 43.3125 47.125 44.875 44.234375 \nQ 46.4375 41.359375 47.078125 38.03125 \nL 38.03125 37.359375 \nQ 37.359375 41.75 34.5625 44.328125 \nQ 31.78125 46.921875 26.65625 46.921875 \nQ 22.90625 46.921875 20.390625 45.671875 \nQ 17.875 44.4375 16.3125 41.921875 \nQ 14.75 39.40625 14.078125 35.59375 \nQ 13.421875 31.78125 13.421875 26.65625 \nz\n\" id=\"LiberationSans-99\"/>\n    </defs>\n    <g style=\"fill:#262626;\" transform=\"translate(406.463774 15.89625)scale(0.12 -0.12)\">\n     <use xlink:href=\"#LiberationSans-99\"/>\n     <use x=\"50\" xlink:href=\"#LiberationSans-111\"/>\n     <use x=\"105.615234\" xlink:href=\"#LiberationSans-97\"/>\n     <use x=\"161.230469\" xlink:href=\"#LiberationSans-116\"/>\n    </g>\n   </g>\n  </g>\n  <g id=\"axes_7\">\n   <g id=\"patch_32\">\n    <path d=\"M 462.022642 85.066061 \nL 525.192453 85.066061 \nL 525.192453 21.89625 \nL 462.022642 21.89625 \nz\n\" style=\"fill:#eaeaf2;\"/>\n   </g>\n   <g clip-path=\"url(#pb89a25e4ab)\">\n    <image height=\"64\" id=\"image65d529c6ff\" transform=\"scale(1 -1)translate(0 -64)\" width=\"64\" x=\"462.022642\" xlink:href=\"data:image/png;base64,\niVBORw0KGgoAAAANSUhEUgAAAEAAAABACAYAAACqaXHeAAAABHNCSVQICAgIfAhkiAAABT1JREFUeJztmzlOHE8Uxn+Asdl3s+8JQgghIIGYiAMgDsABSOACHIKYA5AjxAUICBAJqzASELDvYGwWB/y/rtfNyPbUDIH/3S9h6HpV093ve99bqibn9fX1lQ+Sp6cnAK6vrwG4u7t7p3NzcwNAeXn5u7Hi4mIACgsLAfjy5UvW7zE36yv+Y/LpIxYdHR0FYHl5GYDn52fAIQLg4eHhj+s0NTUBDjktLS3B2NraWkjXAjknJ+ev7zX2CIj9C/B2AUEuFdx2d3ffFv/0trzIzLpAVVUVALm5bzYoKCgIxrRmXl4eAGVlZYAjU4CXl5fQ/MQFPCXnI8KgrFJZWQm4MKbrAI+Pj6ExWRugtLQUcEQp5AhZELZ4RvealVX+Yck4DN7f3wNQVFQUXBscHARgY2MDcP59e3sb6Hz+/Dm0juWAnz9/AvDjxw/AocMmSwqtFjk+kiDAd+L8/DwAY2NjgGN1gM7OTsD5uaLB71JZ6YJj/fz8fACOj49D6wL09vYCsL6+DkBHR0cwZrniTxJ7BMT+BXi7gGBWXV0NQENDQzD27ds3wEH5+/fvQJiwoiSocAjOHfRX5Hd+fh7oqD7o7+8H/MNigoBMFzg7OwPCJCTLifQUIm0FKFRoTEQJzroiQSHJIkDhV0hSWExXEgT4TlQxkkpkFfmldFUUgUNDqsJFIVVIkq4No0KJvsMWWulI7BEQ+xfg7QLRrM7+r7xeRCWYWxKUjsjP1hLSE8xVVZ6cnAQ6cjONXVxceD1HggDfiVEE2FxelldoUpKj6g5cGNQ6ttujawp/IlGLIK0Z/a50JUGA78Ro2LHdHqW8sop82erIh1X7y9p2nhAT7S3C+56kHUtHEgT4TrTWBDg9PQ0+q0DRttf29jYQ5g1ZUNcsh0Q7Qfr79evXQEcRQfeRTic49Bxes/5HEvsX4O0ClrQArq6ugs8VFRUA9PT0AG4fT0kLOBIVCdr+gNYWzNVrUMgD2NvbA1wC1N3d7fUcCQJ8J0b3820YWlxcBGBoaOjtS/4LY7I2pO4DSIQOtdG1UWLnl5SUAC45amtr83qOBAG+E20bHFKHuJWVFcD1DW2os9aEcCorVNTW1gKu9S2/BxgYGAAcv7S2tno9R+wREPsX4O0CUcjZTExwllsoW7OtbxGbskWRmtW7vLwEXDM0VS0hd7NN2XQkQYDvRJvUQNg6QoASGlnJkqDQIWtbElT4k47I8ODgINBR+JOuDlSlKwkCfCdG62/bJtdY9KyPPQOgMKpU1vYEo2eCjo6OgHAPQh0lSXt7u9dzJAjwnSiryoft5qQsHd08scmSfF4JkU2Mottmqbo9Fk3wvjj7W4k9AmL/AjLeHe7q6gJgf38/uCbIRltatoLUzm+q4zNKcuRC6i9Y4kt1bMZHEgRkusD4+DgAMzMzwTWFuKjlLVEpKRKZ2TAY3XQRImwipW7RxMRERvcfewRkfFRWLe/h4eHgmgol+Xk0MQJ3skRWlZ+D6x+IA3SLdmtNPYKFhQUA+vr6vO4/9giI/QvI2mlx6wKHh4eAq+JUzyt0gXOPVD+IUlao+TU1NUC4JaYm6NLSUkb3nSAgWwjY2toKPk9PTwOOIHd2dgDXBQJHcI2NjUDqEx5CQnNzMwB1dXXB2NzcHAD19fUZ3XeCgI/84eTs7CwAk5OTQDhUCQ3yb9vtUXK0uroKwMjICOBOqGdTEgRkCwG/+9WWGN/2DdUFlu9LBxw6lCxJxyZL0V+N+UrsERD7F/ChJBiVqamp4LMgrLx/c3MzGNNev8jTVorZltgj4BdHhTos0HsVfwAAAABJRU5ErkJggg==\" y=\"-21.066061\"/>\n   </g>\n   <g id=\"patch_33\">\n    <path d=\"M 462.022642 85.066061 \nL 462.022642 21.89625 \n\" style=\"fill:none;\"/>\n   </g>\n   <g id=\"patch_34\">\n    <path d=\"M 525.192453 85.066061 \nL 525.192453 21.89625 \n\" style=\"fill:none;\"/>\n   </g>\n   <g id=\"patch_35\">\n    <path d=\"M 462.022642 85.066061 \nL 525.192453 85.066061 \n\" style=\"fill:none;\"/>\n   </g>\n   <g id=\"patch_36\">\n    <path d=\"M 462.022642 21.89625 \nL 525.192453 21.89625 \n\" style=\"fill:none;\"/>\n   </g>\n   <g id=\"text_7\">\n    <!-- coat -->\n    <g style=\"fill:#262626;\" transform=\"translate(482.267547 15.89625)scale(0.12 -0.12)\">\n     <use xlink:href=\"#LiberationSans-99\"/>\n     <use x=\"50\" xlink:href=\"#LiberationSans-111\"/>\n     <use x=\"105.615234\" xlink:href=\"#LiberationSans-97\"/>\n     <use x=\"161.230469\" xlink:href=\"#LiberationSans-116\"/>\n    </g>\n   </g>\n  </g>\n  <g id=\"axes_8\">\n   <g id=\"patch_37\">\n    <path d=\"M 537.826415 85.066061 \nL 600.996226 85.066061 \nL 600.996226 21.89625 \nL 537.826415 21.89625 \nz\n\" style=\"fill:#eaeaf2;\"/>\n   </g>\n   <g clip-path=\"url(#p9092cdca0a)\">\n    <image height=\"64\" id=\"image2589b9e5d0\" transform=\"scale(1 -1)translate(0 -64)\" width=\"64\" x=\"537.826415\" xlink:href=\"data:image/png;base64,\niVBORw0KGgoAAAANSUhEUgAAAEAAAABACAYAAACqaXHeAAAABHNCSVQICAgIfAhkiAAAAtFJREFUeJztmr1L8lEUxz++9IIVCRGSQdDm4NLW0NAWSX9EU1tuTs4OQqOTgwa61N7L1BBBELRESyJOLpHgCwlKps/Qc69aCvbUwxl+57N4+Z3jPV+/nnt/V/y5er1eDwfjlhYgjRogLUAaNUBagDRqgLQAadQAaQHSqAHSAqRRA6QFSKMGSAuQRg2QFiCNGiAtQBo1QFqANI43wGsGjUbDXqxWqwC0Wi0APB4PAD6fz+aUSqWhidrtth1PT08D0O12JxZiagBMTU0NvX99fR2A2dlZm3N/fz+kY35+3sZcLtfHh/N6h17r9brN2d7eBrQD8L68vADw/PxsL3Y6HQDW1tYAeHx8BOD4+NjmZDIZAGq12tjJzbc66r8XU+Pt7Q0At7v/Xby/vwMQCAQASKVSAESjUZuzu7sLQC6XA6BQKNiY6UDTCQZTC2Bpaemj7lj1DsH1nb/GVldX7fjk5ASAra2t31f1l2azCUA4HAYgFArZ2MXFxa/UcHwHON4AV7fb/bIEPm8ehmKxaMfxeByA29tbAGKxmI3t7+8DsLCwMLbw55U3WNO0/sbGBgDlchkAs2EDzM3NTTy32VQHb7WmnnbAT58PeH19BeDh4cFey+fzQL87EokEAJFIZKI5zS3OHMRWVlYAuLm5sTmLi4sAHB0dAbCzs/NP+rUDJumAUSnj9olBzDE1nU4DcHZ2ZmPn5+cALC8vA3B4eGhjlUoFgGw2C4Df7wfg8vLS5hwcHAD9A1UwGLSxvb29oRxz6JmZmfmi0fEd4HgDfrwJfmd5PD092bFpz83NTQDu7u5s7PT0FOgvj0m4vr62Y/P7wJxck8kk0F9a0L+Nagf8j8fkxk05qjOurq6A4XP+4Ib2m3pG1dcO0AclHY4aIC1AGjVAWoA0aoC0AGnUAGkB0qgB0gKkUQOkBUijBkgLkEYNkBYgjRogLUAaNUBagDSON+APgC7ZlEdMCG8AAAAASUVORK5CYII=\" y=\"-21.066061\"/>\n   </g>\n   <g id=\"patch_38\">\n    <path d=\"M 537.826415 85.066061 \nL 537.826415 21.89625 \n\" style=\"fill:none;\"/>\n   </g>\n   <g id=\"patch_39\">\n    <path d=\"M 600.996226 85.066061 \nL 600.996226 21.89625 \n\" style=\"fill:none;\"/>\n   </g>\n   <g id=\"patch_40\">\n    <path d=\"M 537.826415 85.066061 \nL 600.996226 85.066061 \n\" style=\"fill:none;\"/>\n   </g>\n   <g id=\"patch_41\">\n    <path d=\"M 537.826415 21.89625 \nL 600.996226 21.89625 \n\" style=\"fill:none;\"/>\n   </g>\n   <g id=\"text_8\">\n    <!-- sandal -->\n    <g style=\"fill:#262626;\" transform=\"translate(551.731946 15.89625)scale(0.12 -0.12)\">\n     <use xlink:href=\"#LiberationSans-115\"/>\n     <use x=\"50\" xlink:href=\"#LiberationSans-97\"/>\n     <use x=\"105.615234\" xlink:href=\"#LiberationSans-110\"/>\n     <use x=\"161.230469\" xlink:href=\"#LiberationSans-100\"/>\n     <use x=\"216.845703\" xlink:href=\"#LiberationSans-97\"/>\n     <use x=\"272.460938\" xlink:href=\"#LiberationSans-108\"/>\n    </g>\n   </g>\n  </g>\n  <g id=\"axes_9\">\n   <g id=\"patch_42\">\n    <path d=\"M 613.630189 85.066061 \nL 676.8 85.066061 \nL 676.8 21.89625 \nL 613.630189 21.89625 \nz\n\" style=\"fill:#eaeaf2;\"/>\n   </g>\n   <g clip-path=\"url(#p56c9bbe64c)\">\n    <image height=\"64\" id=\"image098764be83\" transform=\"scale(1 -1)translate(0 -64)\" width=\"64\" x=\"613.630189\" xlink:href=\"data:image/png;base64,\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\" y=\"-21.066061\"/>\n   </g>\n   <g id=\"patch_43\">\n    <path d=\"M 613.630189 85.066061 \nL 613.630189 21.89625 \n\" style=\"fill:none;\"/>\n   </g>\n   <g id=\"patch_44\">\n    <path d=\"M 676.8 85.066061 \nL 676.8 21.89625 \n\" style=\"fill:none;\"/>\n   </g>\n   <g id=\"patch_45\">\n    <path d=\"M 613.630189 85.066061 \nL 676.8 85.066061 \n\" style=\"fill:none;\"/>\n   </g>\n   <g id=\"patch_46\">\n    <path d=\"M 613.630189 21.89625 \nL 676.8 21.89625 \n\" style=\"fill:none;\"/>\n   </g>\n   <g id=\"text_9\">\n    <!-- coat -->\n    <g style=\"fill:#262626;\" transform=\"translate(633.875094 15.89625)scale(0.12 -0.12)\">\n     <use xlink:href=\"#LiberationSans-99\"/>\n     <use x=\"50\" xlink:href=\"#LiberationSans-111\"/>\n     <use x=\"105.615234\" xlink:href=\"#LiberationSans-97\"/>\n     <use x=\"161.230469\" xlink:href=\"#LiberationSans-116\"/>\n    </g>\n   </g>\n  </g>\n </g>\n <defs>\n  <clipPath id=\"pe2c8359b36\">\n   <rect height=\"63.169811\" width=\"63.169811\" x=\"7.2\" y=\"21.89625\"/>\n  </clipPath>\n  <clipPath id=\"pfe9057947d\">\n   <rect height=\"63.169811\" width=\"63.169811\" x=\"83.003774\" y=\"21.89625\"/>\n  </clipPath>\n  <clipPath id=\"pd326d22ce2\">\n   <rect height=\"63.169811\" width=\"63.169811\" x=\"158.807547\" y=\"21.89625\"/>\n  </clipPath>\n  <clipPath id=\"p8efe5d2696\">\n   <rect height=\"63.169811\" width=\"63.169811\" x=\"234.611321\" y=\"21.89625\"/>\n  </clipPath>\n  <clipPath id=\"peb633644f3\">\n   <rect height=\"63.169811\" width=\"63.169811\" x=\"310.415094\" y=\"21.89625\"/>\n  </clipPath>\n  <clipPath id=\"pb8f7a94e0c\">\n   <rect height=\"63.169811\" width=\"63.169811\" x=\"386.218868\" y=\"21.89625\"/>\n  </clipPath>\n  <clipPath id=\"pb89a25e4ab\">\n   <rect height=\"63.169811\" width=\"63.169811\" x=\"462.022642\" y=\"21.89625\"/>\n  </clipPath>\n  <clipPath id=\"p9092cdca0a\">\n   <rect height=\"63.169811\" width=\"63.169811\" x=\"537.826415\" y=\"21.89625\"/>\n  </clipPath>\n  <clipPath id=\"p56c9bbe64c\">\n   <rect height=\"63.169811\" width=\"63.169811\" x=\"613.630189\" y=\"21.89625\"/>\n  </clipPath>\n </defs>\n</svg>\n"
          },
          "metadata": {
            "tags": []
          }
        }
      ]
    },
    {
      "metadata": {
        "id": "R9CYqMYtB1Wi",
        "colab_type": "text"
      },
      "cell_type": "markdown",
      "source": [
        "Reading a Minibatch"
      ]
    },
    {
      "metadata": {
        "id": "25qvj0-XAYTo",
        "colab_type": "code",
        "colab": {}
      },
      "cell_type": "code",
      "source": [
        "batch_size = 256\n",
        "transformer = gdata.vision.transforms.ToTensor()\n",
        "if sys.platform.startswith('win'):\n",
        "    # 0 means no additional processes are needed to speed up the reading of\n",
        "    # data\n",
        "    num_workers = 0\n",
        "else:\n",
        "    num_workers = 4\n",
        "\n",
        "train_iter = gdata.DataLoader(mnist_train.transform_first(transformer),\n",
        "                              batch_size, shuffle=True,\n",
        "                              num_workers=num_workers)\n",
        "test_iter = gdata.DataLoader(mnist_test.transform_first(transformer),\n",
        "                             batch_size, shuffle=False,\n",
        "                             num_workers=num_workers)"
      ],
      "execution_count": 0,
      "outputs": []
    },
    {
      "metadata": {
        "id": "02OF0l_hDa_S",
        "colab_type": "code",
        "colab": {
          "base_uri": "https://localhost:8080/",
          "height": 34
        },
        "outputId": "472823b2-755a-4232-9c29-b81df20f5764"
      },
      "cell_type": "code",
      "source": [
        "start = time.time()\n",
        "for X, y in train_iter:\n",
        "    continue\n",
        "'%.2f sec' % (time.time() - start)"
      ],
      "execution_count": 9,
      "outputs": [
        {
          "output_type": "execute_result",
          "data": {
            "text/plain": [
              "'4.90 sec'"
            ]
          },
          "metadata": {
            "tags": []
          },
          "execution_count": 9
        }
      ]
    }
  ]
}