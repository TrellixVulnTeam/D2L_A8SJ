{
  "nbformat": 4,
  "nbformat_minor": 0,
  "metadata": {
    "colab": {
      "name": "concise_implementation_of_linear_regression.ipynb",
      "version": "0.3.2",
      "provenance": [],
      "collapsed_sections": [],
      "include_colab_link": true
    },
    "kernelspec": {
      "name": "python3",
      "display_name": "Python 3"
    },
    "accelerator": "GPU"
  },
  "cells": [
    {
      "cell_type": "markdown",
      "metadata": {
        "id": "view-in-github",
        "colab_type": "text"
      },
      "source": [
        "<a href=\"https://colab.research.google.com/github/prasanth5reddy/D2L/blob/master/Linear%20Neural%20Networks/concise_implementation_of_linear_regression.ipynb\" target=\"_parent\"><img src=\"https://colab.research.google.com/assets/colab-badge.svg\" alt=\"Open In Colab\"/></a>"
      ]
    },
    {
      "metadata": {
        "id": "llTgOSk-t0qr",
        "colab_type": "text"
      },
      "cell_type": "markdown",
      "source": [
        "Installing Libraries"
      ]
    },
    {
      "metadata": {
        "id": "wyRnVcfNtoqM",
        "colab_type": "code",
        "outputId": "5def5e69-b5d3-4e3f-e1d4-39f67372ab60",
        "colab": {
          "base_uri": "https://localhost:8080/",
          "height": 153
        }
      },
      "cell_type": "code",
      "source": [
        "!pip install mxnet"
      ],
      "execution_count": 1,
      "outputs": [
        {
          "output_type": "stream",
          "text": [
            "Requirement already satisfied: mxnet in /usr/local/lib/python3.6/dist-packages (1.4.0.post0)\n",
            "Requirement already satisfied: numpy<1.15.0,>=1.8.2 in /usr/local/lib/python3.6/dist-packages (from mxnet) (1.14.6)\n",
            "Requirement already satisfied: requests>=2.20.0 in /usr/local/lib/python3.6/dist-packages (from mxnet) (2.21.0)\n",
            "Requirement already satisfied: graphviz<0.9.0,>=0.8.1 in /usr/local/lib/python3.6/dist-packages (from mxnet) (0.8.4)\n",
            "Requirement already satisfied: certifi>=2017.4.17 in /usr/local/lib/python3.6/dist-packages (from requests>=2.20.0->mxnet) (2019.3.9)\n",
            "Requirement already satisfied: idna<2.9,>=2.5 in /usr/local/lib/python3.6/dist-packages (from requests>=2.20.0->mxnet) (2.6)\n",
            "Requirement already satisfied: chardet<3.1.0,>=3.0.2 in /usr/local/lib/python3.6/dist-packages (from requests>=2.20.0->mxnet) (3.0.4)\n",
            "Requirement already satisfied: urllib3<1.25,>=1.21.1 in /usr/local/lib/python3.6/dist-packages (from requests>=2.20.0->mxnet) (1.22)\n"
          ],
          "name": "stdout"
        }
      ]
    },
    {
      "metadata": {
        "id": "SMXXluyOt5kA",
        "colab_type": "text"
      },
      "cell_type": "markdown",
      "source": [
        "Importing Libraries"
      ]
    },
    {
      "metadata": {
        "id": "6IvTGHO-t5J4",
        "colab_type": "code",
        "colab": {}
      },
      "cell_type": "code",
      "source": [
        "from mxnet import autograd, nd, init, gluon\n",
        "from mxnet.gluon import data as gdata, nn, loss as gloss"
      ],
      "execution_count": 0,
      "outputs": []
    },
    {
      "metadata": {
        "id": "ol1joWqeuOtD",
        "colab_type": "text"
      },
      "cell_type": "markdown",
      "source": [
        "Generating Data Sets"
      ]
    },
    {
      "metadata": {
        "id": "CpFv8NHBuKXB",
        "colab_type": "code",
        "colab": {}
      },
      "cell_type": "code",
      "source": [
        "num_inputs = 2\n",
        "num_examples = 1000\n",
        "true_w = nd.array([2, -3.4])\n",
        "true_b = 4.2\n",
        "features = nd.random.normal(scale=1, shape=(num_examples, num_inputs))\n",
        "labels = nd.dot(features, true_w) + true_b\n",
        "labels += nd.random.normal(scale=0.01, shape=labels.shape)"
      ],
      "execution_count": 0,
      "outputs": []
    },
    {
      "metadata": {
        "id": "NY_W9n93uyWY",
        "colab_type": "text"
      },
      "cell_type": "markdown",
      "source": [
        "Reading Data"
      ]
    },
    {
      "metadata": {
        "id": "TkwW7l8guUmx",
        "colab_type": "code",
        "colab": {}
      },
      "cell_type": "code",
      "source": [
        "batch_size = 10\n",
        "\n",
        "# Combine the features and labels of the training data\n",
        "dataset = gdata.ArrayDataset(features, labels)\n",
        "# Randomly reading mini-batches\n",
        "data_iter = gdata.DataLoader(dataset, batch_size, shuffle=True)"
      ],
      "execution_count": 0,
      "outputs": []
    },
    {
      "metadata": {
        "id": "4WD1-hE4vI0c",
        "colab_type": "code",
        "outputId": "f5d58ad0-39d2-412b-8fae-fae459644c4c",
        "colab": {
          "base_uri": "https://localhost:8080/",
          "height": 272
        }
      },
      "cell_type": "code",
      "source": [
        "for X, y in data_iter:\n",
        "    print(X, y)\n",
        "    break"
      ],
      "execution_count": 5,
      "outputs": [
        {
          "output_type": "stream",
          "text": [
            "\n",
            "[[ 0.52217364 -0.96701854]\n",
            " [-0.67941266 -0.15194277]\n",
            " [ 1.2163423   0.4857486 ]\n",
            " [-1.3725436   0.0290854 ]\n",
            " [ 1.4929712  -1.7285388 ]\n",
            " [-0.42707378  1.4961599 ]\n",
            " [-0.86253977 -0.9446958 ]\n",
            " [ 0.78226787 -0.6742348 ]\n",
            " [-0.90053743 -0.1930618 ]\n",
            " [-0.52853745 -1.88909   ]]\n",
            "<NDArray 10x2 @cpu(0)> \n",
            "[ 8.526825   3.3611004  4.9856253  1.3643551 13.052138  -1.7333063\n",
            "  5.693961   8.047689   3.0568447  9.5670185]\n",
            "<NDArray 10 @cpu(0)>\n"
          ],
          "name": "stdout"
        }
      ]
    },
    {
      "metadata": {
        "id": "3E7K4JFWvO06",
        "colab_type": "text"
      },
      "cell_type": "markdown",
      "source": [
        "Define the model"
      ]
    },
    {
      "metadata": {
        "id": "50GNiEOjvMwD",
        "colab_type": "code",
        "colab": {}
      },
      "cell_type": "code",
      "source": [
        "net = nn.Sequential()\n",
        "net.add(nn.Dense(1))"
      ],
      "execution_count": 0,
      "outputs": []
    },
    {
      "metadata": {
        "id": "DwaL7OvvwUlx",
        "colab_type": "text"
      },
      "cell_type": "markdown",
      "source": [
        "Initialize Model Parameters"
      ]
    },
    {
      "metadata": {
        "id": "hQCntGMmv2SC",
        "colab_type": "code",
        "colab": {}
      },
      "cell_type": "code",
      "source": [
        "net.initialize(init.Normal(sigma=0.01))\n",
        "# updates are deferred until the first time that data is sent through the networks\n",
        "# Hence parameters won't be initialized until it sees the data"
      ],
      "execution_count": 0,
      "outputs": []
    },
    {
      "metadata": {
        "id": "GGBdLOwPw0SK",
        "colab_type": "text"
      },
      "cell_type": "markdown",
      "source": [
        "Define the Loss Functon"
      ]
    },
    {
      "metadata": {
        "id": "4w15yN_iwf3M",
        "colab_type": "code",
        "colab": {}
      },
      "cell_type": "code",
      "source": [
        "loss = gloss.L2Loss()"
      ],
      "execution_count": 0,
      "outputs": []
    },
    {
      "metadata": {
        "id": "vLrs0Li_xTcq",
        "colab_type": "text"
      },
      "cell_type": "markdown",
      "source": [
        "Define the Optimization Algorithm"
      ]
    },
    {
      "metadata": {
        "id": "qYShOdu7xDhy",
        "colab_type": "code",
        "colab": {}
      },
      "cell_type": "code",
      "source": [
        "trainer = gluon.Trainer(net.collect_params(), 'sgd', {'learning_rate': 0.03})"
      ],
      "execution_count": 0,
      "outputs": []
    },
    {
      "metadata": {
        "id": "SZLdPvDFyY_c",
        "colab_type": "text"
      },
      "cell_type": "markdown",
      "source": [
        "Training"
      ]
    },
    {
      "metadata": {
        "id": "KKUiollTyWm3",
        "colab_type": "code",
        "outputId": "ddf1bcb9-b456-4bf2-85b0-2f7f5667e886",
        "colab": {
          "base_uri": "https://localhost:8080/",
          "height": 68
        }
      },
      "cell_type": "code",
      "source": [
        "num_epochs = 3\n",
        "\n",
        "for epoch in range(1, num_epochs + 1):\n",
        "    for X, y in data_iter:\n",
        "        with autograd.record():\n",
        "            l = loss(net(X), y)\n",
        "        l.backward()\n",
        "        trainer.step(batch_size)\n",
        "    l = loss(net(features), labels)\n",
        "    print('epoch %d, loss: %f' % (epoch, l.mean().asnumpy()))"
      ],
      "execution_count": 10,
      "outputs": [
        {
          "output_type": "stream",
          "text": [
            "epoch 1, loss: 0.040816\n",
            "epoch 2, loss: 0.000155\n",
            "epoch 3, loss: 0.000050\n"
          ],
          "name": "stdout"
        }
      ]
    },
    {
      "metadata": {
        "id": "kTcUEZHt0XmQ",
        "colab_type": "code",
        "outputId": "b6964b25-ff55-42b1-eb98-2398b06b0745",
        "colab": {
          "base_uri": "https://localhost:8080/",
          "height": 119
        }
      },
      "cell_type": "code",
      "source": [
        "w = net[0].weight.data()\n",
        "print('Error in estimating w', true_w.reshape(w.shape) - w)\n",
        "b = net[0].bias.data()\n",
        "print('Error in estimating b', true_b - b)"
      ],
      "execution_count": 11,
      "outputs": [
        {
          "output_type": "stream",
          "text": [
            "Error in estimating w \n",
            "[[ 0.00032294 -0.00033808]]\n",
            "<NDArray 1x2 @cpu(0)>\n",
            "Error in estimating b \n",
            "[0.0004549]\n",
            "<NDArray 1 @cpu(0)>\n"
          ],
          "name": "stdout"
        }
      ]
    }
  ]
}