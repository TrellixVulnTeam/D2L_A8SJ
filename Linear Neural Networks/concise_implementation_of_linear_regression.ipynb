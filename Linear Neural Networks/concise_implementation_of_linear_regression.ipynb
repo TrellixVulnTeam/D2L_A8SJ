{
  "nbformat": 4,
  "nbformat_minor": 0,
  "metadata": {
    "colab": {
      "name": "concise_implementation_of_linear_regression.ipynb",
      "version": "0.3.2",
      "provenance": [],
      "collapsed_sections": [],
      "include_colab_link": true
    },
    "kernelspec": {
      "name": "python3",
      "display_name": "Python 3"
    },
    "accelerator": "GPU"
  },
  "cells": [
    {
      "cell_type": "markdown",
      "metadata": {
        "id": "view-in-github",
        "colab_type": "text"
      },
      "source": [
        "<a href=\"https://colab.research.google.com/github/prasanth5reddy/D2L/blob/master/Linear%20Neural%20Networks/concise_implementation_of_linear_regression.ipynb\" target=\"_parent\"><img src=\"https://colab.research.google.com/assets/colab-badge.svg\" alt=\"Open In Colab\"/></a>"
      ]
    },
    {
      "metadata": {
        "id": "llTgOSk-t0qr",
        "colab_type": "text"
      },
      "cell_type": "markdown",
      "source": [
        "Installing Libraries"
      ]
    },
    {
      "metadata": {
        "id": "wyRnVcfNtoqM",
        "colab_type": "code",
        "colab": {
          "base_uri": "https://localhost:8080/",
          "height": 153
        },
        "outputId": "4f7b2819-564a-4cf5-8526-e05df1a58d11"
      },
      "cell_type": "code",
      "source": [
        "!pip install mxnet"
      ],
      "execution_count": 1,
      "outputs": [
        {
          "output_type": "stream",
          "text": [
            "Requirement already satisfied: mxnet in /usr/local/lib/python3.6/dist-packages (1.4.0.post0)\n",
            "Requirement already satisfied: numpy<1.15.0,>=1.8.2 in /usr/local/lib/python3.6/dist-packages (from mxnet) (1.14.6)\n",
            "Requirement already satisfied: graphviz<0.9.0,>=0.8.1 in /usr/local/lib/python3.6/dist-packages (from mxnet) (0.8.4)\n",
            "Requirement already satisfied: requests>=2.20.0 in /usr/local/lib/python3.6/dist-packages (from mxnet) (2.21.0)\n",
            "Requirement already satisfied: chardet<3.1.0,>=3.0.2 in /usr/local/lib/python3.6/dist-packages (from requests>=2.20.0->mxnet) (3.0.4)\n",
            "Requirement already satisfied: certifi>=2017.4.17 in /usr/local/lib/python3.6/dist-packages (from requests>=2.20.0->mxnet) (2019.3.9)\n",
            "Requirement already satisfied: idna<2.9,>=2.5 in /usr/local/lib/python3.6/dist-packages (from requests>=2.20.0->mxnet) (2.6)\n",
            "Requirement already satisfied: urllib3<1.25,>=1.21.1 in /usr/local/lib/python3.6/dist-packages (from requests>=2.20.0->mxnet) (1.22)\n"
          ],
          "name": "stdout"
        }
      ]
    },
    {
      "metadata": {
        "id": "SMXXluyOt5kA",
        "colab_type": "text"
      },
      "cell_type": "markdown",
      "source": [
        "Importing Libraries"
      ]
    },
    {
      "metadata": {
        "id": "6IvTGHO-t5J4",
        "colab_type": "code",
        "colab": {}
      },
      "cell_type": "code",
      "source": [
        "from mxnet import autograd, nd, init, gluon\n",
        "from mxnet.gluon import data as gdata, nn, loss as gloss"
      ],
      "execution_count": 0,
      "outputs": []
    },
    {
      "metadata": {
        "id": "ol1joWqeuOtD",
        "colab_type": "text"
      },
      "cell_type": "markdown",
      "source": [
        "Generating Data Sets"
      ]
    },
    {
      "metadata": {
        "id": "CpFv8NHBuKXB",
        "colab_type": "code",
        "colab": {}
      },
      "cell_type": "code",
      "source": [
        "num_inputs = 2\n",
        "num_examples = 1000\n",
        "true_w = nd.array([2, -3.4])\n",
        "true_b = 4.2\n",
        "features = nd.random.normal(scale=1, shape=(num_examples, num_inputs))\n",
        "labels = nd.dot(features, true_w) + true_b\n",
        "labels += nd.random.normal(scale=0.01, shape=labels.shape)"
      ],
      "execution_count": 0,
      "outputs": []
    },
    {
      "metadata": {
        "id": "NY_W9n93uyWY",
        "colab_type": "text"
      },
      "cell_type": "markdown",
      "source": [
        "Reading Data"
      ]
    },
    {
      "metadata": {
        "id": "TkwW7l8guUmx",
        "colab_type": "code",
        "colab": {}
      },
      "cell_type": "code",
      "source": [
        "batch_size = 10\n",
        "\n",
        "# Combine the features and labels of the training data\n",
        "dataset = gdata.ArrayDataset(features, labels)\n",
        "# Randomly reading mini-batches\n",
        "data_iter = gdata.DataLoader(dataset, batch_size, shuffle=True)"
      ],
      "execution_count": 0,
      "outputs": []
    },
    {
      "metadata": {
        "id": "4WD1-hE4vI0c",
        "colab_type": "code",
        "colab": {
          "base_uri": "https://localhost:8080/",
          "height": 272
        },
        "outputId": "02a47776-4173-4186-982b-3b08d7027e1a"
      },
      "cell_type": "code",
      "source": [
        "for X, y in data_iter:\n",
        "    print(X, y)\n",
        "    break"
      ],
      "execution_count": 5,
      "outputs": [
        {
          "output_type": "stream",
          "text": [
            "\n",
            "[[ 0.11880843 -0.58647645]\n",
            " [ 0.5625079  -0.6737813 ]\n",
            " [-0.8518291  -1.7015792 ]\n",
            " [-0.05762186  1.0840201 ]\n",
            " [ 0.20988831 -1.0934474 ]\n",
            " [ 1.1729258   1.2008598 ]\n",
            " [ 0.5130225  -1.0972124 ]\n",
            " [-0.41733953  0.5984538 ]\n",
            " [-0.08445202 -0.53799033]\n",
            " [ 0.8258905   1.0249989 ]]\n",
            "<NDArray 10x2 @cpu(0)> \n",
            "[6.4288654  7.611703   8.296694   0.40332842 8.336128   2.447357\n",
            " 8.966415   1.3308488  5.8554525  2.3662217 ]\n",
            "<NDArray 10 @cpu(0)>\n"
          ],
          "name": "stdout"
        }
      ]
    },
    {
      "metadata": {
        "id": "3E7K4JFWvO06",
        "colab_type": "text"
      },
      "cell_type": "markdown",
      "source": [
        "Define the model"
      ]
    },
    {
      "metadata": {
        "id": "50GNiEOjvMwD",
        "colab_type": "code",
        "colab": {}
      },
      "cell_type": "code",
      "source": [
        "net = nn.Sequential()\n",
        "net.add(nn.Dense(1))"
      ],
      "execution_count": 0,
      "outputs": []
    },
    {
      "metadata": {
        "id": "DwaL7OvvwUlx",
        "colab_type": "text"
      },
      "cell_type": "markdown",
      "source": [
        "Initialize Model Parameters"
      ]
    },
    {
      "metadata": {
        "id": "hQCntGMmv2SC",
        "colab_type": "code",
        "colab": {}
      },
      "cell_type": "code",
      "source": [
        "net.initialize(init.Normal(sigma=0.01))\n",
        "# updates are deferred until the first time that data is sent through the networks\n",
        "# Hence parameters won't be initialized until it sees the data"
      ],
      "execution_count": 0,
      "outputs": []
    },
    {
      "metadata": {
        "id": "GGBdLOwPw0SK",
        "colab_type": "text"
      },
      "cell_type": "markdown",
      "source": [
        "Define the Loss Functon"
      ]
    },
    {
      "metadata": {
        "id": "4w15yN_iwf3M",
        "colab_type": "code",
        "colab": {}
      },
      "cell_type": "code",
      "source": [
        "loss = gloss.L2Loss()"
      ],
      "execution_count": 0,
      "outputs": []
    },
    {
      "metadata": {
        "id": "vLrs0Li_xTcq",
        "colab_type": "text"
      },
      "cell_type": "markdown",
      "source": [
        "Define the Optimization Algorithm"
      ]
    },
    {
      "metadata": {
        "id": "qYShOdu7xDhy",
        "colab_type": "code",
        "colab": {}
      },
      "cell_type": "code",
      "source": [
        "trainer = gluon.Trainer(net.collect_params(), 'sgd', {'learning_rate': 0.03})"
      ],
      "execution_count": 0,
      "outputs": []
    },
    {
      "metadata": {
        "id": "SZLdPvDFyY_c",
        "colab_type": "text"
      },
      "cell_type": "markdown",
      "source": [
        "Training"
      ]
    },
    {
      "metadata": {
        "id": "KKUiollTyWm3",
        "colab_type": "code",
        "colab": {
          "base_uri": "https://localhost:8080/",
          "height": 68
        },
        "outputId": "891c1494-3453-410f-f807-f8d5dafad9af"
      },
      "cell_type": "code",
      "source": [
        "num_epochs = 3\n",
        "\n",
        "for epoch in range(1, num_epochs + 1):\n",
        "    for X, y in data_iter:\n",
        "        with autograd.record():\n",
        "            l = loss(net(X), y)\n",
        "        l.backward()\n",
        "        trainer.step(batch_size)\n",
        "    l = loss(net(features), labels)\n",
        "    print('epoch %d, loss: %f' % (epoch, l.mean().asnumpy()))"
      ],
      "execution_count": 10,
      "outputs": [
        {
          "output_type": "stream",
          "text": [
            "epoch 1, loss: 0.040620\n",
            "epoch 2, loss: 0.000162\n",
            "epoch 3, loss: 0.000050\n"
          ],
          "name": "stdout"
        }
      ]
    },
    {
      "metadata": {
        "id": "kTcUEZHt0XmQ",
        "colab_type": "code",
        "colab": {
          "base_uri": "https://localhost:8080/",
          "height": 119
        },
        "outputId": "6053a721-a609-4c28-ec66-a7948db702b2"
      },
      "cell_type": "code",
      "source": [
        "w = net[0].weight.data()\n",
        "print('Error in estimating w', true_w.reshape(w.shape) - w)\n",
        "b = net[0].bias.data()\n",
        "print('Error in estimating b', true_b - b)"
      ],
      "execution_count": 11,
      "outputs": [
        {
          "output_type": "stream",
          "text": [
            "Error in estimating w \n",
            "[[ 0.00015903 -0.00072289]]\n",
            "<NDArray 1x2 @cpu(0)>\n",
            "Error in estimating b \n",
            "[-8.2969666e-05]\n",
            "<NDArray 1 @cpu(0)>\n"
          ],
          "name": "stdout"
        }
      ]
    },
    {
      "metadata": {
        "id": "blsFoYst1KMZ",
        "colab_type": "code",
        "colab": {}
      },
      "cell_type": "code",
      "source": [
        ""
      ],
      "execution_count": 0,
      "outputs": []
    }
  ]
}