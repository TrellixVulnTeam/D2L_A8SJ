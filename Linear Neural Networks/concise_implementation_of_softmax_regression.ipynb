{
  "nbformat": 4,
  "nbformat_minor": 0,
  "metadata": {
    "colab": {
      "name": "concise_implementation_of_softmax_regression.ipynb",
      "version": "0.3.2",
      "provenance": [],
      "collapsed_sections": [],
      "include_colab_link": true
    },
    "kernelspec": {
      "name": "python3",
      "display_name": "Python 3"
    },
    "accelerator": "GPU"
  },
  "cells": [
    {
      "cell_type": "markdown",
      "metadata": {
        "id": "view-in-github",
        "colab_type": "text"
      },
      "source": [
        "<a href=\"https://colab.research.google.com/github/prasanth5reddy/D2L/blob/master/Linear%20Neural%20Networks/concise_implementation_of_softmax_regression.ipynb\" target=\"_parent\"><img src=\"https://colab.research.google.com/assets/colab-badge.svg\" alt=\"Open In Colab\"/></a>"
      ]
    },
    {
      "metadata": {
        "id": "FtSA-dyBUt_a",
        "colab_type": "text"
      },
      "cell_type": "markdown",
      "source": [
        "Mounting Drive"
      ]
    },
    {
      "metadata": {
        "id": "wKJkSkO-Uj8c",
        "colab_type": "code",
        "colab": {
          "base_uri": "https://localhost:8080/",
          "height": 54
        },
        "outputId": "b8845e31-d975-4d13-c270-eb158e2642ab"
      },
      "cell_type": "code",
      "source": [
        "from google.colab import drive\n",
        "drive.mount('/content/drive')\n",
        "\n",
        "import sys\n",
        "sys.path.append('/content/drive/My Drive/Colab/D2L.AI/')"
      ],
      "execution_count": 1,
      "outputs": [
        {
          "output_type": "stream",
          "text": [
            "Drive already mounted at /content/drive; to attempt to forcibly remount, call drive.mount(\"/content/drive\", force_remount=True).\n"
          ],
          "name": "stdout"
        }
      ]
    },
    {
      "metadata": {
        "id": "8ymiJ-qdVa3-",
        "colab_type": "text"
      },
      "cell_type": "markdown",
      "source": [
        "Installing Libraries"
      ]
    },
    {
      "metadata": {
        "id": "kiRzxaThVdAk",
        "colab_type": "code",
        "colab": {
          "base_uri": "https://localhost:8080/",
          "height": 173
        },
        "outputId": "aae9e19d-90ca-4c7a-a007-be815f6a04f2"
      },
      "cell_type": "code",
      "source": [
        "!pip install mxnet"
      ],
      "execution_count": 2,
      "outputs": [
        {
          "output_type": "stream",
          "text": [
            "Requirement already satisfied: mxnet in /usr/local/lib/python3.6/dist-packages (1.4.0.post0)\n",
            "Requirement already satisfied: requests>=2.20.0 in /usr/local/lib/python3.6/dist-packages (from mxnet) (2.21.0)\n",
            "Requirement already satisfied: graphviz<0.9.0,>=0.8.1 in /usr/local/lib/python3.6/dist-packages (from mxnet) (0.8.4)\n",
            "Requirement already satisfied: numpy<1.15.0,>=1.8.2 in /usr/local/lib/python3.6/dist-packages (from mxnet) (1.14.6)\n",
            "Requirement already satisfied: certifi>=2017.4.17 in /usr/local/lib/python3.6/dist-packages (from requests>=2.20.0->mxnet) (2019.3.9)\n",
            "Requirement already satisfied: urllib3<1.25,>=1.21.1 in /usr/local/lib/python3.6/dist-packages (from requests>=2.20.0->mxnet) (1.22)\n",
            "Requirement already satisfied: chardet<3.1.0,>=3.0.2 in /usr/local/lib/python3.6/dist-packages (from requests>=2.20.0->mxnet) (3.0.4)\n",
            "Requirement already satisfied: idna<2.9,>=2.5 in /usr/local/lib/python3.6/dist-packages (from requests>=2.20.0->mxnet) (2.6)\n"
          ],
          "name": "stdout"
        }
      ]
    },
    {
      "metadata": {
        "id": "CIPYQdYMVfOX",
        "colab_type": "text"
      },
      "cell_type": "markdown",
      "source": [
        "Importing Libraries"
      ]
    },
    {
      "metadata": {
        "id": "uT72xS91VeUm",
        "colab_type": "code",
        "colab": {}
      },
      "cell_type": "code",
      "source": [
        "%matplotlib inline\n",
        "import d2l\n",
        "from mxnet import gluon, init\n",
        "from mxnet.gluon import loss as gloss, nn"
      ],
      "execution_count": 0,
      "outputs": []
    },
    {
      "metadata": {
        "id": "LAsKnHfnVuLL",
        "colab_type": "text"
      },
      "cell_type": "markdown",
      "source": [
        "Getting the Data"
      ]
    },
    {
      "metadata": {
        "id": "p85_34FWVmVA",
        "colab_type": "code",
        "colab": {}
      },
      "cell_type": "code",
      "source": [
        "batch_size = 256\n",
        "train_iter, test_iter = d2l.load_data_fashion_mnist(batch_size)"
      ],
      "execution_count": 0,
      "outputs": []
    },
    {
      "metadata": {
        "id": "0TlbFo_ucKRW",
        "colab_type": "text"
      },
      "cell_type": "markdown",
      "source": [
        "Initialize Model Parameters"
      ]
    },
    {
      "metadata": {
        "id": "5qBy0kX1VyiL",
        "colab_type": "code",
        "colab": {}
      },
      "cell_type": "code",
      "source": [
        "net = nn.Sequential()\n",
        "net.add(nn.Dense(10))\n",
        "net.initialize(init.Normal(sigma=0.01))"
      ],
      "execution_count": 0,
      "outputs": []
    },
    {
      "metadata": {
        "id": "VCvlO5EWcskr",
        "colab_type": "text"
      },
      "cell_type": "markdown",
      "source": [
        "The Softmax"
      ]
    },
    {
      "metadata": {
        "id": "Vu4FaOAVcnYu",
        "colab_type": "code",
        "colab": {}
      },
      "cell_type": "code",
      "source": [
        "# The below loss function is made of computing the softmax and its log all at once\n",
        "loss = gloss.SoftmaxCrossEntropyLoss()"
      ],
      "execution_count": 0,
      "outputs": []
    },
    {
      "metadata": {
        "id": "DSKBENlEgc5a",
        "colab_type": "text"
      },
      "cell_type": "markdown",
      "source": [
        "Optimization Algorithm"
      ]
    },
    {
      "metadata": {
        "id": "71Enbxz5gU5S",
        "colab_type": "code",
        "colab": {}
      },
      "cell_type": "code",
      "source": [
        "trainer = gluon.Trainer(net.collect_params(), 'sgd', {'learning_rate': 0.1})"
      ],
      "execution_count": 0,
      "outputs": []
    },
    {
      "metadata": {
        "id": "3MkMw8pggsYi",
        "colab_type": "text"
      },
      "cell_type": "markdown",
      "source": [
        "Training"
      ]
    },
    {
      "metadata": {
        "id": "Cg8yvEhCgrn7",
        "colab_type": "code",
        "colab": {
          "base_uri": "https://localhost:8080/",
          "height": 102
        },
        "outputId": "01deb23c-46f1-4dbd-fc9f-46e3069fbf1e"
      },
      "cell_type": "code",
      "source": [
        "num_epochs = 5\n",
        "d2l.train_ch3(net, train_iter, test_iter, loss, num_epochs, batch_size, None, None, trainer)"
      ],
      "execution_count": 8,
      "outputs": [
        {
          "output_type": "stream",
          "text": [
            "epoch 1, loss 0.7883, train acc 0.748, test acc 0.801\n",
            "epoch 2, loss 0.5730, train acc 0.810, test acc 0.823\n",
            "epoch 3, loss 0.5289, train acc 0.824, test acc 0.829\n",
            "epoch 4, loss 0.5058, train acc 0.830, test acc 0.834\n",
            "epoch 5, loss 0.4899, train acc 0.834, test acc 0.840\n"
          ],
          "name": "stdout"
        }
      ]
    }
  ]
}