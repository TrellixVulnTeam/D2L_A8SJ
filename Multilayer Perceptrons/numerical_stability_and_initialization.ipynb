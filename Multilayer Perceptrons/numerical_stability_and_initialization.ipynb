{
  "nbformat": 4,
  "nbformat_minor": 0,
  "metadata": {
    "colab": {
      "name": "numerical_stability_and_initialization.ipynb",
      "version": "0.3.2",
      "provenance": [],
      "collapsed_sections": [],
      "include_colab_link": true
    },
    "kernelspec": {
      "name": "python3",
      "display_name": "Python 3"
    },
    "accelerator": "GPU"
  },
  "cells": [
    {
      "cell_type": "markdown",
      "metadata": {
        "id": "view-in-github",
        "colab_type": "text"
      },
      "source": [
        "<a href=\"https://colab.research.google.com/github/prasanth5reddy/D2L/blob/master/Multilayer%20Perceptrons/numerical_stability_and_initialization.ipynb\" target=\"_parent\"><img src=\"https://colab.research.google.com/assets/colab-badge.svg\" alt=\"Open In Colab\"/></a>"
      ]
    },
    {
      "metadata": {
        "id": "g_EfWqnJCQ5b",
        "colab_type": "text"
      },
      "cell_type": "markdown",
      "source": [
        "Mounting Drive"
      ]
    },
    {
      "metadata": {
        "id": "8Pz-_7jtB-Qa",
        "colab_type": "code",
        "colab": {
          "base_uri": "https://localhost:8080/",
          "height": 34
        },
        "outputId": "d061eb33-eb4a-43a3-c63d-6cd183feca96"
      },
      "cell_type": "code",
      "source": [
        "from google.colab import drive\n",
        "drive.mount('/content/drive')\n",
        "\n",
        "import sys\n",
        "sys.path.append('/content/drive/My Drive/Colab/D2L.AI/')"
      ],
      "execution_count": 1,
      "outputs": [
        {
          "output_type": "stream",
          "text": [
            "Drive already mounted at /content/drive; to attempt to forcibly remount, call drive.mount(\"/content/drive\", force_remount=True).\n"
          ],
          "name": "stdout"
        }
      ]
    },
    {
      "metadata": {
        "id": "ltbxDfjpCnW7",
        "colab_type": "text"
      },
      "cell_type": "markdown",
      "source": [
        "Installing Libraries"
      ]
    },
    {
      "metadata": {
        "id": "zruEY-lcCVOa",
        "colab_type": "code",
        "colab": {
          "base_uri": "https://localhost:8080/",
          "height": 153
        },
        "outputId": "ed437ea2-389f-40a0-bdb2-e5cc38963dd9"
      },
      "cell_type": "code",
      "source": [
        "!pip install mxnet"
      ],
      "execution_count": 2,
      "outputs": [
        {
          "output_type": "stream",
          "text": [
            "Requirement already satisfied: mxnet in /usr/local/lib/python3.6/dist-packages (1.4.0.post0)\n",
            "Requirement already satisfied: requests>=2.20.0 in /usr/local/lib/python3.6/dist-packages (from mxnet) (2.21.0)\n",
            "Requirement already satisfied: graphviz<0.9.0,>=0.8.1 in /usr/local/lib/python3.6/dist-packages (from mxnet) (0.8.4)\n",
            "Requirement already satisfied: numpy<1.15.0,>=1.8.2 in /usr/local/lib/python3.6/dist-packages (from mxnet) (1.14.6)\n",
            "Requirement already satisfied: chardet<3.1.0,>=3.0.2 in /usr/local/lib/python3.6/dist-packages (from requests>=2.20.0->mxnet) (3.0.4)\n",
            "Requirement already satisfied: urllib3<1.25,>=1.21.1 in /usr/local/lib/python3.6/dist-packages (from requests>=2.20.0->mxnet) (1.24.2)\n",
            "Requirement already satisfied: certifi>=2017.4.17 in /usr/local/lib/python3.6/dist-packages (from requests>=2.20.0->mxnet) (2019.3.9)\n",
            "Requirement already satisfied: idna<2.9,>=2.5 in /usr/local/lib/python3.6/dist-packages (from requests>=2.20.0->mxnet) (2.8)\n"
          ],
          "name": "stdout"
        }
      ]
    },
    {
      "metadata": {
        "id": "sKPQ-41EDL7I",
        "colab_type": "text"
      },
      "cell_type": "markdown",
      "source": [
        "Importing Libraries"
      ]
    },
    {
      "metadata": {
        "id": "1RUpqHGvCrYG",
        "colab_type": "code",
        "colab": {}
      },
      "cell_type": "code",
      "source": [
        "%matplotlib inline\n",
        "import mxnet as mx\n",
        "from mxnet import nd, autograd\n",
        "from matplotlib import pyplot as plt"
      ],
      "execution_count": 0,
      "outputs": []
    },
    {
      "metadata": {
        "id": "vl_1qzWJDc3c",
        "colab_type": "text"
      },
      "cell_type": "markdown",
      "source": [
        "Vanishing Gradients"
      ]
    },
    {
      "metadata": {
        "id": "HB0b9hPoDbFc",
        "colab_type": "code",
        "colab": {
          "base_uri": "https://localhost:8080/",
          "height": 269
        },
        "outputId": "a19b91bc-c46a-44a6-94a1-1c29a3aa8ad3"
      },
      "cell_type": "code",
      "source": [
        "x = nd.arange(-8.0, 8.0, 0.1)\n",
        "x.attach_grad()\n",
        "with autograd.record():\n",
        "  y = x.sigmoid()\n",
        "  \n",
        "y.backward()\n",
        "\n",
        "plt.figure(figsize=(8, 4))\n",
        "plt.plot(x.asnumpy(), y.asnumpy())\n",
        "plt.plot(x.asnumpy(), x.grad.asnumpy())\n",
        "plt.legend(['sigmoid', 'gradient'])\n",
        "plt.show()"
      ],
      "execution_count": 4,
      "outputs": [
        {
          "output_type": "display_data",
          "data": {
            "image/png": "[encoded data removed]",
            "text/plain": [
              "<Figure size 576x288 with 1 Axes>"
            ]
          },
          "metadata": {
            "tags": []
          }
        }
      ]
    },
    {
      "metadata": {
        "id": "awCUnSOlEVmJ",
        "colab_type": "text"
      },
      "cell_type": "markdown",
      "source": [
        "Exploding Gradients"
      ]
    },
    {
      "metadata": {
        "id": "jhBBGpwID6w_",
        "colab_type": "code",
        "colab": {
          "base_uri": "https://localhost:8080/",
          "height": 221
        },
        "outputId": "11e52e48-8e77-47c8-cfa7-503693593c5b"
      },
      "cell_type": "code",
      "source": [
        "M = nd.random.normal(shape=(4,4))\n",
        "print('A single matirx', M)\n",
        "for i in range(100):\n",
        "  M = nd.dot(M, nd.random.normal(shape=(4,4)))\n",
        "  \n",
        "print('After multiplying 100 matrices', M)"
      ],
      "execution_count": 5,
      "outputs": [
        {
          "output_type": "stream",
          "text": [
            "A single matirx \n",
            "[[ 2.2122064   0.7740038   1.0434403   1.1839255 ]\n",
            " [ 1.8917114  -1.2347414  -1.771029   -0.45138445]\n",
            " [ 0.57938355 -1.856082   -1.9768796  -0.20801921]\n",
            " [ 0.2444218  -0.03716067 -0.48774993 -0.02261727]]\n",
            "<NDArray 4x4 @cpu(0)>\n",
            "After multiplying 100 matrices \n",
            "[[ 3.1575103e+20 -5.0051929e+19  2.0564987e+21 -2.3741814e+20]\n",
            " [-4.6332597e+20  7.3444905e+19 -3.0176524e+21  3.4838102e+20]\n",
            " [-5.8487126e+20  9.2711797e+19 -3.8092833e+21  4.3977313e+20]\n",
            " [-6.2947168e+19  9.9783495e+18 -4.0997847e+20  4.7331007e+19]]\n",
            "<NDArray 4x4 @cpu(0)>\n"
          ],
          "name": "stdout"
        }
      ]
    }
  ]
}