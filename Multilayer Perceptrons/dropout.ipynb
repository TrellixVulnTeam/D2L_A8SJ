{
  "nbformat": 4,
  "nbformat_minor": 0,
  "metadata": {
    "colab": {
      "name": "dropout.ipynb",
      "version": "0.3.2",
      "provenance": [],
      "collapsed_sections": [],
      "include_colab_link": true
    },
    "kernelspec": {
      "name": "python3",
      "display_name": "Python 3"
    },
    "accelerator": "GPU"
  },
  "cells": [
    {
      "cell_type": "markdown",
      "metadata": {
        "id": "view-in-github",
        "colab_type": "text"
      },
      "source": [
        "<a href=\"https://colab.research.google.com/github/prasanth5reddy/D2L/blob/master/Multilayer%20Perceptrons/dropout.ipynb\" target=\"_parent\"><img src=\"https://colab.research.google.com/assets/colab-badge.svg\" alt=\"Open In Colab\"/></a>"
      ]
    },
    {
      "metadata": {
        "id": "s1sQOyc8BEtl",
        "colab_type": "text"
      },
      "cell_type": "markdown",
      "source": [
        "Mounting Drive"
      ]
    },
    {
      "metadata": {
        "id": "rcSe-T_PAyJq",
        "colab_type": "code",
        "colab": {
          "base_uri": "https://localhost:8080/",
          "height": 34
        },
        "outputId": "ebc7c8ed-ab78-48de-c5b0-8d072742bc3a"
      },
      "cell_type": "code",
      "source": [
        "from google.colab import drive\n",
        "drive.mount('/content/drive')\n",
        "\n",
        "import sys\n",
        "sys.path.append('/content/drive/My Drive/Colab/D2L.AI/')"
      ],
      "execution_count": 1,
      "outputs": [
        {
          "output_type": "stream",
          "text": [
            "Drive already mounted at /content/drive; to attempt to forcibly remount, call drive.mount(\"/content/drive\", force_remount=True).\n"
          ],
          "name": "stdout"
        }
      ]
    },
    {
      "metadata": {
        "id": "lxAisy39BKxN",
        "colab_type": "text"
      },
      "cell_type": "markdown",
      "source": [
        "Installing Libraries"
      ]
    },
    {
      "metadata": {
        "id": "Tce08RFFBMa7",
        "colab_type": "code",
        "colab": {
          "base_uri": "https://localhost:8080/",
          "height": 153
        },
        "outputId": "5c5aa8ad-736e-4ffe-8f88-5dc7de6d3a35"
      },
      "cell_type": "code",
      "source": [
        "!pip install mxnet"
      ],
      "execution_count": 2,
      "outputs": [
        {
          "output_type": "stream",
          "text": [
            "Requirement already satisfied: mxnet in /usr/local/lib/python3.6/dist-packages (1.4.0.post0)\n",
            "Requirement already satisfied: graphviz<0.9.0,>=0.8.1 in /usr/local/lib/python3.6/dist-packages (from mxnet) (0.8.4)\n",
            "Requirement already satisfied: requests>=2.20.0 in /usr/local/lib/python3.6/dist-packages (from mxnet) (2.21.0)\n",
            "Requirement already satisfied: numpy<1.15.0,>=1.8.2 in /usr/local/lib/python3.6/dist-packages (from mxnet) (1.14.6)\n",
            "Requirement already satisfied: urllib3<1.25,>=1.21.1 in /usr/local/lib/python3.6/dist-packages (from requests>=2.20.0->mxnet) (1.22)\n",
            "Requirement already satisfied: chardet<3.1.0,>=3.0.2 in /usr/local/lib/python3.6/dist-packages (from requests>=2.20.0->mxnet) (3.0.4)\n",
            "Requirement already satisfied: certifi>=2017.4.17 in /usr/local/lib/python3.6/dist-packages (from requests>=2.20.0->mxnet) (2019.3.9)\n",
            "Requirement already satisfied: idna<2.9,>=2.5 in /usr/local/lib/python3.6/dist-packages (from requests>=2.20.0->mxnet) (2.6)\n"
          ],
          "name": "stdout"
        }
      ]
    },
    {
      "metadata": {
        "id": "HSjTwa_rBM5B",
        "colab_type": "text"
      },
      "cell_type": "markdown",
      "source": [
        "Importing Libraries"
      ]
    },
    {
      "metadata": {
        "id": "1Wv20WjQBP24",
        "colab_type": "code",
        "colab": {}
      },
      "cell_type": "code",
      "source": [
        "import d2l\n",
        "from mxnet import autograd, gluon, nd, init\n",
        "from mxnet.gluon import loss as gloss, nn"
      ],
      "execution_count": 0,
      "outputs": []
    },
    {
      "metadata": {
        "id": "VltuWz9AEUuL",
        "colab_type": "text"
      },
      "cell_type": "markdown",
      "source": [
        "Implementation from Scratch"
      ]
    },
    {
      "metadata": {
        "id": "RZUz-HyaBjfz",
        "colab_type": "text"
      },
      "cell_type": "markdown",
      "source": [
        "Define Dropout Function"
      ]
    },
    {
      "metadata": {
        "id": "vecd18TCBi4m",
        "colab_type": "code",
        "colab": {}
      },
      "cell_type": "code",
      "source": [
        "def dropout(X, drop_prob):\n",
        "  assert 0 <= drop_prob <= 1\n",
        "  # In this case, all elements are dropped out\n",
        "  if drop_prob == 1:\n",
        "    return X.zeros_like()\n",
        "  mask = nd.random.uniform(0, 1, X.shape) > drop_prob\n",
        "  return mask * X / (1.0 - drop_prob)"
      ],
      "execution_count": 0,
      "outputs": []
    },
    {
      "metadata": {
        "id": "XLXewX0cD9-Y",
        "colab_type": "code",
        "colab": {
          "base_uri": "https://localhost:8080/",
          "height": 221
        },
        "outputId": "e2ac1634-7e29-4dd0-c943-acaa1a56e399"
      },
      "cell_type": "code",
      "source": [
        "X = nd.arange(16).reshape((2, 8))\n",
        "print(dropout(X, 0))\n",
        "print(dropout(X, 0.5))\n",
        "print(dropout(X, 1))"
      ],
      "execution_count": 5,
      "outputs": [
        {
          "output_type": "stream",
          "text": [
            "\n",
            "[[ 0.  1.  2.  3.  4.  5.  6.  7.]\n",
            " [ 8.  9. 10. 11. 12. 13. 14. 15.]]\n",
            "<NDArray 2x8 @cpu(0)>\n",
            "\n",
            "[[ 0.  0.  0.  0.  8. 10. 12.  0.]\n",
            " [16.  0. 20. 22.  0.  0.  0. 30.]]\n",
            "<NDArray 2x8 @cpu(0)>\n",
            "\n",
            "[[0. 0. 0. 0. 0. 0. 0. 0.]\n",
            " [0. 0. 0. 0. 0. 0. 0. 0.]]\n",
            "<NDArray 2x8 @cpu(0)>\n"
          ],
          "name": "stdout"
        }
      ]
    },
    {
      "metadata": {
        "id": "i97Ps0axEYt_",
        "colab_type": "text"
      },
      "cell_type": "markdown",
      "source": [
        "Define Model Parameters"
      ]
    },
    {
      "metadata": {
        "id": "0IHcy3IVEA4M",
        "colab_type": "code",
        "colab": {}
      },
      "cell_type": "code",
      "source": [
        "num_inputs, num_outputs, num_hiddens1, num_hiddens2 = 784, 10, 256, 256\n",
        "\n",
        "W1 = nd.random.normal(scale=0.01, shape=(num_inputs, num_hiddens1))\n",
        "b1 = nd.zeros(num_hiddens1)\n",
        "W2 = nd.random.normal(scale=0.01, shape=(num_hiddens1, num_hiddens2))\n",
        "b2 = nd.zeros(num_hiddens2)\n",
        "W3 = nd.random.normal(scale=0.01, shape=(num_hiddens2, num_outputs))\n",
        "b3 = nd.zeros(num_outputs)\n",
        "\n",
        "params = [W1, b1, W2, b2, W3, b3]\n",
        "for param in params:\n",
        "  param.attach_grad()"
      ],
      "execution_count": 0,
      "outputs": []
    },
    {
      "metadata": {
        "id": "5oE9y63fHSIJ",
        "colab_type": "text"
      },
      "cell_type": "markdown",
      "source": [
        "Define the Model"
      ]
    },
    {
      "metadata": {
        "id": "TQKz5hOgFUA2",
        "colab_type": "code",
        "colab": {}
      },
      "cell_type": "code",
      "source": [
        "drop_prob1, drop_prob2 = 0.2, 0.5\n",
        "\n",
        "def net(X):\n",
        "  X = X.reshape(shape=(-1, num_inputs))\n",
        "  H1 = (nd.dot(X, W1) + b1).relu()\n",
        "  # use dropout only when training\n",
        "  if autograd.is_training():\n",
        "    # Add a dropout layer after the first fully connected layer\n",
        "    H1 = dropout(H1, drop_prob1)\n",
        "  H2 = (nd.dot(H1, W2) + b2).relu()\n",
        "  if autograd.is_training():\n",
        "    # Add a dropout layer after the second fully connected layer\n",
        "    H2 = dropout(H2, drop_prob2)\n",
        "  return nd.dot(H2, W3) + b3"
      ],
      "execution_count": 0,
      "outputs": []
    },
    {
      "metadata": {
        "id": "iECRa_b6H_2N",
        "colab_type": "text"
      },
      "cell_type": "markdown",
      "source": [
        "Training and Testing"
      ]
    },
    {
      "metadata": {
        "id": "-aKOn4UkHWZG",
        "colab_type": "code",
        "colab": {
          "base_uri": "https://localhost:8080/",
          "height": 187
        },
        "outputId": "0531c096-9550-4916-cedc-04d51862bf4b"
      },
      "cell_type": "code",
      "source": [
        "num_epochs, lr, batch_size = 10, 0.5, 256\n",
        "loss = gloss.SoftmaxCELoss()\n",
        "train_iter, test_iter = d2l.load_data_fashion_mnist(batch_size)\n",
        "d2l.train_ch3(net, train_iter, test_iter, loss, num_epochs, batch_size, params, lr)"
      ],
      "execution_count": 8,
      "outputs": [
        {
          "output_type": "stream",
          "text": [
            "epoch 1, loss 1.1049, train acc 0.570, test acc 0.760\n",
            "epoch 2, loss 0.5694, train acc 0.788, test acc 0.834\n",
            "epoch 3, loss 0.4894, train acc 0.821, test acc 0.852\n",
            "epoch 4, loss 0.4463, train acc 0.836, test acc 0.862\n",
            "epoch 5, loss 0.4170, train acc 0.848, test acc 0.865\n",
            "epoch 6, loss 0.3945, train acc 0.857, test acc 0.872\n",
            "epoch 7, loss 0.3780, train acc 0.862, test acc 0.867\n",
            "epoch 8, loss 0.3619, train acc 0.868, test acc 0.865\n",
            "epoch 9, loss 0.3559, train acc 0.870, test acc 0.880\n",
            "epoch 10, loss 0.3413, train acc 0.874, test acc 0.880\n"
          ],
          "name": "stdout"
        }
      ]
    },
    {
      "metadata": {
        "id": "yIynO-j0Ioa3",
        "colab_type": "text"
      },
      "cell_type": "markdown",
      "source": [
        "Concise Implementation"
      ]
    },
    {
      "metadata": {
        "id": "sQjEx1I2Iq_D",
        "colab_type": "code",
        "colab": {}
      },
      "cell_type": "code",
      "source": [
        "net = nn.Sequential()\n",
        "net.add(nn.Dense(256, activation='relu'),\n",
        "        # Add a dropout layer after the first fully connected layer\n",
        "        nn.Dropout(drop_prob1),\n",
        "        nn.Dense(256, activation='relu'),\n",
        "        # Add a dropout layer after the second fully connected layer\n",
        "        nn.Dropout(drop_prob2),\n",
        "        nn.Dense(10))\n",
        "net.initialize(init.Normal(sigma=0.01))"
      ],
      "execution_count": 0,
      "outputs": []
    },
    {
      "metadata": {
        "id": "pqQTeS-0JnQ_",
        "colab_type": "code",
        "colab": {
          "base_uri": "https://localhost:8080/",
          "height": 187
        },
        "outputId": "d4793aeb-7fb8-4cd8-d60d-adff2b3ad1ba"
      },
      "cell_type": "code",
      "source": [
        "trainer = gluon.Trainer(net.collect_params(), 'sgd', {'learning_rate': lr})\n",
        "d2l.train_ch3(net, train_iter, test_iter, loss, num_epochs, batch_size, None, None, trainer)"
      ],
      "execution_count": 10,
      "outputs": [
        {
          "output_type": "stream",
          "text": [
            "epoch 1, loss 1.1727, train acc 0.548, test acc 0.777\n",
            "epoch 2, loss 0.5844, train acc 0.782, test acc 0.833\n",
            "epoch 3, loss 0.4983, train acc 0.819, test acc 0.853\n",
            "epoch 4, loss 0.4471, train acc 0.838, test acc 0.856\n",
            "epoch 5, loss 0.4219, train acc 0.846, test acc 0.868\n",
            "epoch 6, loss 0.3989, train acc 0.853, test acc 0.872\n",
            "epoch 7, loss 0.3806, train acc 0.861, test acc 0.868\n",
            "epoch 8, loss 0.3668, train acc 0.867, test acc 0.872\n",
            "epoch 9, loss 0.3544, train acc 0.871, test acc 0.874\n",
            "epoch 10, loss 0.3486, train acc 0.871, test acc 0.872\n"
          ],
          "name": "stdout"
        }
      ]
    }
  ]
}