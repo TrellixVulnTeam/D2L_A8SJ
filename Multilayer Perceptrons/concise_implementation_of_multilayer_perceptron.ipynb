{
  "nbformat": 4,
  "nbformat_minor": 0,
  "metadata": {
    "colab": {
      "name": "concise_implementation_of_multilayer_perceptron.ipynb",
      "version": "0.3.2",
      "provenance": [],
      "collapsed_sections": [],
      "include_colab_link": true
    },
    "kernelspec": {
      "name": "python3",
      "display_name": "Python 3"
    },
    "accelerator": "GPU"
  },
  "cells": [
    {
      "cell_type": "markdown",
      "metadata": {
        "id": "view-in-github",
        "colab_type": "text"
      },
      "source": [
        "<a href=\"https://colab.research.google.com/github/prasanth5reddy/D2L/blob/master/Multilayer%20Perceptrons/concise_implementation_of_multilayer_perceptron.ipynb\" target=\"_parent\"><img src=\"https://colab.research.google.com/assets/colab-badge.svg\" alt=\"Open In Colab\"/></a>"
      ]
    },
    {
      "metadata": {
        "id": "Tx1kXdrpGRyf",
        "colab_type": "text"
      },
      "cell_type": "markdown",
      "source": [
        "Mounting Drive"
      ]
    },
    {
      "metadata": {
        "id": "TWbMUFHxGF0R",
        "colab_type": "code",
        "colab": {
          "base_uri": "https://localhost:8080/",
          "height": 34
        },
        "outputId": "620386b8-42ec-4d9e-f3ae-461ecc6590b4"
      },
      "cell_type": "code",
      "source": [
        "from google.colab import drive\n",
        "drive.mount('/content/drive')\n",
        "\n",
        "import sys\n",
        "sys.path.append('/content/drive/My Drive/Colab/D2L.AI/')"
      ],
      "execution_count": 1,
      "outputs": [
        {
          "output_type": "stream",
          "text": [
            "Drive already mounted at /content/drive; to attempt to forcibly remount, call drive.mount(\"/content/drive\", force_remount=True).\n"
          ],
          "name": "stdout"
        }
      ]
    },
    {
      "metadata": {
        "id": "1XEYg599GWj3",
        "colab_type": "text"
      },
      "cell_type": "markdown",
      "source": [
        "Installing Libraries"
      ]
    },
    {
      "metadata": {
        "id": "sfuYTG1eGWMP",
        "colab_type": "code",
        "colab": {
          "base_uri": "https://localhost:8080/",
          "height": 153
        },
        "outputId": "fef8e5d1-a091-4dc0-c428-6fe7d8d33201"
      },
      "cell_type": "code",
      "source": [
        "!pip install mxnet"
      ],
      "execution_count": 2,
      "outputs": [
        {
          "output_type": "stream",
          "text": [
            "Requirement already satisfied: mxnet in /usr/local/lib/python3.6/dist-packages (1.4.0.post0)\n",
            "Requirement already satisfied: graphviz<0.9.0,>=0.8.1 in /usr/local/lib/python3.6/dist-packages (from mxnet) (0.8.4)\n",
            "Requirement already satisfied: requests>=2.20.0 in /usr/local/lib/python3.6/dist-packages (from mxnet) (2.21.0)\n",
            "Requirement already satisfied: numpy<1.15.0,>=1.8.2 in /usr/local/lib/python3.6/dist-packages (from mxnet) (1.14.6)\n",
            "Requirement already satisfied: chardet<3.1.0,>=3.0.2 in /usr/local/lib/python3.6/dist-packages (from requests>=2.20.0->mxnet) (3.0.4)\n",
            "Requirement already satisfied: idna<2.9,>=2.5 in /usr/local/lib/python3.6/dist-packages (from requests>=2.20.0->mxnet) (2.6)\n",
            "Requirement already satisfied: certifi>=2017.4.17 in /usr/local/lib/python3.6/dist-packages (from requests>=2.20.0->mxnet) (2019.3.9)\n",
            "Requirement already satisfied: urllib3<1.25,>=1.21.1 in /usr/local/lib/python3.6/dist-packages (from requests>=2.20.0->mxnet) (1.22)\n"
          ],
          "name": "stdout"
        }
      ]
    },
    {
      "metadata": {
        "id": "5DiG3vd9Gbl2",
        "colab_type": "text"
      },
      "cell_type": "markdown",
      "source": [
        "Importing Libraries"
      ]
    },
    {
      "metadata": {
        "id": "ntCGERZ0GbCG",
        "colab_type": "code",
        "colab": {}
      },
      "cell_type": "code",
      "source": [
        "import d2l\n",
        "from mxnet import gluon, init\n",
        "from mxnet.gluon import loss as gloss, nn\n",
        "import time"
      ],
      "execution_count": 0,
      "outputs": []
    },
    {
      "metadata": {
        "id": "xsMV4AXFHKTK",
        "colab_type": "text"
      },
      "cell_type": "markdown",
      "source": [
        "Data, Model, Loss and Training"
      ]
    },
    {
      "metadata": {
        "id": "NqQGm-hMHGYC",
        "colab_type": "code",
        "colab": {
          "base_uri": "https://localhost:8080/",
          "height": 204
        },
        "outputId": "d2ea3bb9-06fc-4cbe-f73b-451ac2f4782a"
      },
      "cell_type": "code",
      "source": [
        "batch_size = 256\n",
        "train_iter, test_iter = d2l.load_data_fashion_mnist(batch_size)\n",
        "\n",
        "net = nn.Sequential()\n",
        "net.add(nn.Dense(256, activation='relu'))\n",
        "net.add(nn.Dense(10))\n",
        "net.initialize(init.Normal(sigma=0.01))\n",
        "\n",
        "loss = gloss.SoftmaxCELoss()\n",
        "trainer = gluon.Trainer(net.collect_params(), 'sgd', {'learning_rate' : 0.5})\n",
        "num_epochs = 10\n",
        "start = time.time()\n",
        "d2l.train_ch3(net, train_iter, test_iter, loss, num_epochs, batch_size, None, None, trainer)\n",
        "print('run time : %.2f sec' % (time.time() - start))"
      ],
      "execution_count": 4,
      "outputs": [
        {
          "output_type": "stream",
          "text": [
            "epoch 1, loss 0.8142, train acc 0.695, test acc 0.829\n",
            "epoch 2, loss 0.4861, train acc 0.818, test acc 0.853\n",
            "epoch 3, loss 0.4240, train acc 0.843, test acc 0.850\n",
            "epoch 4, loss 0.3959, train acc 0.854, test acc 0.862\n",
            "epoch 5, loss 0.3719, train acc 0.862, test acc 0.869\n",
            "epoch 6, loss 0.3518, train acc 0.869, test acc 0.877\n",
            "epoch 7, loss 0.3393, train acc 0.875, test acc 0.877\n",
            "epoch 8, loss 0.3257, train acc 0.880, test acc 0.881\n",
            "epoch 9, loss 0.3182, train acc 0.882, test acc 0.877\n",
            "epoch 10, loss 0.3055, train acc 0.887, test acc 0.882\n",
            "run time : 73.18 sec\n"
          ],
          "name": "stdout"
        }
      ]
    }
  ]
}