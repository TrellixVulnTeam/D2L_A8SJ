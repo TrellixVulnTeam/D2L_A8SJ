{
  "nbformat": 4,
  "nbformat_minor": 0,
  "metadata": {
    "colab": {
      "name": "densely_connected_networks_DenseNet.ipynb",
      "version": "0.3.2",
      "provenance": [],
      "collapsed_sections": [],
      "include_colab_link": true
    },
    "kernelspec": {
      "name": "python3",
      "display_name": "Python 3"
    },
    "accelerator": "GPU"
  },
  "cells": [
    {
      "cell_type": "markdown",
      "metadata": {
        "id": "view-in-github",
        "colab_type": "text"
      },
      "source": [
        "<a href=\"https://colab.research.google.com/github/prasanth5reddy/D2L/blob/master/Modern%20Convolutional%20Networks/densely_connected_networks_DenseNet.ipynb\" target=\"_parent\"><img src=\"https://colab.research.google.com/assets/colab-badge.svg\" alt=\"Open In Colab\"/></a>"
      ]
    },
    {
      "cell_type": "markdown",
      "metadata": {
        "id": "VqkGzZzwFnMP",
        "colab_type": "text"
      },
      "source": [
        "Mounting Drive"
      ]
    },
    {
      "cell_type": "code",
      "metadata": {
        "id": "BbRJvNH9Evti",
        "colab_type": "code",
        "outputId": "ddd5c87a-c3a4-4645-954c-5c1a1f8027d0",
        "colab": {
          "base_uri": "https://localhost:8080/",
          "height": 55
        }
      },
      "source": [
        "from google.colab import drive\n",
        "drive.mount('/content/drive')\n",
        "\n",
        "import sys\n",
        "w_dir = '/content/drive/My Drive/Colab/D2L.AI/'\n",
        "sys.path.append(w_dir)"
      ],
      "execution_count": 1,
      "outputs": [
        {
          "output_type": "stream",
          "text": [
            "Drive already mounted at /content/drive; to attempt to forcibly remount, call drive.mount(\"/content/drive\", force_remount=True).\n"
          ],
          "name": "stdout"
        }
      ]
    },
    {
      "cell_type": "markdown",
      "metadata": {
        "id": "vZyrYxwFFo-i",
        "colab_type": "text"
      },
      "source": [
        "Installing Libraries"
      ]
    },
    {
      "cell_type": "code",
      "metadata": {
        "id": "MDVS3KerFmyR",
        "colab_type": "code",
        "outputId": "c2e84831-adc6-423b-96f5-6ef096f7806f",
        "colab": {
          "base_uri": "https://localhost:8080/",
          "height": 193
        }
      },
      "source": [
        "!pip uninstall mxnet && pip install mxnet-cu100"
      ],
      "execution_count": 2,
      "outputs": [
        {
          "output_type": "stream",
          "text": [
            "\u001b[33mWARNING: Skipping mxnet as it is not installed.\u001b[0m\n",
            "Requirement already satisfied: mxnet-cu100 in /usr/local/lib/python3.6/dist-packages (1.4.1)\n",
            "Requirement already satisfied: numpy<1.15.0,>=1.8.2 in /usr/local/lib/python3.6/dist-packages (from mxnet-cu100) (1.14.6)\n",
            "Requirement already satisfied: graphviz<0.9.0,>=0.8.1 in /usr/local/lib/python3.6/dist-packages (from mxnet-cu100) (0.8.4)\n",
            "Requirement already satisfied: requests>=2.20.0 in /usr/local/lib/python3.6/dist-packages (from mxnet-cu100) (2.21.0)\n",
            "Requirement already satisfied: idna<2.9,>=2.5 in /usr/local/lib/python3.6/dist-packages (from requests>=2.20.0->mxnet-cu100) (2.8)\n",
            "Requirement already satisfied: certifi>=2017.4.17 in /usr/local/lib/python3.6/dist-packages (from requests>=2.20.0->mxnet-cu100) (2019.3.9)\n",
            "Requirement already satisfied: urllib3<1.25,>=1.21.1 in /usr/local/lib/python3.6/dist-packages (from requests>=2.20.0->mxnet-cu100) (1.24.3)\n",
            "Requirement already satisfied: chardet<3.1.0,>=3.0.2 in /usr/local/lib/python3.6/dist-packages (from requests>=2.20.0->mxnet-cu100) (3.0.4)\n"
          ],
          "name": "stdout"
        }
      ]
    },
    {
      "cell_type": "markdown",
      "metadata": {
        "id": "9BvxtXeiFvU9",
        "colab_type": "text"
      },
      "source": [
        "Importing Libraries"
      ]
    },
    {
      "cell_type": "code",
      "metadata": {
        "id": "KGnldoYLF0hX",
        "colab_type": "code",
        "colab": {}
      },
      "source": [
        "from mxnet import gluon, init, nd\n",
        "from mxnet.gluon import nn\n",
        "import d2l"
      ],
      "execution_count": 0,
      "outputs": []
    },
    {
      "cell_type": "markdown",
      "metadata": {
        "id": "oL9ehgPG8S9w",
        "colab_type": "text"
      },
      "source": [
        "Dense Blocks"
      ]
    },
    {
      "cell_type": "code",
      "metadata": {
        "id": "tC9jfb-37hke",
        "colab_type": "code",
        "colab": {}
      },
      "source": [
        "def conv_block(num_channels):\n",
        "  blk = nn.Sequential()\n",
        "  blk.add(nn.BatchNorm(),\n",
        "          nn.Activation('relu'),\n",
        "          nn.Conv2D(num_channels, kernel_size=3, padding=1))\n",
        "  return blk"
      ],
      "execution_count": 0,
      "outputs": []
    },
    {
      "cell_type": "code",
      "metadata": {
        "id": "UOy8T-lg8BNi",
        "colab_type": "code",
        "colab": {}
      },
      "source": [
        "class DenseBlock(nn.Block):\n",
        "  def __init__(self, num_convs, num_channels, **kwargs):\n",
        "    super(DenseBlock, self).__init__(**kwargs)\n",
        "    self.net = nn.Sequential()\n",
        "    for _ in range(num_convs):\n",
        "      self.net.add(conv_block(num_channels))\n",
        "      \n",
        "  def forward(self, X):\n",
        "    for blk in self.net:\n",
        "      Y = blk(X)\n",
        "      X = nd.concat(X, Y, dim=1)\n",
        "    \n",
        "    return X"
      ],
      "execution_count": 0,
      "outputs": []
    },
    {
      "cell_type": "code",
      "metadata": {
        "id": "uy6TNn2T9KDA",
        "colab_type": "code",
        "colab": {
          "base_uri": "https://localhost:8080/",
          "height": 35
        },
        "outputId": "ee3acfdc-23e8-427e-aea0-de93a4d484ff"
      },
      "source": [
        "blk = DenseBlock(2, 10)\n",
        "blk.initialize()\n",
        "X = nd.random.uniform(shape=(4, 3, 8, 8))\n",
        "Y = blk(X)\n",
        "Y.shape"
      ],
      "execution_count": 6,
      "outputs": [
        {
          "output_type": "execute_result",
          "data": {
            "text/plain": [
              "(4, 23, 8, 8)"
            ]
          },
          "metadata": {
            "tags": []
          },
          "execution_count": 6
        }
      ]
    },
    {
      "cell_type": "markdown",
      "metadata": {
        "id": "usNOafrC9fgm",
        "colab_type": "text"
      },
      "source": [
        "Transition Layers"
      ]
    },
    {
      "cell_type": "code",
      "metadata": {
        "id": "sQ0cp9DM9ULa",
        "colab_type": "code",
        "colab": {}
      },
      "source": [
        "def transition_block(num_channels):\n",
        "  blk = nn.Sequential()\n",
        "  blk.add(nn.BatchNorm(), nn.Activation('relu'),\n",
        "          nn.Conv2D(num_channels, kernel_size=1),\n",
        "          nn.AvgPool2D(pool_size=2, strides=2))\n",
        "  return blk"
      ],
      "execution_count": 0,
      "outputs": []
    },
    {
      "cell_type": "code",
      "metadata": {
        "id": "VAeN02Ky90Kp",
        "colab_type": "code",
        "colab": {
          "base_uri": "https://localhost:8080/",
          "height": 35
        },
        "outputId": "39e107d8-3e46-4e8e-d2a6-3194d34a9f24"
      },
      "source": [
        "blk = transition_block(10)\n",
        "blk.initialize()\n",
        "blk(Y).shape"
      ],
      "execution_count": 8,
      "outputs": [
        {
          "output_type": "execute_result",
          "data": {
            "text/plain": [
              "(4, 10, 4, 4)"
            ]
          },
          "metadata": {
            "tags": []
          },
          "execution_count": 8
        }
      ]
    },
    {
      "cell_type": "markdown",
      "metadata": {
        "id": "Nsboo7kV98gO",
        "colab_type": "text"
      },
      "source": [
        "DenseNet Model"
      ]
    },
    {
      "cell_type": "code",
      "metadata": {
        "id": "MdiF1u8e954t",
        "colab_type": "code",
        "colab": {}
      },
      "source": [
        "net = nn.Sequential()\n",
        "net.add(nn.Conv2D(64, kernel_size=7, strides=2, padding=3),\n",
        "        nn.BatchNorm(), nn.Activation('relu'),\n",
        "        nn.MaxPool2D(pool_size=3, strides=2, padding=1))"
      ],
      "execution_count": 0,
      "outputs": []
    },
    {
      "cell_type": "code",
      "metadata": {
        "id": "RjfI4kj8-LF2",
        "colab_type": "code",
        "colab": {}
      },
      "source": [
        "num_channels, growth_rate = 64, 32\n",
        "num_convs_in_dense_blocks = [4, 4, 4, 4]\n",
        "\n",
        "for i, num_convs in enumerate(num_convs_in_dense_blocks):\n",
        "  net.add(DenseBlock(num_convs, growth_rate))\n",
        "  num_channels += num_convs * growth_rate\n",
        "  if i != len(num_convs_in_dense_blocks) - 1:\n",
        "    num_channels //= 2\n",
        "    net.add(transition_block(num_channels))"
      ],
      "execution_count": 0,
      "outputs": []
    },
    {
      "cell_type": "code",
      "metadata": {
        "id": "KUJpRC5CB_JG",
        "colab_type": "code",
        "colab": {}
      },
      "source": [
        "net.add(nn.BatchNorm(),\n",
        "        nn.Activation('relu'),\n",
        "        nn.GlobalAvgPool2D(),\n",
        "        nn.Dense(10))"
      ],
      "execution_count": 0,
      "outputs": []
    },
    {
      "cell_type": "markdown",
      "metadata": {
        "id": "RPezsTnZCEMZ",
        "colab_type": "text"
      },
      "source": [
        "Training"
      ]
    },
    {
      "cell_type": "code",
      "metadata": {
        "id": "w9AiFj6dCB7R",
        "colab_type": "code",
        "colab": {
          "base_uri": "https://localhost:8080/",
          "height": 121
        },
        "outputId": "a4932175-b374-46f7-f301-d725eab43ca3"
      },
      "source": [
        "lr, num_epochs, batch_size, ctx = 0.1, 5, 256, d2l.try_gpu()\n",
        "net.initialize(ctx=ctx, init=init.Xavier())\n",
        "trainer = gluon.Trainer(net.collect_params(), 'sgd', {'learning_rate': lr})\n",
        "train_iter, test_iter = d2l.load_data_fashion_mnist(batch_size, resize=96)\n",
        "\n",
        "d2l.train_ch5(net, train_iter, test_iter, batch_size, trainer, ctx, num_epochs)"
      ],
      "execution_count": 12,
      "outputs": [
        {
          "output_type": "stream",
          "text": [
            "training on gpu(0)\n",
            "epoch 1, loss 0.5351, train acc 0.812, test acc 0.760, time 41.6 sec\n",
            "epoch 2, loss 0.3150, train acc 0.886, test acc 0.863, time 39.2 sec\n",
            "epoch 3, loss 0.2651, train acc 0.903, test acc 0.900, time 39.0 sec\n",
            "epoch 4, loss 0.2359, train acc 0.914, test acc 0.912, time 39.3 sec\n",
            "epoch 5, loss 0.2115, train acc 0.923, test acc 0.906, time 39.1 sec\n"
          ],
          "name": "stdout"
        }
      ]
    }
  ]
}