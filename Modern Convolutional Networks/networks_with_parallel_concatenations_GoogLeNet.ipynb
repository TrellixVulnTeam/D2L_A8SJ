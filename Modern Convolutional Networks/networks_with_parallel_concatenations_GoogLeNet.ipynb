{
  "nbformat": 4,
  "nbformat_minor": 0,
  "metadata": {
    "colab": {
      "name": "networks_with_parallel_concatenations_GoogLeNet.ipynb",
      "version": "0.3.2",
      "provenance": [],
      "collapsed_sections": [],
      "include_colab_link": true
    },
    "kernelspec": {
      "name": "python3",
      "display_name": "Python 3"
    },
    "accelerator": "GPU"
  },
  "cells": [
    {
      "cell_type": "markdown",
      "metadata": {
        "id": "view-in-github",
        "colab_type": "text"
      },
      "source": [
        "<a href=\"https://colab.research.google.com/github/prasanth5reddy/D2L/blob/master/Modern%20Convolutional%20Networks/networks_with_parallel_concatenations_GoogLeNet.ipynb\" target=\"_parent\"><img src=\"https://colab.research.google.com/assets/colab-badge.svg\" alt=\"Open In Colab\"/></a>"
      ]
    },
    {
      "cell_type": "markdown",
      "metadata": {
        "id": "VqkGzZzwFnMP",
        "colab_type": "text"
      },
      "source": [
        "Mounting Drive"
      ]
    },
    {
      "cell_type": "code",
      "metadata": {
        "id": "BbRJvNH9Evti",
        "colab_type": "code",
        "outputId": "a364d1b3-cc73-4e42-e5c4-60a6a9e43ce6",
        "colab": {
          "base_uri": "https://localhost:8080/",
          "height": 55
        }
      },
      "source": [
        "from google.colab import drive\n",
        "drive.mount('/content/drive')\n",
        "\n",
        "import sys\n",
        "w_dir = '/content/drive/My Drive/Colab/D2L.AI/'\n",
        "sys.path.append(w_dir)"
      ],
      "execution_count": 1,
      "outputs": [
        {
          "output_type": "stream",
          "text": [
            "Drive already mounted at /content/drive; to attempt to forcibly remount, call drive.mount(\"/content/drive\", force_remount=True).\n"
          ],
          "name": "stdout"
        }
      ]
    },
    {
      "cell_type": "markdown",
      "metadata": {
        "id": "vZyrYxwFFo-i",
        "colab_type": "text"
      },
      "source": [
        "Installing Libraries"
      ]
    },
    {
      "cell_type": "code",
      "metadata": {
        "id": "MDVS3KerFmyR",
        "colab_type": "code",
        "outputId": "c61a182b-455d-4557-e339-5bad6c5244e8",
        "colab": {
          "base_uri": "https://localhost:8080/",
          "height": 193
        }
      },
      "source": [
        "!pip uninstall mxnet && pip install mxnet-cu100"
      ],
      "execution_count": 2,
      "outputs": [
        {
          "output_type": "stream",
          "text": [
            "\u001b[33mWARNING: Skipping mxnet as it is not installed.\u001b[0m\n",
            "Requirement already satisfied: mxnet-cu100 in /usr/local/lib/python3.6/dist-packages (1.4.1)\n",
            "Requirement already satisfied: requests>=2.20.0 in /usr/local/lib/python3.6/dist-packages (from mxnet-cu100) (2.21.0)\n",
            "Requirement already satisfied: numpy<1.15.0,>=1.8.2 in /usr/local/lib/python3.6/dist-packages (from mxnet-cu100) (1.14.6)\n",
            "Requirement already satisfied: graphviz<0.9.0,>=0.8.1 in /usr/local/lib/python3.6/dist-packages (from mxnet-cu100) (0.8.4)\n",
            "Requirement already satisfied: chardet<3.1.0,>=3.0.2 in /usr/local/lib/python3.6/dist-packages (from requests>=2.20.0->mxnet-cu100) (3.0.4)\n",
            "Requirement already satisfied: urllib3<1.25,>=1.21.1 in /usr/local/lib/python3.6/dist-packages (from requests>=2.20.0->mxnet-cu100) (1.24.3)\n",
            "Requirement already satisfied: certifi>=2017.4.17 in /usr/local/lib/python3.6/dist-packages (from requests>=2.20.0->mxnet-cu100) (2019.3.9)\n",
            "Requirement already satisfied: idna<2.9,>=2.5 in /usr/local/lib/python3.6/dist-packages (from requests>=2.20.0->mxnet-cu100) (2.8)\n"
          ],
          "name": "stdout"
        }
      ]
    },
    {
      "cell_type": "markdown",
      "metadata": {
        "id": "9BvxtXeiFvU9",
        "colab_type": "text"
      },
      "source": [
        "Importing Libraries"
      ]
    },
    {
      "cell_type": "code",
      "metadata": {
        "id": "KGnldoYLF0hX",
        "colab_type": "code",
        "colab": {}
      },
      "source": [
        "from mxnet import gluon, init, nd\n",
        "from mxnet.gluon import nn\n",
        "import d2l"
      ],
      "execution_count": 0,
      "outputs": []
    },
    {
      "cell_type": "markdown",
      "metadata": {
        "id": "G4GujlAeOBSm",
        "colab_type": "text"
      },
      "source": [
        "Inception Blocks"
      ]
    },
    {
      "cell_type": "code",
      "metadata": {
        "id": "YA2Pr1sLNxS4",
        "colab_type": "code",
        "colab": {}
      },
      "source": [
        "class Inception(nn.Block):\n",
        "  def __init__(self, c1, c2, c3, c4, **kwargs):\n",
        "    super(Inception, self).__init__(**kwargs)\n",
        "    # Path 1 is a single 1 x 1 convolutional layer\n",
        "    self.p1_1 = nn.Conv2D(c1, kernel_size=1, activation='relu')\n",
        "    # Path 2 is a 1 x 1 convolutional layer followed by a 3 x 3 convolutional layer\n",
        "    self.p2_1 = nn.Conv2D(c2[0], kernel_size=1, activation='relu')\n",
        "    self.p2_2 = nn.Conv2D(c2[1], kernel_size=3, padding=1, activation='relu')\n",
        "    # Path 3 is a 1 x 1 convolutional layer followed by a 5 x 5 convolutional layer\n",
        "    self.p3_1 = nn.Conv2D(c3[0], kernel_size=1, activation='relu')\n",
        "    self.p3_2 = nn.Conv2D(c3[1], kernel_size=5, padding=2, activation='relu')\n",
        "    # Path 4 is a 3 x 3 maximum pooling layer followed by a 1 x 1 convolutional layer\n",
        "    self.p4_1 = nn.MaxPool2D(pool_size=3, strides=1, padding=1)\n",
        "    self.p4_2 = nn.Conv2D(c4, kernel_size=1, activation='relu')\n",
        "    \n",
        "  def forward(self, x):\n",
        "    p1 = self.p1_1(x)\n",
        "    p2 = self.p2_2(self.p2_1(x))\n",
        "    p3 = self.p3_2(self.p3_1(x))\n",
        "    p4 = self.p4_2(self.p4_1(x))\n",
        "    # Concatenate the outputs on the channel dimension\n",
        "    return nd.concat(p1, p2, p3, p4, dim=1)\n",
        "    "
      ],
      "execution_count": 0,
      "outputs": []
    },
    {
      "cell_type": "markdown",
      "metadata": {
        "id": "cMWCD16PPoA-",
        "colab_type": "text"
      },
      "source": [
        "GoogLeNet Model"
      ]
    },
    {
      "cell_type": "code",
      "metadata": {
        "id": "Le_RRNDkPgiQ",
        "colab_type": "code",
        "colab": {}
      },
      "source": [
        "b1 = nn.Sequential()\n",
        "b1.add(nn.Conv2D(64, kernel_size=7, strides=2, padding=3, activation='relu'),\n",
        "       nn.MaxPool2D(pool_size=3, strides=2, padding=1))"
      ],
      "execution_count": 0,
      "outputs": []
    },
    {
      "cell_type": "code",
      "metadata": {
        "id": "bQIaw78uQQvV",
        "colab_type": "code",
        "colab": {}
      },
      "source": [
        "b2 = nn.Sequential()\n",
        "b2.add(nn.Conv2D(64, kernel_size=1, activation='relu'),\n",
        "       nn.Conv2D(192, kernel_size=3, padding=1, activation='relu'),\n",
        "       nn.MaxPool2D(pool_size=3, strides=2, padding=1))"
      ],
      "execution_count": 0,
      "outputs": []
    },
    {
      "cell_type": "code",
      "metadata": {
        "id": "Rh4Bs6wFQV4U",
        "colab_type": "code",
        "colab": {}
      },
      "source": [
        "b3 = nn.Sequential()\n",
        "b3.add(Inception(64, (96, 128), (16, 32), 32),\n",
        "       Inception(128, (128, 192), (32, 96), 64),\n",
        "       nn.MaxPool2D(pool_size=3, strides=2, padding=1))"
      ],
      "execution_count": 0,
      "outputs": []
    },
    {
      "cell_type": "code",
      "metadata": {
        "id": "t6RZjkvHQv-i",
        "colab_type": "code",
        "colab": {}
      },
      "source": [
        "b4 = nn.Sequential()\n",
        "b4.add(Inception(192, (96, 208), (16, 48), 64),\n",
        "       Inception(160, (112, 224), (24, 64), 64),\n",
        "       Inception(128, (128, 256), (24, 64), 64),\n",
        "       Inception(112, (144, 288), (32, 64), 64),\n",
        "       Inception(256, (160, 320), (32, 128), 128),\n",
        "       nn.MaxPool2D(pool_size=3, strides=2, padding=1))"
      ],
      "execution_count": 0,
      "outputs": []
    },
    {
      "cell_type": "code",
      "metadata": {
        "id": "D1TjY0UmQ6Pm",
        "colab_type": "code",
        "colab": {}
      },
      "source": [
        "b5 = nn.Sequential()\n",
        "b5.add(Inception(256, (160, 320), (32, 128), 128),\n",
        "       Inception(384, (192, 384), (48, 128), 128),\n",
        "       nn.GlobalAvgPool2D())"
      ],
      "execution_count": 0,
      "outputs": []
    },
    {
      "cell_type": "code",
      "metadata": {
        "id": "vzPtkyJURCad",
        "colab_type": "code",
        "colab": {}
      },
      "source": [
        "net = nn.Sequential()\n",
        "net.add(b1, b2, b3, b4, b5, nn.Dense(10))"
      ],
      "execution_count": 0,
      "outputs": []
    },
    {
      "cell_type": "code",
      "metadata": {
        "id": "kQCVIWijRHzU",
        "colab_type": "code",
        "colab": {
          "base_uri": "https://localhost:8080/",
          "height": 121
        },
        "outputId": "835c5b28-cd80-41e5-ca1c-8ce6ecf6164a"
      },
      "source": [
        "X = nd.random.uniform(shape=(1, 1, 96, 96))\n",
        "net.initialize()\n",
        "for layer in net:\n",
        "  X = layer(X)\n",
        "  print(layer.name, 'output shape:\\t', X.shape)"
      ],
      "execution_count": 11,
      "outputs": [
        {
          "output_type": "stream",
          "text": [
            "sequential0 output shape:\t (1, 64, 24, 24)\n",
            "sequential1 output shape:\t (1, 192, 12, 12)\n",
            "sequential2 output shape:\t (1, 480, 6, 6)\n",
            "sequential3 output shape:\t (1, 832, 3, 3)\n",
            "sequential4 output shape:\t (1, 1024, 1, 1)\n",
            "dense0 output shape:\t (1, 10)\n"
          ],
          "name": "stdout"
        }
      ]
    },
    {
      "cell_type": "markdown",
      "metadata": {
        "id": "VqKUvYgWRUxu",
        "colab_type": "text"
      },
      "source": [
        "Training"
      ]
    },
    {
      "cell_type": "code",
      "metadata": {
        "id": "h4nPBRQ5RJz7",
        "colab_type": "code",
        "colab": {
          "base_uri": "https://localhost:8080/",
          "height": 121
        },
        "outputId": "885bb019-3b53-40dc-f330-f2e06caabbd9"
      },
      "source": [
        "lr, num_epochs, batch_size, ctx = 0.1, 5, 128, d2l.try_gpu()\n",
        "net.initialize(force_reinit=True, ctx=ctx, init=init.Xavier())\n",
        "trainer = gluon.Trainer(net.collect_params(), 'sgd', {'learning_rate': lr})\n",
        "train_iter, test_iter = d2l.load_data_fashion_mnist(batch_size, resize=96)\n",
        "\n",
        "d2l.train_ch5(net, train_iter, test_iter, batch_size, trainer, ctx, num_epochs)"
      ],
      "execution_count": 12,
      "outputs": [
        {
          "output_type": "stream",
          "text": [
            "training on gpu(0)\n",
            "epoch 1, loss 2.2696, train acc 0.150, test acc 0.175, time 60.5 sec\n",
            "epoch 2, loss 1.2481, train acc 0.501, test acc 0.673, time 56.5 sec\n",
            "epoch 3, loss 0.6427, train acc 0.756, test acc 0.796, time 57.2 sec\n",
            "epoch 4, loss 0.4601, train acc 0.826, test acc 0.840, time 56.3 sec\n",
            "epoch 5, loss 0.3825, train acc 0.856, test acc 0.869, time 56.6 sec\n"
          ],
          "name": "stdout"
        }
      ]
    }
  ]
}